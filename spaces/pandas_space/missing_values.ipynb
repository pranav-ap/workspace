{
 "cells": [
  {
   "cell_type": "code",
   "id": "391f609b-2b61-4759-abd6-7ccba0af54ac",
   "metadata": {
    "ExecuteTime": {
     "end_time": "2024-09-01T19:49:47.213674Z",
     "start_time": "2024-09-01T19:49:47.205362Z"
    }
   },
   "source": [
    "import numpy as np\n",
    "import pandas as pd\n",
    "\n",
    "pd.set_option('display.max_columns', None)"
   ],
   "outputs": [],
   "execution_count": 1
  },
  {
   "cell_type": "markdown",
   "id": "5dfa647b-c08b-4163-8635-cab14a5a3fb2",
   "metadata": {},
   "source": "# Arithmetic"
  },
  {
   "cell_type": "code",
   "id": "cb4afe90-ad18-446a-a391-185f66de5ea6",
   "metadata": {
    "ExecuteTime": {
     "end_time": "2024-09-01T19:49:47.225780Z",
     "start_time": "2024-09-01T19:49:47.218696Z"
    }
   },
   "source": "# None + 5 # is a type error",
   "outputs": [],
   "execution_count": 2
  },
  {
   "cell_type": "code",
   "id": "5c8d4e2f-01bd-452d-8652-8b093f89fcad",
   "metadata": {
    "ExecuteTime": {
     "end_time": "2024-09-01T19:49:47.245976Z",
     "start_time": "2024-09-01T19:49:47.228796Z"
    }
   },
   "source": [
    "np.nan + 5"
   ],
   "outputs": [
    {
     "data": {
      "text/plain": [
       "nan"
      ]
     },
     "execution_count": 3,
     "metadata": {},
     "output_type": "execute_result"
    }
   ],
   "execution_count": 3
  },
  {
   "cell_type": "markdown",
   "id": "80a59575-ca9e-4d07-a583-dd7d1c0c3d3f",
   "metadata": {},
   "source": "# Automatic Conversion"
  },
  {
   "cell_type": "code",
   "id": "e3979d21-9fd0-473d-b7c5-adc37c9f47db",
   "metadata": {
    "ExecuteTime": {
     "end_time": "2024-09-01T19:49:47.264803Z",
     "start_time": "2024-09-01T19:49:47.248995Z"
    }
   },
   "source": [
    "# For numeric Series, None converted to NaN\n",
    "pd.Series([3, None, np.nan]) "
   ],
   "outputs": [
    {
     "data": {
      "text/plain": [
       "0    3.0\n",
       "1    NaN\n",
       "2    NaN\n",
       "dtype: float64"
      ]
     },
     "execution_count": 4,
     "metadata": {},
     "output_type": "execute_result"
    }
   ],
   "execution_count": 4
  },
  {
   "cell_type": "code",
   "id": "73367b1d-877a-492b-8c1e-74ec5b61a9f7",
   "metadata": {
    "ExecuteTime": {
     "end_time": "2024-09-01T19:49:47.282028Z",
     "start_time": "2024-09-01T19:49:47.268827Z"
    }
   },
   "source": [
    "# For non-numeric Series, None does not get casted to NaN\n",
    "pd.Series([\"3\", None, np.nan])"
   ],
   "outputs": [
    {
     "data": {
      "text/plain": [
       "0       3\n",
       "1    None\n",
       "2     NaN\n",
       "dtype: object"
      ]
     },
     "execution_count": 5,
     "metadata": {},
     "output_type": "execute_result"
    }
   ],
   "execution_count": 5
  },
  {
   "cell_type": "markdown",
   "id": "35cadc54-37fa-4a79-a076-0d4507483aa9",
   "metadata": {},
   "source": "# Equality"
  },
  {
   "cell_type": "code",
   "id": "e687d016-5753-40d4-8c35-883210a913f8",
   "metadata": {
    "ExecuteTime": {
     "end_time": "2024-09-01T19:49:47.294801Z",
     "start_time": "2024-09-01T19:49:47.285042Z"
    }
   },
   "source": [
    "None == None"
   ],
   "outputs": [
    {
     "data": {
      "text/plain": [
       "True"
      ]
     },
     "execution_count": 6,
     "metadata": {},
     "output_type": "execute_result"
    }
   ],
   "execution_count": 6
  },
  {
   "cell_type": "code",
   "id": "1e31cfce-006b-42ea-aee1-c28970a5e9d5",
   "metadata": {
    "ExecuteTime": {
     "end_time": "2024-09-01T19:49:47.309789Z",
     "start_time": "2024-09-01T19:49:47.300820Z"
    }
   },
   "source": [
    "np.nan == np.nan"
   ],
   "outputs": [
    {
     "data": {
      "text/plain": [
       "False"
      ]
     },
     "execution_count": 7,
     "metadata": {},
     "output_type": "execute_result"
    }
   ],
   "execution_count": 7
  },
  {
   "cell_type": "code",
   "id": "77f0e78e-4bfa-48e7-a433-8b7cf601566d",
   "metadata": {
    "ExecuteTime": {
     "end_time": "2024-09-01T19:49:47.322335Z",
     "start_time": "2024-09-01T19:49:47.312813Z"
    }
   },
   "source": [
    "# equating anything with NaN will result in False:\n",
    "np.nan == None"
   ],
   "outputs": [
    {
     "data": {
      "text/plain": [
       "False"
      ]
     },
     "execution_count": 8,
     "metadata": {},
     "output_type": "execute_result"
    }
   ],
   "execution_count": 8
  },
  {
   "cell_type": "markdown",
   "id": "be707b88-a9b9-4fe9-ad14-46345e06cfa4",
   "metadata": {},
   "source": "# Detect Missing Values"
  },
  {
   "cell_type": "code",
   "id": "dab6a57b-16ed-4017-a0e1-d36b8847c599",
   "metadata": {
    "ExecuteTime": {
     "end_time": "2024-09-01T19:49:47.336569Z",
     "start_time": "2024-09-01T19:49:47.325348Z"
    }
   },
   "source": [
    "# to check nan or None\n",
    "pd.isnull(np.nan)"
   ],
   "outputs": [
    {
     "data": {
      "text/plain": [
       "True"
      ]
     },
     "execution_count": 9,
     "metadata": {},
     "output_type": "execute_result"
    }
   ],
   "execution_count": 9
  },
  {
   "cell_type": "code",
   "id": "f05aa8d5-5b32-438a-bd2a-56e03a0babe4",
   "metadata": {
    "ExecuteTime": {
     "end_time": "2024-09-01T19:49:47.353053Z",
     "start_time": "2024-09-01T19:49:47.340600Z"
    }
   },
   "source": [
    "pd.isnull(None)"
   ],
   "outputs": [
    {
     "data": {
      "text/plain": [
       "True"
      ]
     },
     "execution_count": 10,
     "metadata": {},
     "output_type": "execute_result"
    }
   ],
   "execution_count": 10
  },
  {
   "cell_type": "markdown",
   "id": "4d7ac88b-7b2d-4efa-95bd-958f772aa09d",
   "metadata": {},
   "source": "## Series"
  },
  {
   "cell_type": "code",
   "id": "31937eb5-6410-4905-bf93-c1266ae7304d",
   "metadata": {
    "ExecuteTime": {
     "end_time": "2024-09-01T19:49:47.365032Z",
     "start_time": "2024-09-01T19:49:47.358032Z"
    }
   },
   "source": [
    "data = pd.Series([1, np.nan, 'hello', None])"
   ],
   "outputs": [],
   "execution_count": 11
  },
  {
   "cell_type": "code",
   "id": "60a25710-b446-4efd-b384-b0d7ee246ab4",
   "metadata": {
    "ExecuteTime": {
     "end_time": "2024-09-01T19:49:47.379376Z",
     "start_time": "2024-09-01T19:49:47.368053Z"
    }
   },
   "source": [
    "data.isnull()"
   ],
   "outputs": [
    {
     "data": {
      "text/plain": [
       "0    False\n",
       "1     True\n",
       "2    False\n",
       "3     True\n",
       "dtype: bool"
      ]
     },
     "execution_count": 12,
     "metadata": {},
     "output_type": "execute_result"
    }
   ],
   "execution_count": 12
  },
  {
   "metadata": {
    "ExecuteTime": {
     "end_time": "2024-09-01T19:49:47.392576Z",
     "start_time": "2024-09-01T19:49:47.382390Z"
    }
   },
   "cell_type": "code",
   "source": "data.isnull().sum()",
   "id": "563f11f2e6a8a72b",
   "outputs": [
    {
     "data": {
      "text/plain": [
       "np.int64(2)"
      ]
     },
     "execution_count": 13,
     "metadata": {},
     "output_type": "execute_result"
    }
   ],
   "execution_count": 13
  },
  {
   "cell_type": "code",
   "id": "5700e6e0-cfcf-41d2-a219-65ce1cdd3d65",
   "metadata": {
    "ExecuteTime": {
     "end_time": "2024-09-01T19:49:47.407414Z",
     "start_time": "2024-09-01T19:49:47.395593Z"
    }
   },
   "source": [
    "data[data.notnull()]"
   ],
   "outputs": [
    {
     "data": {
      "text/plain": [
       "0        1\n",
       "2    hello\n",
       "dtype: object"
      ]
     },
     "execution_count": 14,
     "metadata": {},
     "output_type": "execute_result"
    }
   ],
   "execution_count": 14
  },
  {
   "cell_type": "markdown",
   "id": "c5531dbb-8f6b-4a40-af66-0a01ddbe8780",
   "metadata": {},
   "source": "## DataFrame"
  },
  {
   "cell_type": "code",
   "id": "6e12cd16-c5ee-4f0f-9ca1-5e2b9246f2e5",
   "metadata": {
    "ExecuteTime": {
     "end_time": "2024-09-01T19:49:47.439937Z",
     "start_time": "2024-09-01T19:49:47.411437Z"
    }
   },
   "source": [
    "df = pd.DataFrame([[1, np.nan, 2],\n",
    "                   [2, 3, 5],\n",
    "                   [np.nan, 4, 6]],\n",
    "                  columns=['a', 'b', 'c'])\n",
    "df"
   ],
   "outputs": [
    {
     "data": {
      "text/plain": [
       "     a    b  c\n",
       "0  1.0  NaN  2\n",
       "1  2.0  3.0  5\n",
       "2  NaN  4.0  6"
      ],
      "text/html": [
       "<div>\n",
       "<style scoped>\n",
       "    .dataframe tbody tr th:only-of-type {\n",
       "        vertical-align: middle;\n",
       "    }\n",
       "\n",
       "    .dataframe tbody tr th {\n",
       "        vertical-align: top;\n",
       "    }\n",
       "\n",
       "    .dataframe thead th {\n",
       "        text-align: right;\n",
       "    }\n",
       "</style>\n",
       "<table border=\"1\" class=\"dataframe\">\n",
       "  <thead>\n",
       "    <tr style=\"text-align: right;\">\n",
       "      <th></th>\n",
       "      <th>a</th>\n",
       "      <th>b</th>\n",
       "      <th>c</th>\n",
       "    </tr>\n",
       "  </thead>\n",
       "  <tbody>\n",
       "    <tr>\n",
       "      <th>0</th>\n",
       "      <td>1.0</td>\n",
       "      <td>NaN</td>\n",
       "      <td>2</td>\n",
       "    </tr>\n",
       "    <tr>\n",
       "      <th>1</th>\n",
       "      <td>2.0</td>\n",
       "      <td>3.0</td>\n",
       "      <td>5</td>\n",
       "    </tr>\n",
       "    <tr>\n",
       "      <th>2</th>\n",
       "      <td>NaN</td>\n",
       "      <td>4.0</td>\n",
       "      <td>6</td>\n",
       "    </tr>\n",
       "  </tbody>\n",
       "</table>\n",
       "</div>"
      ]
     },
     "execution_count": 15,
     "metadata": {},
     "output_type": "execute_result"
    }
   ],
   "execution_count": 15
  },
  {
   "cell_type": "code",
   "id": "a9033794-d490-4f41-86f3-96cb7c358b46",
   "metadata": {
    "ExecuteTime": {
     "end_time": "2024-09-01T19:49:47.464112Z",
     "start_time": "2024-09-01T19:49:47.445968Z"
    }
   },
   "source": [
    "df.isnull()"
   ],
   "outputs": [
    {
     "data": {
      "text/plain": [
       "       a      b      c\n",
       "0  False   True  False\n",
       "1  False  False  False\n",
       "2   True  False  False"
      ],
      "text/html": [
       "<div>\n",
       "<style scoped>\n",
       "    .dataframe tbody tr th:only-of-type {\n",
       "        vertical-align: middle;\n",
       "    }\n",
       "\n",
       "    .dataframe tbody tr th {\n",
       "        vertical-align: top;\n",
       "    }\n",
       "\n",
       "    .dataframe thead th {\n",
       "        text-align: right;\n",
       "    }\n",
       "</style>\n",
       "<table border=\"1\" class=\"dataframe\">\n",
       "  <thead>\n",
       "    <tr style=\"text-align: right;\">\n",
       "      <th></th>\n",
       "      <th>a</th>\n",
       "      <th>b</th>\n",
       "      <th>c</th>\n",
       "    </tr>\n",
       "  </thead>\n",
       "  <tbody>\n",
       "    <tr>\n",
       "      <th>0</th>\n",
       "      <td>False</td>\n",
       "      <td>True</td>\n",
       "      <td>False</td>\n",
       "    </tr>\n",
       "    <tr>\n",
       "      <th>1</th>\n",
       "      <td>False</td>\n",
       "      <td>False</td>\n",
       "      <td>False</td>\n",
       "    </tr>\n",
       "    <tr>\n",
       "      <th>2</th>\n",
       "      <td>True</td>\n",
       "      <td>False</td>\n",
       "      <td>False</td>\n",
       "    </tr>\n",
       "  </tbody>\n",
       "</table>\n",
       "</div>"
      ]
     },
     "execution_count": 16,
     "metadata": {},
     "output_type": "execute_result"
    }
   ],
   "execution_count": 16
  },
  {
   "cell_type": "code",
   "id": "e45f1f4b-7bac-4c1d-a71a-812716a77676",
   "metadata": {
    "ExecuteTime": {
     "end_time": "2024-09-01T19:49:47.569829Z",
     "start_time": "2024-09-01T19:49:47.556183Z"
    }
   },
   "source": [
    "# column wise number of nulls\n",
    "df.isnull().sum()"
   ],
   "outputs": [
    {
     "data": {
      "text/plain": [
       "a    1\n",
       "b    1\n",
       "c    0\n",
       "dtype: int64"
      ]
     },
     "execution_count": 17,
     "metadata": {},
     "output_type": "execute_result"
    }
   ],
   "execution_count": 17
  },
  {
   "cell_type": "markdown",
   "id": "b8075cf0-7f03-4a33-bfcd-3dd2c4823493",
   "metadata": {},
   "source": "# Dropping Null Values"
  },
  {
   "cell_type": "markdown",
   "id": "50570b07-469a-4cbb-9f68-c041bc0f6c3b",
   "metadata": {},
   "source": "## Series"
  },
  {
   "cell_type": "code",
   "id": "608c334c-5655-4363-8f67-0073821cf4db",
   "metadata": {
    "ExecuteTime": {
     "end_time": "2024-09-01T19:49:48.767267Z",
     "start_time": "2024-09-01T19:49:48.754026Z"
    }
   },
   "source": [
    "data"
   ],
   "outputs": [
    {
     "data": {
      "text/plain": [
       "0        1\n",
       "1      NaN\n",
       "2    hello\n",
       "3     None\n",
       "dtype: object"
      ]
     },
     "execution_count": 18,
     "metadata": {},
     "output_type": "execute_result"
    }
   ],
   "execution_count": 18
  },
  {
   "cell_type": "code",
   "id": "cd36cedd-96c2-4696-a21f-40cc16022b7b",
   "metadata": {
    "ExecuteTime": {
     "end_time": "2024-09-01T19:49:49.681500Z",
     "start_time": "2024-09-01T19:49:49.667043Z"
    }
   },
   "source": [
    "data.dropna()"
   ],
   "outputs": [
    {
     "data": {
      "text/plain": [
       "0        1\n",
       "2    hello\n",
       "dtype: object"
      ]
     },
     "execution_count": 19,
     "metadata": {},
     "output_type": "execute_result"
    }
   ],
   "execution_count": 19
  },
  {
   "cell_type": "markdown",
   "id": "db7ba849-7b22-411f-932f-60be42b71e29",
   "metadata": {},
   "source": "## DataFrame"
  },
  {
   "cell_type": "code",
   "id": "e6aa9b5a-b025-4eae-86dd-945c38c57420",
   "metadata": {
    "ExecuteTime": {
     "end_time": "2024-09-01T19:49:50.120172Z",
     "start_time": "2024-09-01T19:49:50.099136Z"
    }
   },
   "source": [
    "df = pd.DataFrame([[1, np.nan, 2],\n",
    "                   [2, 3, 5],\n",
    "                   [np.nan, 4, 6]],\n",
    "                  columns=['a', 'b', 'c'])\n",
    "\n",
    "df"
   ],
   "outputs": [
    {
     "data": {
      "text/plain": [
       "     a    b  c\n",
       "0  1.0  NaN  2\n",
       "1  2.0  3.0  5\n",
       "2  NaN  4.0  6"
      ],
      "text/html": [
       "<div>\n",
       "<style scoped>\n",
       "    .dataframe tbody tr th:only-of-type {\n",
       "        vertical-align: middle;\n",
       "    }\n",
       "\n",
       "    .dataframe tbody tr th {\n",
       "        vertical-align: top;\n",
       "    }\n",
       "\n",
       "    .dataframe thead th {\n",
       "        text-align: right;\n",
       "    }\n",
       "</style>\n",
       "<table border=\"1\" class=\"dataframe\">\n",
       "  <thead>\n",
       "    <tr style=\"text-align: right;\">\n",
       "      <th></th>\n",
       "      <th>a</th>\n",
       "      <th>b</th>\n",
       "      <th>c</th>\n",
       "    </tr>\n",
       "  </thead>\n",
       "  <tbody>\n",
       "    <tr>\n",
       "      <th>0</th>\n",
       "      <td>1.0</td>\n",
       "      <td>NaN</td>\n",
       "      <td>2</td>\n",
       "    </tr>\n",
       "    <tr>\n",
       "      <th>1</th>\n",
       "      <td>2.0</td>\n",
       "      <td>3.0</td>\n",
       "      <td>5</td>\n",
       "    </tr>\n",
       "    <tr>\n",
       "      <th>2</th>\n",
       "      <td>NaN</td>\n",
       "      <td>4.0</td>\n",
       "      <td>6</td>\n",
       "    </tr>\n",
       "  </tbody>\n",
       "</table>\n",
       "</div>"
      ]
     },
     "execution_count": 20,
     "metadata": {},
     "output_type": "execute_result"
    }
   ],
   "execution_count": 20
  },
  {
   "cell_type": "code",
   "id": "5e315c6c-af24-46b4-a9aa-cbf1b3fd0b06",
   "metadata": {
    "ExecuteTime": {
     "end_time": "2024-09-01T19:49:51.023822Z",
     "start_time": "2024-09-01T19:49:51.003192Z"
    }
   },
   "source": [
    "# by default drop rows with any nulls\n",
    "df.dropna() "
   ],
   "outputs": [
    {
     "data": {
      "text/plain": [
       "     a    b  c\n",
       "1  2.0  3.0  5"
      ],
      "text/html": [
       "<div>\n",
       "<style scoped>\n",
       "    .dataframe tbody tr th:only-of-type {\n",
       "        vertical-align: middle;\n",
       "    }\n",
       "\n",
       "    .dataframe tbody tr th {\n",
       "        vertical-align: top;\n",
       "    }\n",
       "\n",
       "    .dataframe thead th {\n",
       "        text-align: right;\n",
       "    }\n",
       "</style>\n",
       "<table border=\"1\" class=\"dataframe\">\n",
       "  <thead>\n",
       "    <tr style=\"text-align: right;\">\n",
       "      <th></th>\n",
       "      <th>a</th>\n",
       "      <th>b</th>\n",
       "      <th>c</th>\n",
       "    </tr>\n",
       "  </thead>\n",
       "  <tbody>\n",
       "    <tr>\n",
       "      <th>1</th>\n",
       "      <td>2.0</td>\n",
       "      <td>3.0</td>\n",
       "      <td>5</td>\n",
       "    </tr>\n",
       "  </tbody>\n",
       "</table>\n",
       "</div>"
      ]
     },
     "execution_count": 21,
     "metadata": {},
     "output_type": "execute_result"
    }
   ],
   "execution_count": 21
  },
  {
   "cell_type": "code",
   "id": "ba56663a-8de4-4eda-bb9d-0de08f74c402",
   "metadata": {
    "ExecuteTime": {
     "end_time": "2024-09-01T19:49:51.247285Z",
     "start_time": "2024-09-01T19:49:51.230687Z"
    }
   },
   "source": [
    "df.dropna(axis='columns')"
   ],
   "outputs": [
    {
     "data": {
      "text/plain": [
       "   c\n",
       "0  2\n",
       "1  5\n",
       "2  6"
      ],
      "text/html": [
       "<div>\n",
       "<style scoped>\n",
       "    .dataframe tbody tr th:only-of-type {\n",
       "        vertical-align: middle;\n",
       "    }\n",
       "\n",
       "    .dataframe tbody tr th {\n",
       "        vertical-align: top;\n",
       "    }\n",
       "\n",
       "    .dataframe thead th {\n",
       "        text-align: right;\n",
       "    }\n",
       "</style>\n",
       "<table border=\"1\" class=\"dataframe\">\n",
       "  <thead>\n",
       "    <tr style=\"text-align: right;\">\n",
       "      <th></th>\n",
       "      <th>c</th>\n",
       "    </tr>\n",
       "  </thead>\n",
       "  <tbody>\n",
       "    <tr>\n",
       "      <th>0</th>\n",
       "      <td>2</td>\n",
       "    </tr>\n",
       "    <tr>\n",
       "      <th>1</th>\n",
       "      <td>5</td>\n",
       "    </tr>\n",
       "    <tr>\n",
       "      <th>2</th>\n",
       "      <td>6</td>\n",
       "    </tr>\n",
       "  </tbody>\n",
       "</table>\n",
       "</div>"
      ]
     },
     "execution_count": 22,
     "metadata": {},
     "output_type": "execute_result"
    }
   ],
   "execution_count": 22
  },
  {
   "cell_type": "markdown",
   "id": "66b0cb5a-fdba-405a-8ecb-e2c19b1d19d8",
   "metadata": {
    "tags": []
   },
   "source": "## DataFrame Finer Control"
  },
  {
   "cell_type": "code",
   "id": "d6fdf0ed-863f-4072-a59a-3276113340fc",
   "metadata": {
    "ExecuteTime": {
     "end_time": "2024-09-01T19:49:51.760305Z",
     "start_time": "2024-09-01T19:49:51.739913Z"
    }
   },
   "source": [
    "df[3] = np.nan\n",
    "df"
   ],
   "outputs": [
    {
     "data": {
      "text/plain": [
       "     a    b  c   3\n",
       "0  1.0  NaN  2 NaN\n",
       "1  2.0  3.0  5 NaN\n",
       "2  NaN  4.0  6 NaN"
      ],
      "text/html": [
       "<div>\n",
       "<style scoped>\n",
       "    .dataframe tbody tr th:only-of-type {\n",
       "        vertical-align: middle;\n",
       "    }\n",
       "\n",
       "    .dataframe tbody tr th {\n",
       "        vertical-align: top;\n",
       "    }\n",
       "\n",
       "    .dataframe thead th {\n",
       "        text-align: right;\n",
       "    }\n",
       "</style>\n",
       "<table border=\"1\" class=\"dataframe\">\n",
       "  <thead>\n",
       "    <tr style=\"text-align: right;\">\n",
       "      <th></th>\n",
       "      <th>a</th>\n",
       "      <th>b</th>\n",
       "      <th>c</th>\n",
       "      <th>3</th>\n",
       "    </tr>\n",
       "  </thead>\n",
       "  <tbody>\n",
       "    <tr>\n",
       "      <th>0</th>\n",
       "      <td>1.0</td>\n",
       "      <td>NaN</td>\n",
       "      <td>2</td>\n",
       "      <td>NaN</td>\n",
       "    </tr>\n",
       "    <tr>\n",
       "      <th>1</th>\n",
       "      <td>2.0</td>\n",
       "      <td>3.0</td>\n",
       "      <td>5</td>\n",
       "      <td>NaN</td>\n",
       "    </tr>\n",
       "    <tr>\n",
       "      <th>2</th>\n",
       "      <td>NaN</td>\n",
       "      <td>4.0</td>\n",
       "      <td>6</td>\n",
       "      <td>NaN</td>\n",
       "    </tr>\n",
       "  </tbody>\n",
       "</table>\n",
       "</div>"
      ]
     },
     "execution_count": 23,
     "metadata": {},
     "output_type": "execute_result"
    }
   ],
   "execution_count": 23
  },
  {
   "cell_type": "code",
   "id": "f4e20382-4d59-48f2-bb6a-b7bc049d6877",
   "metadata": {
    "ExecuteTime": {
     "end_time": "2024-07-11T19:15:12.900865Z",
     "start_time": "2024-07-11T19:15:12.877852Z"
    }
   },
   "source": [
    "# how = 'any' or 'all'\n",
    "df.dropna(axis='columns', how='all') "
   ],
   "outputs": [
    {
     "data": {
      "text/plain": [
       "     a    b  c\n",
       "0  1.0  NaN  2\n",
       "1  2.0  3.0  5\n",
       "2  NaN  4.0  6"
      ],
      "text/html": [
       "<div>\n",
       "<style scoped>\n",
       "    .dataframe tbody tr th:only-of-type {\n",
       "        vertical-align: middle;\n",
       "    }\n",
       "\n",
       "    .dataframe tbody tr th {\n",
       "        vertical-align: top;\n",
       "    }\n",
       "\n",
       "    .dataframe thead th {\n",
       "        text-align: right;\n",
       "    }\n",
       "</style>\n",
       "<table border=\"1\" class=\"dataframe\">\n",
       "  <thead>\n",
       "    <tr style=\"text-align: right;\">\n",
       "      <th></th>\n",
       "      <th>a</th>\n",
       "      <th>b</th>\n",
       "      <th>c</th>\n",
       "    </tr>\n",
       "  </thead>\n",
       "  <tbody>\n",
       "    <tr>\n",
       "      <th>0</th>\n",
       "      <td>1.0</td>\n",
       "      <td>NaN</td>\n",
       "      <td>2</td>\n",
       "    </tr>\n",
       "    <tr>\n",
       "      <th>1</th>\n",
       "      <td>2.0</td>\n",
       "      <td>3.0</td>\n",
       "      <td>5</td>\n",
       "    </tr>\n",
       "    <tr>\n",
       "      <th>2</th>\n",
       "      <td>NaN</td>\n",
       "      <td>4.0</td>\n",
       "      <td>6</td>\n",
       "    </tr>\n",
       "  </tbody>\n",
       "</table>\n",
       "</div>"
      ]
     },
     "execution_count": 83,
     "metadata": {},
     "output_type": "execute_result"
    }
   ],
   "execution_count": 83
  },
  {
   "metadata": {
    "ExecuteTime": {
     "end_time": "2024-09-01T19:50:13.214722Z",
     "start_time": "2024-09-01T19:50:13.191702Z"
    }
   },
   "cell_type": "code",
   "source": "df.dropna(axis='rows', how='all') ",
   "id": "1503ec8bb278141d",
   "outputs": [
    {
     "data": {
      "text/plain": [
       "     a    b  c   3\n",
       "0  1.0  NaN  2 NaN\n",
       "1  2.0  3.0  5 NaN\n",
       "2  NaN  4.0  6 NaN"
      ],
      "text/html": [
       "<div>\n",
       "<style scoped>\n",
       "    .dataframe tbody tr th:only-of-type {\n",
       "        vertical-align: middle;\n",
       "    }\n",
       "\n",
       "    .dataframe tbody tr th {\n",
       "        vertical-align: top;\n",
       "    }\n",
       "\n",
       "    .dataframe thead th {\n",
       "        text-align: right;\n",
       "    }\n",
       "</style>\n",
       "<table border=\"1\" class=\"dataframe\">\n",
       "  <thead>\n",
       "    <tr style=\"text-align: right;\">\n",
       "      <th></th>\n",
       "      <th>a</th>\n",
       "      <th>b</th>\n",
       "      <th>c</th>\n",
       "      <th>3</th>\n",
       "    </tr>\n",
       "  </thead>\n",
       "  <tbody>\n",
       "    <tr>\n",
       "      <th>0</th>\n",
       "      <td>1.0</td>\n",
       "      <td>NaN</td>\n",
       "      <td>2</td>\n",
       "      <td>NaN</td>\n",
       "    </tr>\n",
       "    <tr>\n",
       "      <th>1</th>\n",
       "      <td>2.0</td>\n",
       "      <td>3.0</td>\n",
       "      <td>5</td>\n",
       "      <td>NaN</td>\n",
       "    </tr>\n",
       "    <tr>\n",
       "      <th>2</th>\n",
       "      <td>NaN</td>\n",
       "      <td>4.0</td>\n",
       "      <td>6</td>\n",
       "      <td>NaN</td>\n",
       "    </tr>\n",
       "  </tbody>\n",
       "</table>\n",
       "</div>"
      ]
     },
     "execution_count": 24,
     "metadata": {},
     "output_type": "execute_result"
    }
   ],
   "execution_count": 24
  },
  {
   "cell_type": "code",
   "id": "41c1234c-ccdc-4a51-94f3-8638f910a9da",
   "metadata": {
    "ExecuteTime": {
     "end_time": "2024-09-01T19:50:21.141041Z",
     "start_time": "2024-09-01T19:50:21.119491Z"
    }
   },
   "source": [
    "# specify a minimum number of non-null values for the row/column to be kept\n",
    "df.dropna(axis='rows', thresh=3)"
   ],
   "outputs": [
    {
     "data": {
      "text/plain": [
       "     a    b  c   3\n",
       "1  2.0  3.0  5 NaN"
      ],
      "text/html": [
       "<div>\n",
       "<style scoped>\n",
       "    .dataframe tbody tr th:only-of-type {\n",
       "        vertical-align: middle;\n",
       "    }\n",
       "\n",
       "    .dataframe tbody tr th {\n",
       "        vertical-align: top;\n",
       "    }\n",
       "\n",
       "    .dataframe thead th {\n",
       "        text-align: right;\n",
       "    }\n",
       "</style>\n",
       "<table border=\"1\" class=\"dataframe\">\n",
       "  <thead>\n",
       "    <tr style=\"text-align: right;\">\n",
       "      <th></th>\n",
       "      <th>a</th>\n",
       "      <th>b</th>\n",
       "      <th>c</th>\n",
       "      <th>3</th>\n",
       "    </tr>\n",
       "  </thead>\n",
       "  <tbody>\n",
       "    <tr>\n",
       "      <th>1</th>\n",
       "      <td>2.0</td>\n",
       "      <td>3.0</td>\n",
       "      <td>5</td>\n",
       "      <td>NaN</td>\n",
       "    </tr>\n",
       "  </tbody>\n",
       "</table>\n",
       "</div>"
      ]
     },
     "execution_count": 25,
     "metadata": {},
     "output_type": "execute_result"
    }
   ],
   "execution_count": 25
  },
  {
   "cell_type": "markdown",
   "id": "7c420921-a997-4834-9bad-f365c88b7ab1",
   "metadata": {},
   "source": "# Filling Null Values"
  },
  {
   "metadata": {},
   "cell_type": "markdown",
   "source": "## Series",
   "id": "6071137b2083782e"
  },
  {
   "cell_type": "code",
   "id": "d9332d91-3585-4206-9253-dd89c0fa1e99",
   "metadata": {
    "ExecuteTime": {
     "end_time": "2024-07-11T19:15:13.131019Z",
     "start_time": "2024-07-11T19:15:13.107501Z"
    }
   },
   "source": [
    "data = pd.Series(\n",
    "    [1, np.nan, 2, None, 3], \n",
    "    index=list('abcde'), \n",
    "    dtype='Int32')\n",
    "data"
   ],
   "outputs": [
    {
     "data": {
      "text/plain": [
       "a       1\n",
       "b    <NA>\n",
       "c       2\n",
       "d    <NA>\n",
       "e       3\n",
       "dtype: Int32"
      ]
     },
     "execution_count": 85,
     "metadata": {},
     "output_type": "execute_result"
    }
   ],
   "execution_count": 85
  },
  {
   "cell_type": "code",
   "id": "1bdd958d-4595-4cc1-9a5d-c5f9fa5325ea",
   "metadata": {
    "ExecuteTime": {
     "end_time": "2024-07-11T19:15:13.270947Z",
     "start_time": "2024-07-11T19:15:13.259949Z"
    }
   },
   "source": [
    "data.fillna(0)"
   ],
   "outputs": [
    {
     "data": {
      "text/plain": [
       "a    1\n",
       "b    0\n",
       "c    2\n",
       "d    0\n",
       "e    3\n",
       "dtype: Int32"
      ]
     },
     "execution_count": 86,
     "metadata": {},
     "output_type": "execute_result"
    }
   ],
   "execution_count": 86
  },
  {
   "cell_type": "code",
   "id": "5552ec8a-7247-4ad7-8e2e-e431e3ec8529",
   "metadata": {
    "ExecuteTime": {
     "end_time": "2024-07-11T19:15:13.378492Z",
     "start_time": "2024-07-11T19:15:13.370482Z"
    }
   },
   "source": [
    "# forward fill\n",
    "data.ffill() # or bfill"
   ],
   "outputs": [
    {
     "data": {
      "text/plain": [
       "a    1\n",
       "b    1\n",
       "c    2\n",
       "d    2\n",
       "e    3\n",
       "dtype: Int32"
      ]
     },
     "execution_count": 87,
     "metadata": {},
     "output_type": "execute_result"
    }
   ],
   "execution_count": 87
  },
  {
   "metadata": {},
   "cell_type": "markdown",
   "source": "## DataFrame",
   "id": "e145aa6983f5f490"
  },
  {
   "cell_type": "code",
   "id": "4e43c34f-44cb-41ba-a315-3dc565ce7b3a",
   "metadata": {
    "ExecuteTime": {
     "end_time": "2024-07-11T19:18:56.530274Z",
     "start_time": "2024-07-11T19:18:56.509177Z"
    }
   },
   "source": [
    "df = pd.DataFrame([[1, np.nan, 2],\n",
    "                   [np.nan, 3, 5],\n",
    "                   [2, 4, 6]],\n",
    "                  columns=['a', 'b', 'c'])\n",
    "\n",
    "df"
   ],
   "outputs": [
    {
     "data": {
      "text/plain": [
       "     a    b  c\n",
       "0  1.0  NaN  2\n",
       "1  NaN  3.0  5\n",
       "2  2.0  4.0  6"
      ],
      "text/html": [
       "<div>\n",
       "<style scoped>\n",
       "    .dataframe tbody tr th:only-of-type {\n",
       "        vertical-align: middle;\n",
       "    }\n",
       "\n",
       "    .dataframe tbody tr th {\n",
       "        vertical-align: top;\n",
       "    }\n",
       "\n",
       "    .dataframe thead th {\n",
       "        text-align: right;\n",
       "    }\n",
       "</style>\n",
       "<table border=\"1\" class=\"dataframe\">\n",
       "  <thead>\n",
       "    <tr style=\"text-align: right;\">\n",
       "      <th></th>\n",
       "      <th>a</th>\n",
       "      <th>b</th>\n",
       "      <th>c</th>\n",
       "    </tr>\n",
       "  </thead>\n",
       "  <tbody>\n",
       "    <tr>\n",
       "      <th>0</th>\n",
       "      <td>1.0</td>\n",
       "      <td>NaN</td>\n",
       "      <td>2</td>\n",
       "    </tr>\n",
       "    <tr>\n",
       "      <th>1</th>\n",
       "      <td>NaN</td>\n",
       "      <td>3.0</td>\n",
       "      <td>5</td>\n",
       "    </tr>\n",
       "    <tr>\n",
       "      <th>2</th>\n",
       "      <td>2.0</td>\n",
       "      <td>4.0</td>\n",
       "      <td>6</td>\n",
       "    </tr>\n",
       "  </tbody>\n",
       "</table>\n",
       "</div>"
      ]
     },
     "execution_count": 90,
     "metadata": {},
     "output_type": "execute_result"
    }
   ],
   "execution_count": 90
  },
  {
   "cell_type": "code",
   "id": "e3e65e2e-448a-4582-bfb1-aeef099668ed",
   "metadata": {
    "ExecuteTime": {
     "end_time": "2024-07-11T19:19:22.837029Z",
     "start_time": "2024-07-11T19:19:22.819390Z"
    }
   },
   "source": [
    "# for df also specify an axis\n",
    "df.ffill(axis=0) "
   ],
   "outputs": [
    {
     "data": {
      "text/plain": [
       "     a    b  c\n",
       "0  1.0  NaN  2\n",
       "1  1.0  3.0  5\n",
       "2  2.0  4.0  6"
      ],
      "text/html": [
       "<div>\n",
       "<style scoped>\n",
       "    .dataframe tbody tr th:only-of-type {\n",
       "        vertical-align: middle;\n",
       "    }\n",
       "\n",
       "    .dataframe tbody tr th {\n",
       "        vertical-align: top;\n",
       "    }\n",
       "\n",
       "    .dataframe thead th {\n",
       "        text-align: right;\n",
       "    }\n",
       "</style>\n",
       "<table border=\"1\" class=\"dataframe\">\n",
       "  <thead>\n",
       "    <tr style=\"text-align: right;\">\n",
       "      <th></th>\n",
       "      <th>a</th>\n",
       "      <th>b</th>\n",
       "      <th>c</th>\n",
       "    </tr>\n",
       "  </thead>\n",
       "  <tbody>\n",
       "    <tr>\n",
       "      <th>0</th>\n",
       "      <td>1.0</td>\n",
       "      <td>NaN</td>\n",
       "      <td>2</td>\n",
       "    </tr>\n",
       "    <tr>\n",
       "      <th>1</th>\n",
       "      <td>1.0</td>\n",
       "      <td>3.0</td>\n",
       "      <td>5</td>\n",
       "    </tr>\n",
       "    <tr>\n",
       "      <th>2</th>\n",
       "      <td>2.0</td>\n",
       "      <td>4.0</td>\n",
       "      <td>6</td>\n",
       "    </tr>\n",
       "  </tbody>\n",
       "</table>\n",
       "</div>"
      ]
     },
     "execution_count": 92,
     "metadata": {},
     "output_type": "execute_result"
    }
   ],
   "execution_count": 92
  },
  {
   "metadata": {
    "ExecuteTime": {
     "end_time": "2024-07-11T19:18:57.618304Z",
     "start_time": "2024-07-11T19:18:57.615300Z"
    }
   },
   "cell_type": "code",
   "source": "",
   "id": "4a530b7f8adad45b",
   "outputs": [],
   "execution_count": 91
  }
 ],
 "metadata": {
  "kernelspec": {
   "display_name": "Python 3 (ipykernel)",
   "language": "python",
   "name": "python3"
  },
  "language_info": {
   "codemirror_mode": {
    "name": "ipython",
    "version": 3
   },
   "file_extension": ".py",
   "mimetype": "text/x-python",
   "name": "python",
   "nbconvert_exporter": "python",
   "pygments_lexer": "ipython3",
   "version": "3.9.16"
  },
  "toc-autonumbering": true,
  "toc-showtags": false
 },
 "nbformat": 4,
 "nbformat_minor": 5
}

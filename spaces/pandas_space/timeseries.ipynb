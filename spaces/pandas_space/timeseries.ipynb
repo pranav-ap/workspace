{
 "cells": [
  {
   "metadata": {},
   "cell_type": "markdown",
   "source": "# Native",
   "id": "59f1779e161f4ed1"
  },
  {
   "cell_type": "code",
   "id": "initial_id",
   "metadata": {
    "collapsed": true,
    "ExecuteTime": {
     "end_time": "2024-09-01T20:19:06.069453Z",
     "start_time": "2024-09-01T20:19:06.049134Z"
    }
   },
   "source": [
    "from datetime import datetime\n",
    "datetime(year=2015, month=7, day=4)"
   ],
   "outputs": [
    {
     "data": {
      "text/plain": [
       "datetime.datetime(2015, 7, 4, 0, 0)"
      ]
     },
     "execution_count": 1,
     "metadata": {},
     "output_type": "execute_result"
    }
   ],
   "execution_count": 1
  },
  {
   "metadata": {
    "ExecuteTime": {
     "end_time": "2024-09-01T20:19:12.413825Z",
     "start_time": "2024-09-01T20:19:12.399682Z"
    }
   },
   "cell_type": "code",
   "source": [
    "from dateutil import parser\n",
    "date = parser.parse(\"4th of July, 2015\")\n",
    "date"
   ],
   "id": "bcd2117bb48f74d2",
   "outputs": [
    {
     "data": {
      "text/plain": [
       "datetime.datetime(2015, 7, 4, 0, 0)"
      ]
     },
     "execution_count": 2,
     "metadata": {},
     "output_type": "execute_result"
    }
   ],
   "execution_count": 2
  },
  {
   "metadata": {
    "ExecuteTime": {
     "end_time": "2024-09-01T20:19:25.722479Z",
     "start_time": "2024-09-01T20:19:25.708528Z"
    }
   },
   "cell_type": "code",
   "source": "date.strftime('%A')",
   "id": "db4b954476704441",
   "outputs": [
    {
     "data": {
      "text/plain": [
       "'Saturday'"
      ]
     },
     "execution_count": 3,
     "metadata": {},
     "output_type": "execute_result"
    }
   ],
   "execution_count": 3
  },
  {
   "metadata": {},
   "cell_type": "markdown",
   "source": "# NumPy",
   "id": "2c9652ea688d9794"
  },
  {
   "metadata": {
    "ExecuteTime": {
     "end_time": "2024-09-01T20:20:10.830741Z",
     "start_time": "2024-09-01T20:20:10.587938Z"
    }
   },
   "cell_type": "code",
   "source": "import numpy as np",
   "id": "95c363a71932f808",
   "outputs": [],
   "execution_count": 4
  },
  {
   "metadata": {
    "ExecuteTime": {
     "end_time": "2024-09-01T20:20:18.480344Z",
     "start_time": "2024-09-01T20:20:18.466277Z"
    }
   },
   "cell_type": "code",
   "source": [
    "date = np.array('2015-07-04', dtype=np.datetime64)\n",
    "date"
   ],
   "id": "60bfe46ee0124e75",
   "outputs": [
    {
     "data": {
      "text/plain": [
       "array('2015-07-04', dtype='datetime64[D]')"
      ]
     },
     "execution_count": 5,
     "metadata": {},
     "output_type": "execute_result"
    }
   ],
   "execution_count": 5
  },
  {
   "metadata": {
    "ExecuteTime": {
     "end_time": "2024-09-01T20:21:40.912844Z",
     "start_time": "2024-09-01T20:21:40.900238Z"
    }
   },
   "cell_type": "code",
   "source": "date + np.arange(12)",
   "id": "e0cdbe8ef20e572b",
   "outputs": [
    {
     "data": {
      "text/plain": [
       "array(['2015-07-04', '2015-07-05', '2015-07-06', '2015-07-07',\n",
       "       '2015-07-08', '2015-07-09', '2015-07-10', '2015-07-11',\n",
       "       '2015-07-12', '2015-07-13', '2015-07-14', '2015-07-15'],\n",
       "      dtype='datetime64[D]')"
      ]
     },
     "execution_count": 6,
     "metadata": {},
     "output_type": "execute_result"
    }
   ],
   "execution_count": 6
  },
  {
   "metadata": {},
   "cell_type": "markdown",
   "source": "# Pandas",
   "id": "c0093c3600c58e6d"
  },
  {
   "metadata": {
    "ExecuteTime": {
     "end_time": "2024-09-01T20:26:26.565807Z",
     "start_time": "2024-09-01T20:26:25.021212Z"
    }
   },
   "cell_type": "code",
   "source": "import pandas as pd",
   "id": "fcf51ab764a34039",
   "outputs": [],
   "execution_count": 7
  },
  {
   "metadata": {},
   "cell_type": "markdown",
   "source": "# Timestamp",
   "id": "ad6dfc99b7ae7ba"
  },
  {
   "metadata": {
    "ExecuteTime": {
     "end_time": "2024-09-01T20:26:31.843025Z",
     "start_time": "2024-09-01T20:26:31.819284Z"
    }
   },
   "cell_type": "code",
   "source": [
    "date = pd.to_datetime(\"4th of July, 2015\")\n",
    "date"
   ],
   "id": "ffa98d8a6b931cf3",
   "outputs": [
    {
     "data": {
      "text/plain": [
       "Timestamp('2015-07-04 00:00:00')"
      ]
     },
     "execution_count": 8,
     "metadata": {},
     "output_type": "execute_result"
    }
   ],
   "execution_count": 8
  },
  {
   "metadata": {
    "ExecuteTime": {
     "end_time": "2024-09-01T20:26:47.458244Z",
     "start_time": "2024-09-01T20:26:47.447751Z"
    }
   },
   "cell_type": "code",
   "source": "date.strftime('%A')",
   "id": "4c2151e7647c9bfd",
   "outputs": [
    {
     "data": {
      "text/plain": [
       "'Saturday'"
      ]
     },
     "execution_count": 9,
     "metadata": {},
     "output_type": "execute_result"
    }
   ],
   "execution_count": 9
  },
  {
   "metadata": {},
   "cell_type": "markdown",
   "source": "# DatetimeIndex",
   "id": "943988bb06bc864d"
  },
  {
   "metadata": {
    "ExecuteTime": {
     "end_time": "2024-09-01T20:27:15.395507Z",
     "start_time": "2024-09-01T20:27:15.379946Z"
    }
   },
   "cell_type": "code",
   "source": "date + pd.to_timedelta(np.arange(12), 'D')",
   "id": "dcba45bda3e1ac6c",
   "outputs": [
    {
     "data": {
      "text/plain": [
       "DatetimeIndex(['2015-07-04', '2015-07-05', '2015-07-06', '2015-07-07',\n",
       "               '2015-07-08', '2015-07-09', '2015-07-10', '2015-07-11',\n",
       "               '2015-07-12', '2015-07-13', '2015-07-14', '2015-07-15'],\n",
       "              dtype='datetime64[ns]', freq=None)"
      ]
     },
     "execution_count": 10,
     "metadata": {},
     "output_type": "execute_result"
    }
   ],
   "execution_count": 10
  },
  {
   "metadata": {
    "ExecuteTime": {
     "end_time": "2024-09-01T20:58:22.038896Z",
     "start_time": "2024-09-01T20:58:22.025673Z"
    }
   },
   "cell_type": "code",
   "source": [
    "dates = pd.date_range(start='2024-01-01', end='2024-01-10')\n",
    "dates"
   ],
   "id": "2f2f8a6e9450d32a",
   "outputs": [
    {
     "name": "stdout",
     "output_type": "stream",
     "text": [
      "DatetimeIndex(['2024-01-01', '2024-01-02', '2024-01-03', '2024-01-04',\n",
      "               '2024-01-05', '2024-01-06', '2024-01-07', '2024-01-08',\n",
      "               '2024-01-09', '2024-01-10'],\n",
      "              dtype='datetime64[ns]', freq='D')\n"
     ]
    }
   ],
   "execution_count": 28
  },
  {
   "metadata": {},
   "cell_type": "markdown",
   "source": "# Series & DatetimeIndex",
   "id": "aa95d0dcbdd0152c"
  },
  {
   "metadata": {
    "ExecuteTime": {
     "end_time": "2024-09-01T20:30:19.626497Z",
     "start_time": "2024-09-01T20:30:19.610882Z"
    }
   },
   "cell_type": "code",
   "source": [
    "index = pd.DatetimeIndex(['2014-07-04', '2014-08-04', '2015-07-04', '2015-08-04'])\n",
    "data = pd.Series([0, 1, 2, 3], index=index)\n",
    "data"
   ],
   "id": "27264a0a5cff2505",
   "outputs": [
    {
     "data": {
      "text/plain": [
       "2014-07-04    0\n",
       "2014-08-04    1\n",
       "2015-07-04    2\n",
       "2015-08-04    3\n",
       "dtype: int64"
      ]
     },
     "execution_count": 11,
     "metadata": {},
     "output_type": "execute_result"
    }
   ],
   "execution_count": 11
  },
  {
   "metadata": {
    "ExecuteTime": {
     "end_time": "2024-09-01T20:30:45.226013Z",
     "start_time": "2024-09-01T20:30:45.204998Z"
    }
   },
   "cell_type": "code",
   "source": "data['2014-07-04':'2015-07-04']",
   "id": "402a9553113c47ca",
   "outputs": [
    {
     "data": {
      "text/plain": [
       "2014-07-04    0\n",
       "2014-08-04    1\n",
       "2015-07-04    2\n",
       "dtype: int64"
      ]
     },
     "execution_count": 12,
     "metadata": {},
     "output_type": "execute_result"
    }
   ],
   "execution_count": 12
  },
  {
   "metadata": {
    "ExecuteTime": {
     "end_time": "2024-09-01T20:31:57.610486Z",
     "start_time": "2024-09-01T20:31:57.594845Z"
    }
   },
   "cell_type": "code",
   "source": "data['2015']",
   "id": "56088e82ef4669c0",
   "outputs": [
    {
     "data": {
      "text/plain": [
       "2015-07-04    2\n",
       "2015-08-04    3\n",
       "dtype: int64"
      ]
     },
     "execution_count": 13,
     "metadata": {},
     "output_type": "execute_result"
    }
   ],
   "execution_count": 13
  },
  {
   "metadata": {},
   "cell_type": "markdown",
   "source": "# Period",
   "id": "a7e6d6aa86c51018"
  },
  {
   "metadata": {
    "ExecuteTime": {
     "end_time": "2024-09-01T20:37:42.149898Z",
     "start_time": "2024-09-01T20:37:42.136677Z"
    }
   },
   "cell_type": "code",
   "source": [
    "monthly_period = pd.Period('2024-09', freq='M')\n",
    "monthly_period"
   ],
   "id": "a508b6889b56444f",
   "outputs": [
    {
     "data": {
      "text/plain": [
       "Period('2024-09', 'M')"
      ]
     },
     "execution_count": 14,
     "metadata": {},
     "output_type": "execute_result"
    }
   ],
   "execution_count": 14
  },
  {
   "metadata": {
    "ExecuteTime": {
     "end_time": "2024-09-01T20:38:01.203983Z",
     "start_time": "2024-09-01T20:38:01.190963Z"
    }
   },
   "cell_type": "code",
   "source": [
    "next_month = monthly_period + 1\n",
    "next_month "
   ],
   "id": "652ceccb654e9603",
   "outputs": [
    {
     "data": {
      "text/plain": [
       "Period('2024-10', 'M')"
      ]
     },
     "execution_count": 15,
     "metadata": {},
     "output_type": "execute_result"
    }
   ],
   "execution_count": 15
  },
  {
   "metadata": {
    "ExecuteTime": {
     "end_time": "2024-09-01T20:38:21.894055Z",
     "start_time": "2024-09-01T20:38:21.883125Z"
    }
   },
   "cell_type": "code",
   "source": [
    "# Start of the period as a Timestamp\n",
    "start_time = monthly_period.start_time\n",
    "print(start_time)\n",
    "\n",
    "# End of the period as a Timestamp\n",
    "end_time = monthly_period.end_time\n",
    "print(end_time)"
   ],
   "id": "6013c079f4bc538b",
   "outputs": [
    {
     "name": "stdout",
     "output_type": "stream",
     "text": [
      "2024-09-01 00:00:00\n",
      "2024-09-30 23:59:59.999999999\n"
     ]
    }
   ],
   "execution_count": 16
  },
  {
   "metadata": {},
   "cell_type": "markdown",
   "source": "# Period Index",
   "id": "211835b074d2ab65"
  },
  {
   "metadata": {
    "ExecuteTime": {
     "end_time": "2024-09-01T20:39:29.761354Z",
     "start_time": "2024-09-01T20:39:29.746234Z"
    }
   },
   "cell_type": "code",
   "source": [
    "period_range = pd.period_range('2024-01', '2024-03', freq='M')\n",
    "period_range"
   ],
   "id": "f5db510440e703d4",
   "outputs": [
    {
     "data": {
      "text/plain": [
       "PeriodIndex(['2024-01', '2024-02', '2024-03'], dtype='period[M]')"
      ]
     },
     "execution_count": 17,
     "metadata": {},
     "output_type": "execute_result"
    }
   ],
   "execution_count": 17
  },
  {
   "metadata": {},
   "cell_type": "markdown",
   "source": "# Convert DatatimeIndex to PeriodIndex",
   "id": "52f09e30161ef7c3"
  },
  {
   "metadata": {
    "ExecuteTime": {
     "end_time": "2024-09-01T20:54:18.498093Z",
     "start_time": "2024-09-01T20:54:18.481827Z"
    }
   },
   "cell_type": "code",
   "source": [
    "# Create a DatetimeIndex\n",
    "dates = pd.date_range('2024-01-01', periods=6, freq='ME')\n",
    "print(\"DatetimeIndex:\")\n",
    "print(dates)\n",
    "\n",
    "# Convert DatetimeIndex to PeriodIndex with monthly frequency\n",
    "periods = dates.to_period(freq='M')\n",
    "print(\"\\nPeriodIndex:\")\n",
    "print(periods)"
   ],
   "id": "6991c10a8f378318",
   "outputs": [
    {
     "name": "stdout",
     "output_type": "stream",
     "text": [
      "DatetimeIndex:\n",
      "DatetimeIndex(['2024-01-31', '2024-02-29', '2024-03-31', '2024-04-30',\n",
      "               '2024-05-31', '2024-06-30'],\n",
      "              dtype='datetime64[ns]', freq='ME')\n",
      "\n",
      "PeriodIndex:\n",
      "PeriodIndex(['2024-01', '2024-02', '2024-03', '2024-04', '2024-05', '2024-06'], dtype='period[M]')\n"
     ]
    }
   ],
   "execution_count": 27
  },
  {
   "metadata": {},
   "cell_type": "markdown",
   "source": [
    "\n",
    "# Timedelta "
   ],
   "id": "6d19417aac6fe4e8"
  },
  {
   "metadata": {
    "ExecuteTime": {
     "end_time": "2024-09-01T20:48:17.282262Z",
     "start_time": "2024-09-01T20:48:17.271044Z"
    }
   },
   "cell_type": "code",
   "source": [
    "# Difference between two dates\n",
    "date1 = pd.Timestamp('2024-09-01')\n",
    "date2 = pd.Timestamp('2024-08-20')\n",
    "difference = date1 - date2  # Returns a Timedelta\n",
    "\n",
    "print(difference)\n",
    "print(difference.days)"
   ],
   "id": "2275a639f7eeab33",
   "outputs": [
    {
     "name": "stdout",
     "output_type": "stream",
     "text": [
      "12 days 00:00:00\n",
      "12\n"
     ]
    }
   ],
   "execution_count": 18
  },
  {
   "metadata": {
    "ExecuteTime": {
     "end_time": "2024-09-01T20:51:32.635362Z",
     "start_time": "2024-09-01T20:51:32.623534Z"
    }
   },
   "cell_type": "code",
   "source": "date2 + difference",
   "id": "8ba92bb3b8b83da7",
   "outputs": [
    {
     "data": {
      "text/plain": [
       "Timestamp('2024-09-01 00:00:00')"
      ]
     },
     "execution_count": 23,
     "metadata": {},
     "output_type": "execute_result"
    }
   ],
   "execution_count": 23
  },
  {
   "metadata": {
    "ExecuteTime": {
     "end_time": "2024-09-01T20:51:51.857523Z",
     "start_time": "2024-09-01T20:51:51.845341Z"
    }
   },
   "cell_type": "code",
   "source": "date2 + pd.Timedelta(days=5)",
   "id": "b531953374e9940a",
   "outputs": [
    {
     "data": {
      "text/plain": [
       "Timestamp('2024-08-25 00:00:00')"
      ]
     },
     "execution_count": 24,
     "metadata": {},
     "output_type": "execute_result"
    }
   ],
   "execution_count": 24
  },
  {
   "metadata": {},
   "cell_type": "markdown",
   "source": "# TimedeltaIndex",
   "id": "8fea98e0a582cfef"
  },
  {
   "metadata": {
    "ExecuteTime": {
     "end_time": "2024-09-01T21:07:31.527904Z",
     "start_time": "2024-09-01T21:07:31.505555Z"
    }
   },
   "cell_type": "code",
   "source": [
    "dates = pd.to_datetime([datetime(2015, 7, 3), '4th of July, 2015',\n",
    "                       '2015-Jul-6', '07-07-2015', '20150708'])\n",
    "dates"
   ],
   "id": "f048b19714e1178f",
   "outputs": [
    {
     "data": {
      "text/plain": [
       "DatetimeIndex(['2015-07-03', '2015-07-04', '2015-07-06', '2015-07-07',\n",
       "               '2015-07-08'],\n",
       "              dtype='datetime64[ns]', freq=None)"
      ]
     },
     "execution_count": 29,
     "metadata": {},
     "output_type": "execute_result"
    }
   ],
   "execution_count": 29
  },
  {
   "metadata": {
    "ExecuteTime": {
     "end_time": "2024-09-01T21:07:38.025121Z",
     "start_time": "2024-09-01T21:07:38.010564Z"
    }
   },
   "cell_type": "code",
   "source": "dates - dates[0]",
   "id": "fb7daa735ee14ff5",
   "outputs": [
    {
     "data": {
      "text/plain": [
       "TimedeltaIndex(['0 days', '1 days', '3 days', '4 days', '5 days'], dtype='timedelta64[ns]', freq=None)"
      ]
     },
     "execution_count": 30,
     "metadata": {},
     "output_type": "execute_result"
    }
   ],
   "execution_count": 30
  },
  {
   "metadata": {},
   "cell_type": "markdown",
   "source": "# Regular Sequences",
   "id": "18fec6fd33cefa31"
  },
  {
   "metadata": {
    "ExecuteTime": {
     "end_time": "2024-09-01T21:09:08.176113Z",
     "start_time": "2024-09-01T21:09:08.160441Z"
    }
   },
   "cell_type": "code",
   "source": "pd.date_range('2015-07-03', '2015-07-10')",
   "id": "e83797e4c039cddd",
   "outputs": [
    {
     "data": {
      "text/plain": [
       "DatetimeIndex(['2015-07-03', '2015-07-04', '2015-07-05', '2015-07-06',\n",
       "               '2015-07-07', '2015-07-08', '2015-07-09', '2015-07-10'],\n",
       "              dtype='datetime64[ns]', freq='D')"
      ]
     },
     "execution_count": 31,
     "metadata": {},
     "output_type": "execute_result"
    }
   ],
   "execution_count": 31
  },
  {
   "metadata": {
    "ExecuteTime": {
     "end_time": "2024-09-01T21:09:17.435504Z",
     "start_time": "2024-09-01T21:09:17.418852Z"
    }
   },
   "cell_type": "code",
   "source": "pd.date_range('2015-07-03', periods=8)",
   "id": "dd3b031ac378f8c8",
   "outputs": [
    {
     "data": {
      "text/plain": [
       "DatetimeIndex(['2015-07-03', '2015-07-04', '2015-07-05', '2015-07-06',\n",
       "               '2015-07-07', '2015-07-08', '2015-07-09', '2015-07-10'],\n",
       "              dtype='datetime64[ns]', freq='D')"
      ]
     },
     "execution_count": 33,
     "metadata": {},
     "output_type": "execute_result"
    }
   ],
   "execution_count": 33
  },
  {
   "metadata": {
    "ExecuteTime": {
     "end_time": "2024-09-01T21:10:13.767067Z",
     "start_time": "2024-09-01T21:10:13.750812Z"
    }
   },
   "cell_type": "code",
   "source": "pd.date_range('2015-07-03', periods=8, freq='h')",
   "id": "81c4251e3066cca",
   "outputs": [
    {
     "data": {
      "text/plain": [
       "DatetimeIndex(['2015-07-03 00:00:00', '2015-07-03 01:00:00',\n",
       "               '2015-07-03 02:00:00', '2015-07-03 03:00:00',\n",
       "               '2015-07-03 04:00:00', '2015-07-03 05:00:00',\n",
       "               '2015-07-03 06:00:00', '2015-07-03 07:00:00'],\n",
       "              dtype='datetime64[ns]', freq='h')"
      ]
     },
     "execution_count": 35,
     "metadata": {},
     "output_type": "execute_result"
    }
   ],
   "execution_count": 35
  },
  {
   "metadata": {
    "ExecuteTime": {
     "end_time": "2024-09-01T21:10:36.019440Z",
     "start_time": "2024-09-01T21:10:36.005125Z"
    }
   },
   "cell_type": "code",
   "source": "pd.period_range('2015-07', periods=8, freq='M')",
   "id": "fd3645b106af2ea2",
   "outputs": [
    {
     "data": {
      "text/plain": [
       "PeriodIndex(['2015-07', '2015-08', '2015-09', '2015-10', '2015-11', '2015-12',\n",
       "             '2016-01', '2016-02'],\n",
       "            dtype='period[M]')"
      ]
     },
     "execution_count": 36,
     "metadata": {},
     "output_type": "execute_result"
    }
   ],
   "execution_count": 36
  },
  {
   "metadata": {
    "ExecuteTime": {
     "end_time": "2024-09-01T21:10:50.810130Z",
     "start_time": "2024-09-01T21:10:50.792564Z"
    }
   },
   "cell_type": "code",
   "source": "pd.timedelta_range(0, periods=10, freq='h')",
   "id": "982ffe30222378b5",
   "outputs": [
    {
     "data": {
      "text/plain": [
       "TimedeltaIndex(['0 days 00:00:00', '0 days 01:00:00', '0 days 02:00:00',\n",
       "                '0 days 03:00:00', '0 days 04:00:00', '0 days 05:00:00',\n",
       "                '0 days 06:00:00', '0 days 07:00:00', '0 days 08:00:00',\n",
       "                '0 days 09:00:00'],\n",
       "               dtype='timedelta64[ns]', freq='h')"
      ]
     },
     "execution_count": 38,
     "metadata": {},
     "output_type": "execute_result"
    }
   ],
   "execution_count": 38
  },
  {
   "metadata": {},
   "cell_type": "markdown",
   "source": "# Resampling",
   "id": "9ba3e63242c03235"
  },
  {
   "metadata": {
    "ExecuteTime": {
     "end_time": "2024-09-01T21:47:48.184261Z",
     "start_time": "2024-09-01T21:47:48.166381Z"
    }
   },
   "cell_type": "code",
   "source": [
    "# Sample daily data\n",
    "dates = pd.date_range('2024-01-01', periods=10, freq='D')\n",
    "data = pd.Series(range(10), index=dates)\n",
    "\n",
    "# Downsample to monthly frequency, taking the sum of each month\n",
    "monthly_data = data.resample('ME').sum()\n",
    "monthly_data"
   ],
   "id": "14305ea0c8c5de73",
   "outputs": [
    {
     "data": {
      "text/plain": [
       "2024-01-31    45\n",
       "Freq: ME, dtype: int64"
      ]
     },
     "execution_count": 45,
     "metadata": {},
     "output_type": "execute_result"
    }
   ],
   "execution_count": 45
  },
  {
   "metadata": {},
   "cell_type": "markdown",
   "source": "# Rolling windows",
   "id": "199b5dbc4727bd87"
  },
  {
   "metadata": {
    "ExecuteTime": {
     "end_time": "2024-09-01T21:55:02.286757Z",
     "start_time": "2024-09-01T21:55:02.270717Z"
    }
   },
   "cell_type": "code",
   "source": [
    "data = pd.Series([1, 2, 3, 4, 5, 6, 7])\n",
    "\n",
    "# Calculate rolling mean with a window of 3\n",
    "rolling_mean = data.rolling(window=3).mean()\n",
    "rolling_mean"
   ],
   "id": "fb3b3d517e0c8f1c",
   "outputs": [
    {
     "data": {
      "text/plain": [
       "0    NaN\n",
       "1    NaN\n",
       "2    2.0\n",
       "3    3.0\n",
       "4    4.0\n",
       "5    5.0\n",
       "6    6.0\n",
       "dtype: float64"
      ]
     },
     "execution_count": 47,
     "metadata": {},
     "output_type": "execute_result"
    }
   ],
   "execution_count": 47
  },
  {
   "metadata": {},
   "cell_type": "code",
   "outputs": [],
   "execution_count": null,
   "source": "",
   "id": "9b3e9d97b06b660b"
  }
 ],
 "metadata": {
  "kernelspec": {
   "display_name": "Python 3",
   "language": "python",
   "name": "python3"
  },
  "language_info": {
   "codemirror_mode": {
    "name": "ipython",
    "version": 2
   },
   "file_extension": ".py",
   "mimetype": "text/x-python",
   "name": "python",
   "nbconvert_exporter": "python",
   "pygments_lexer": "ipython2",
   "version": "2.7.6"
  }
 },
 "nbformat": 4,
 "nbformat_minor": 5
}

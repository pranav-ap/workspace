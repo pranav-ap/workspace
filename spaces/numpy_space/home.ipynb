{
 "cells": [
  {
   "cell_type": "code",
   "id": "initial_id",
   "metadata": {
    "collapsed": true,
    "ExecuteTime": {
     "end_time": "2024-09-01T07:39:47.538210Z",
     "start_time": "2024-09-01T07:39:47.339168Z"
    }
   },
   "source": "import numpy as np",
   "outputs": [],
   "execution_count": 1
  },
  {
   "metadata": {},
   "cell_type": "markdown",
   "source": "# Attributes",
   "id": "1dfb2ef974430107"
  },
  {
   "metadata": {
    "ExecuteTime": {
     "end_time": "2024-09-01T07:39:47.565176Z",
     "start_time": "2024-09-01T07:39:47.544232Z"
    }
   },
   "cell_type": "code",
   "source": [
    "a = np.arange(0, 16).reshape((4, 4))\n",
    "a"
   ],
   "id": "867ad772a19aaced",
   "outputs": [
    {
     "data": {
      "text/plain": [
       "array([[ 0,  1,  2,  3],\n",
       "       [ 4,  5,  6,  7],\n",
       "       [ 8,  9, 10, 11],\n",
       "       [12, 13, 14, 15]])"
      ]
     },
     "execution_count": 2,
     "metadata": {},
     "output_type": "execute_result"
    }
   ],
   "execution_count": 2
  },
  {
   "metadata": {
    "ExecuteTime": {
     "end_time": "2024-09-01T07:39:47.653793Z",
     "start_time": "2024-09-01T07:39:47.641295Z"
    }
   },
   "cell_type": "code",
   "source": [
    "print(\"ndim     : \", a.ndim)\n",
    "print(\"shape    : \", a.shape)\n",
    "print(\"size     : \", a.size)\n",
    "print(\"dtype    : \", a.dtype)"
   ],
   "id": "6c1d9ceed423746c",
   "outputs": [
    {
     "name": "stdout",
     "output_type": "stream",
     "text": [
      "ndim     :  2\n",
      "shape    :  (4, 4)\n",
      "size     :  16\n",
      "dtype    :  int64\n"
     ]
    }
   ],
   "execution_count": 3
  },
  {
   "metadata": {},
   "cell_type": "markdown",
   "source": "# 1D Slicing",
   "id": "cf73e073c3d1e87f"
  },
  {
   "metadata": {
    "ExecuteTime": {
     "end_time": "2024-09-01T07:39:47.867510Z",
     "start_time": "2024-09-01T07:39:47.855177Z"
    }
   },
   "cell_type": "code",
   "source": [
    "a = np.arange(0, 10)\n",
    "a"
   ],
   "id": "b2e4b136897d950a",
   "outputs": [
    {
     "data": {
      "text/plain": [
       "array([0, 1, 2, 3, 4, 5, 6, 7, 8, 9])"
      ]
     },
     "execution_count": 4,
     "metadata": {},
     "output_type": "execute_result"
    }
   ],
   "execution_count": 4
  },
  {
   "metadata": {
    "ExecuteTime": {
     "end_time": "2024-09-01T07:39:48.227532Z",
     "start_time": "2024-09-01T07:39:48.211362Z"
    }
   },
   "cell_type": "code",
   "source": "a[:]",
   "id": "c91bc7c85e8a20e",
   "outputs": [
    {
     "data": {
      "text/plain": [
       "array([0, 1, 2, 3, 4, 5, 6, 7, 8, 9])"
      ]
     },
     "execution_count": 5,
     "metadata": {},
     "output_type": "execute_result"
    }
   ],
   "execution_count": 5
  },
  {
   "metadata": {
    "ExecuteTime": {
     "end_time": "2024-09-01T07:39:48.393995Z",
     "start_time": "2024-09-01T07:39:48.381345Z"
    }
   },
   "cell_type": "code",
   "source": "a[1:]",
   "id": "17e611a94a350c46",
   "outputs": [
    {
     "data": {
      "text/plain": [
       "array([1, 2, 3, 4, 5, 6, 7, 8, 9])"
      ]
     },
     "execution_count": 6,
     "metadata": {},
     "output_type": "execute_result"
    }
   ],
   "execution_count": 6
  },
  {
   "metadata": {
    "ExecuteTime": {
     "end_time": "2024-09-01T07:39:48.765103Z",
     "start_time": "2024-09-01T07:39:48.752364Z"
    }
   },
   "cell_type": "code",
   "source": "a[1:3]",
   "id": "4d2444e26dc8d129",
   "outputs": [
    {
     "data": {
      "text/plain": [
       "array([1, 2])"
      ]
     },
     "execution_count": 7,
     "metadata": {},
     "output_type": "execute_result"
    }
   ],
   "execution_count": 7
  },
  {
   "metadata": {
    "ExecuteTime": {
     "end_time": "2024-09-01T07:39:49.066207Z",
     "start_time": "2024-09-01T07:39:49.050181Z"
    }
   },
   "cell_type": "code",
   "source": "a[1: -1]",
   "id": "d7912f78a3697a1b",
   "outputs": [
    {
     "data": {
      "text/plain": [
       "array([1, 2, 3, 4, 5, 6, 7, 8])"
      ]
     },
     "execution_count": 8,
     "metadata": {},
     "output_type": "execute_result"
    }
   ],
   "execution_count": 8
  },
  {
   "metadata": {
    "ExecuteTime": {
     "end_time": "2024-09-01T07:39:49.653376Z",
     "start_time": "2024-09-01T07:39:49.640192Z"
    }
   },
   "cell_type": "code",
   "source": "a[::2]",
   "id": "d6f1cdfbcb90d7a3",
   "outputs": [
    {
     "data": {
      "text/plain": [
       "array([0, 2, 4, 6, 8])"
      ]
     },
     "execution_count": 9,
     "metadata": {},
     "output_type": "execute_result"
    }
   ],
   "execution_count": 9
  },
  {
   "metadata": {
    "ExecuteTime": {
     "end_time": "2024-09-01T07:39:49.948421Z",
     "start_time": "2024-09-01T07:39:49.932643Z"
    }
   },
   "cell_type": "code",
   "source": "a[1::2]",
   "id": "f64af2d9d67f0f27",
   "outputs": [
    {
     "data": {
      "text/plain": [
       "array([1, 3, 5, 7, 9])"
      ]
     },
     "execution_count": 10,
     "metadata": {},
     "output_type": "execute_result"
    }
   ],
   "execution_count": 10
  },
  {
   "metadata": {
    "ExecuteTime": {
     "end_time": "2024-09-01T07:39:50.254381Z",
     "start_time": "2024-09-01T07:39:50.241253Z"
    }
   },
   "cell_type": "code",
   "source": "a[::-1] # all elements, reversed",
   "id": "a0d18daa188570c",
   "outputs": [
    {
     "data": {
      "text/plain": [
       "array([9, 8, 7, 6, 5, 4, 3, 2, 1, 0])"
      ]
     },
     "execution_count": 11,
     "metadata": {},
     "output_type": "execute_result"
    }
   ],
   "execution_count": 11
  },
  {
   "metadata": {
    "ExecuteTime": {
     "end_time": "2024-09-01T07:39:50.442752Z",
     "start_time": "2024-09-01T07:39:50.430389Z"
    }
   },
   "cell_type": "code",
   "source": "a[-1:1:-2]",
   "id": "39f96190fdd89406",
   "outputs": [
    {
     "data": {
      "text/plain": [
       "array([9, 7, 5, 3])"
      ]
     },
     "execution_count": 12,
     "metadata": {},
     "output_type": "execute_result"
    }
   ],
   "execution_count": 12
  },
  {
   "metadata": {
    "ExecuteTime": {
     "end_time": "2024-09-01T07:39:50.699814Z",
     "start_time": "2024-09-01T07:39:50.686845Z"
    }
   },
   "cell_type": "code",
   "source": "a[:1:-2] # for negative steps, default start index is -1",
   "id": "8955d6d29d6608ce",
   "outputs": [
    {
     "data": {
      "text/plain": [
       "array([9, 7, 5, 3])"
      ]
     },
     "execution_count": 13,
     "metadata": {},
     "output_type": "execute_result"
    }
   ],
   "execution_count": 13
  },
  {
   "metadata": {
    "ExecuteTime": {
     "end_time": "2024-09-01T07:39:50.881484Z",
     "start_time": "2024-09-01T07:39:50.869409Z"
    }
   },
   "cell_type": "code",
   "source": [
    "F = np.array([2, 1, 1, 2, 3, 5, 8])\n",
    "F[::3]"
   ],
   "id": "199eac2fd02e3241",
   "outputs": [
    {
     "data": {
      "text/plain": [
       "array([2, 2, 8])"
      ]
     },
     "execution_count": 14,
     "metadata": {},
     "output_type": "execute_result"
    }
   ],
   "execution_count": 14
  },
  {
   "metadata": {},
   "cell_type": "markdown",
   "source": "# 2D Slicing",
   "id": "5d440f3578987197"
  },
  {
   "metadata": {
    "ExecuteTime": {
     "end_time": "2024-09-01T07:39:51.106121Z",
     "start_time": "2024-09-01T07:39:51.090406Z"
    }
   },
   "cell_type": "code",
   "source": [
    "a = np.arange(16)\n",
    "a = a.reshape((4,4))\n",
    "a"
   ],
   "id": "1d29d95eae78f5f3",
   "outputs": [
    {
     "data": {
      "text/plain": [
       "array([[ 0,  1,  2,  3],\n",
       "       [ 4,  5,  6,  7],\n",
       "       [ 8,  9, 10, 11],\n",
       "       [12, 13, 14, 15]])"
      ]
     },
     "execution_count": 15,
     "metadata": {},
     "output_type": "execute_result"
    }
   ],
   "execution_count": 15
  },
  {
   "metadata": {
    "ExecuteTime": {
     "end_time": "2024-09-01T07:39:51.503303Z",
     "start_time": "2024-09-01T07:39:51.490812Z"
    }
   },
   "cell_type": "code",
   "source": "a[:, 1]",
   "id": "42664b500fe33964",
   "outputs": [
    {
     "data": {
      "text/plain": [
       "array([ 1,  5,  9, 13])"
      ]
     },
     "execution_count": 16,
     "metadata": {},
     "output_type": "execute_result"
    }
   ],
   "execution_count": 16
  },
  {
   "metadata": {
    "ExecuteTime": {
     "end_time": "2024-09-01T07:39:51.620231Z",
     "start_time": "2024-09-01T07:39:51.607892Z"
    }
   },
   "cell_type": "code",
   "source": "a[1, :]",
   "id": "b4119b39f1f2fffd",
   "outputs": [
    {
     "data": {
      "text/plain": [
       "array([4, 5, 6, 7])"
      ]
     },
     "execution_count": 17,
     "metadata": {},
     "output_type": "execute_result"
    }
   ],
   "execution_count": 17
  },
  {
   "metadata": {
    "ExecuteTime": {
     "end_time": "2024-09-01T07:39:51.910897Z",
     "start_time": "2024-09-01T07:39:51.897070Z"
    }
   },
   "cell_type": "code",
   "source": "a[1, ::2]",
   "id": "d8f3ec9e236cafe0",
   "outputs": [
    {
     "data": {
      "text/plain": [
       "array([4, 6])"
      ]
     },
     "execution_count": 18,
     "metadata": {},
     "output_type": "execute_result"
    }
   ],
   "execution_count": 18
  },
  {
   "metadata": {
    "ExecuteTime": {
     "end_time": "2024-09-01T07:39:52.111724Z",
     "start_time": "2024-09-01T07:39:52.097086Z"
    }
   },
   "cell_type": "code",
   "source": "a[:, :-1]",
   "id": "ac206ae68150a52d",
   "outputs": [
    {
     "data": {
      "text/plain": [
       "array([[ 0,  1,  2],\n",
       "       [ 4,  5,  6],\n",
       "       [ 8,  9, 10],\n",
       "       [12, 13, 14]])"
      ]
     },
     "execution_count": 19,
     "metadata": {},
     "output_type": "execute_result"
    }
   ],
   "execution_count": 19
  },
  {
   "metadata": {
    "ExecuteTime": {
     "end_time": "2024-09-01T07:39:52.345485Z",
     "start_time": "2024-09-01T07:39:52.332242Z"
    }
   },
   "cell_type": "code",
   "source": "a[:-1, :]",
   "id": "ab720fc5d3e1c3f2",
   "outputs": [
    {
     "data": {
      "text/plain": [
       "array([[ 0,  1,  2,  3],\n",
       "       [ 4,  5,  6,  7],\n",
       "       [ 8,  9, 10, 11]])"
      ]
     },
     "execution_count": 20,
     "metadata": {},
     "output_type": "execute_result"
    }
   ],
   "execution_count": 20
  },
  {
   "metadata": {
    "ExecuteTime": {
     "end_time": "2024-09-01T07:39:52.540114Z",
     "start_time": "2024-09-01T07:39:52.526784Z"
    }
   },
   "cell_type": "code",
   "source": "a[:-1] # same as above. if no slice notation is provided, then : is default",
   "id": "c1f1f6fd3469cfe",
   "outputs": [
    {
     "data": {
      "text/plain": [
       "array([[ 0,  1,  2,  3],\n",
       "       [ 4,  5,  6,  7],\n",
       "       [ 8,  9, 10, 11]])"
      ]
     },
     "execution_count": 21,
     "metadata": {},
     "output_type": "execute_result"
    }
   ],
   "execution_count": 21
  },
  {
   "metadata": {},
   "cell_type": "markdown",
   "source": [
    "One commonly needed routine is accessing single rows or columns of an array. This\n",
    "can be done by combining indexing and slicing, using an empty slice marked by a\n",
    "single colon (:):"
   ],
   "id": "5831eef806994b7d"
  },
  {
   "metadata": {
    "ExecuteTime": {
     "end_time": "2024-09-01T07:39:52.863026Z",
     "start_time": "2024-09-01T07:39:52.847158Z"
    }
   },
   "cell_type": "code",
   "source": "a[:, 0] # first column of x2",
   "id": "489f22ca18bff64c",
   "outputs": [
    {
     "data": {
      "text/plain": [
       "array([ 0,  4,  8, 12])"
      ]
     },
     "execution_count": 22,
     "metadata": {},
     "output_type": "execute_result"
    }
   ],
   "execution_count": 22
  },
  {
   "metadata": {
    "ExecuteTime": {
     "end_time": "2024-09-01T07:39:53.086080Z",
     "start_time": "2024-09-01T07:39:53.071040Z"
    }
   },
   "cell_type": "code",
   "source": "a[0, :] # first row of x2",
   "id": "e7ddc95a2aa6a4a9",
   "outputs": [
    {
     "data": {
      "text/plain": [
       "array([0, 1, 2, 3])"
      ]
     },
     "execution_count": 23,
     "metadata": {},
     "output_type": "execute_result"
    }
   ],
   "execution_count": 23
  },
  {
   "metadata": {},
   "cell_type": "markdown",
   "source": "In the case of row access, the empty slice can be omitted for a more compact syntax:",
   "id": "57e1b117d9573f3e"
  },
  {
   "metadata": {
    "ExecuteTime": {
     "end_time": "2024-09-01T07:39:53.362814Z",
     "start_time": "2024-09-01T07:39:53.348729Z"
    }
   },
   "cell_type": "code",
   "source": "a[0] # equivalent to a[0, :]",
   "id": "e6935be60f0d3a3e",
   "outputs": [
    {
     "data": {
      "text/plain": [
       "array([0, 1, 2, 3])"
      ]
     },
     "execution_count": 24,
     "metadata": {},
     "output_type": "execute_result"
    }
   ],
   "execution_count": 24
  },
  {
   "metadata": {},
   "cell_type": "markdown",
   "source": "# Fancy Indexing",
   "id": "56431f40c241493c"
  },
  {
   "metadata": {
    "ExecuteTime": {
     "end_time": "2024-09-01T07:39:53.561891Z",
     "start_time": "2024-09-01T07:39:53.546716Z"
    }
   },
   "cell_type": "code",
   "source": [
    "a = np.arange(6)\n",
    "a"
   ],
   "id": "6590c488f36dbdf4",
   "outputs": [
    {
     "data": {
      "text/plain": [
       "array([0, 1, 2, 3, 4, 5])"
      ]
     },
     "execution_count": 25,
     "metadata": {},
     "output_type": "execute_result"
    }
   ],
   "execution_count": 25
  },
  {
   "metadata": {
    "ExecuteTime": {
     "end_time": "2024-09-01T07:39:53.998995Z",
     "start_time": "2024-09-01T07:39:53.984795Z"
    }
   },
   "cell_type": "code",
   "source": [
    "# fancy indexing means you use an array as index\n",
    "ind = [2, 3, 4]\n",
    "a[ind]"
   ],
   "id": "bfbe05997882913f",
   "outputs": [
    {
     "data": {
      "text/plain": [
       "array([2, 3, 4])"
      ]
     },
     "execution_count": 26,
     "metadata": {},
     "output_type": "execute_result"
    }
   ],
   "execution_count": 26
  },
  {
   "metadata": {
    "ExecuteTime": {
     "end_time": "2024-09-01T07:39:54.167903Z",
     "start_time": "2024-09-01T07:39:54.151057Z"
    }
   },
   "cell_type": "code",
   "source": [
    "# shape of result reflects the shape of the index array \n",
    "# not the shape of the array being indexed\n",
    "ind = np.array([[3, 2], [4, 1]])\n",
    "a[ind]"
   ],
   "id": "c38c88a5b730dca8",
   "outputs": [
    {
     "data": {
      "text/plain": [
       "array([[3, 2],\n",
       "       [4, 1]])"
      ]
     },
     "execution_count": 27,
     "metadata": {},
     "output_type": "execute_result"
    }
   ],
   "execution_count": 27
  },
  {
   "metadata": {},
   "cell_type": "markdown",
   "source": "# Boolean Indexing",
   "id": "a50e706cc44d647d"
  },
  {
   "metadata": {
    "ExecuteTime": {
     "end_time": "2024-09-01T07:39:54.522606Z",
     "start_time": "2024-09-01T07:39:54.509610Z"
    }
   },
   "cell_type": "code",
   "source": [
    "a = np.arange(12).reshape((3, 4))\n",
    "a"
   ],
   "id": "34db47960402addf",
   "outputs": [
    {
     "data": {
      "text/plain": [
       "array([[ 0,  1,  2,  3],\n",
       "       [ 4,  5,  6,  7],\n",
       "       [ 8,  9, 10, 11]])"
      ]
     },
     "execution_count": 28,
     "metadata": {},
     "output_type": "execute_result"
    }
   ],
   "execution_count": 28
  },
  {
   "metadata": {
    "ExecuteTime": {
     "end_time": "2024-09-01T07:39:54.744106Z",
     "start_time": "2024-09-01T07:39:54.730031Z"
    }
   },
   "cell_type": "code",
   "source": [
    "masked_indexes = a > 4\n",
    "masked_indexes"
   ],
   "id": "5f9bbe1c33f6c4af",
   "outputs": [
    {
     "data": {
      "text/plain": [
       "array([[False, False, False, False],\n",
       "       [False,  True,  True,  True],\n",
       "       [ True,  True,  True,  True]])"
      ]
     },
     "execution_count": 29,
     "metadata": {},
     "output_type": "execute_result"
    }
   ],
   "execution_count": 29
  },
  {
   "metadata": {
    "ExecuteTime": {
     "end_time": "2024-09-01T07:39:55.039704Z",
     "start_time": "2024-09-01T07:39:55.025437Z"
    }
   },
   "cell_type": "code",
   "source": "a[masked_indexes] # returns a list of values at those indexes",
   "id": "9b13c026a65859d9",
   "outputs": [
    {
     "data": {
      "text/plain": [
       "array([ 5,  6,  7,  8,  9, 10, 11])"
      ]
     },
     "execution_count": 30,
     "metadata": {},
     "output_type": "execute_result"
    }
   ],
   "execution_count": 30
  },
  {
   "metadata": {
    "ExecuteTime": {
     "end_time": "2024-09-01T07:39:55.354465Z",
     "start_time": "2024-09-01T07:39:55.346686Z"
    }
   },
   "cell_type": "code",
   "source": "a[masked_indexes] = 55",
   "id": "351f2905704d5eb1",
   "outputs": [],
   "execution_count": 31
  },
  {
   "metadata": {
    "ExecuteTime": {
     "end_time": "2024-09-01T07:39:55.491465Z",
     "start_time": "2024-09-01T07:39:55.477166Z"
    }
   },
   "cell_type": "code",
   "source": "a",
   "id": "313ce619f0e05a02",
   "outputs": [
    {
     "data": {
      "text/plain": [
       "array([[ 0,  1,  2,  3],\n",
       "       [ 4, 55, 55, 55],\n",
       "       [55, 55, 55, 55]])"
      ]
     },
     "execution_count": 32,
     "metadata": {},
     "output_type": "execute_result"
    }
   ],
   "execution_count": 32
  },
  {
   "metadata": {},
   "cell_type": "markdown",
   "source": "# Array Splitting",
   "id": "80e300c34285ef12"
  },
  {
   "metadata": {
    "ExecuteTime": {
     "end_time": "2024-09-01T07:39:55.745735Z",
     "start_time": "2024-09-01T07:39:55.733989Z"
    }
   },
   "cell_type": "code",
   "source": [
    "x = [1, 2, 3, 99, 99, 3, 2, 1]\n",
    "x1, x2, x3 = np.split(x, [3, 5])\n",
    "print(x1, x2, x3)"
   ],
   "id": "806e9c9d60095282",
   "outputs": [
    {
     "name": "stdout",
     "output_type": "stream",
     "text": [
      "[1 2 3] [99 99] [3 2 1]\n"
     ]
    }
   ],
   "execution_count": 33
  },
  {
   "metadata": {
    "ExecuteTime": {
     "end_time": "2024-09-01T07:39:55.851544Z",
     "start_time": "2024-09-01T07:39:55.838219Z"
    }
   },
   "cell_type": "code",
   "source": [
    "grid = np.arange(16).reshape((4, 4))\n",
    "grid"
   ],
   "id": "830f60623210fb90",
   "outputs": [
    {
     "data": {
      "text/plain": [
       "array([[ 0,  1,  2,  3],\n",
       "       [ 4,  5,  6,  7],\n",
       "       [ 8,  9, 10, 11],\n",
       "       [12, 13, 14, 15]])"
      ]
     },
     "execution_count": 34,
     "metadata": {},
     "output_type": "execute_result"
    }
   ],
   "execution_count": 34
  },
  {
   "metadata": {
    "ExecuteTime": {
     "end_time": "2024-09-01T07:39:56.114322Z",
     "start_time": "2024-09-01T07:39:56.101747Z"
    }
   },
   "cell_type": "code",
   "source": [
    "upper, lower = np.vsplit(grid, [2])\n",
    "print(upper)\n",
    "print(lower)"
   ],
   "id": "8b97ed825253ec3a",
   "outputs": [
    {
     "name": "stdout",
     "output_type": "stream",
     "text": [
      "[[0 1 2 3]\n",
      " [4 5 6 7]]\n",
      "[[ 8  9 10 11]\n",
      " [12 13 14 15]]\n"
     ]
    }
   ],
   "execution_count": 35
  },
  {
   "metadata": {
    "ExecuteTime": {
     "end_time": "2024-09-01T07:39:56.238319Z",
     "start_time": "2024-09-01T07:39:56.227703Z"
    }
   },
   "cell_type": "code",
   "source": [
    "left, right = np.hsplit(grid, [2])\n",
    "print(left)\n",
    "print(right)"
   ],
   "id": "ced778916a73691",
   "outputs": [
    {
     "name": "stdout",
     "output_type": "stream",
     "text": [
      "[[ 0  1]\n",
      " [ 4  5]\n",
      " [ 8  9]\n",
      " [12 13]]\n",
      "[[ 2  3]\n",
      " [ 6  7]\n",
      " [10 11]\n",
      " [14 15]]\n"
     ]
    }
   ],
   "execution_count": 36
  },
  {
   "metadata": {},
   "cell_type": "markdown",
   "source": "# Array Combine",
   "id": "aba97ca8f354c179"
  },
  {
   "metadata": {
    "ExecuteTime": {
     "end_time": "2024-09-01T07:39:56.528414Z",
     "start_time": "2024-09-01T07:39:56.519110Z"
    }
   },
   "cell_type": "code",
   "source": [
    "a = np.array([[1, 2], [3, 4]])\n",
    "b = np.array([[5, 6], [7, 8]])"
   ],
   "id": "a95f4106e9ce06d7",
   "outputs": [],
   "execution_count": 37
  },
  {
   "metadata": {
    "ExecuteTime": {
     "end_time": "2024-09-01T07:39:56.803388Z",
     "start_time": "2024-09-01T07:39:56.792285Z"
    }
   },
   "cell_type": "code",
   "source": "a",
   "id": "61e496ddf3feb7fd",
   "outputs": [
    {
     "data": {
      "text/plain": [
       "array([[1, 2],\n",
       "       [3, 4]])"
      ]
     },
     "execution_count": 38,
     "metadata": {},
     "output_type": "execute_result"
    }
   ],
   "execution_count": 38
  },
  {
   "metadata": {
    "ExecuteTime": {
     "end_time": "2024-09-01T07:39:56.944631Z",
     "start_time": "2024-09-01T07:39:56.931192Z"
    }
   },
   "cell_type": "code",
   "source": "np.stack((a, b), axis=0)",
   "id": "e165c69c543c35c9",
   "outputs": [
    {
     "data": {
      "text/plain": [
       "array([[[1, 2],\n",
       "        [3, 4]],\n",
       "\n",
       "       [[5, 6],\n",
       "        [7, 8]]])"
      ]
     },
     "execution_count": 39,
     "metadata": {},
     "output_type": "execute_result"
    }
   ],
   "execution_count": 39
  },
  {
   "metadata": {
    "ExecuteTime": {
     "end_time": "2024-09-01T07:39:57.427072Z",
     "start_time": "2024-09-01T07:39:57.413726Z"
    }
   },
   "cell_type": "code",
   "source": "np.concatenate((a, b), axis=0)",
   "id": "4263c9084962c9eb",
   "outputs": [
    {
     "data": {
      "text/plain": [
       "array([[1, 2],\n",
       "       [3, 4],\n",
       "       [5, 6],\n",
       "       [7, 8]])"
      ]
     },
     "execution_count": 40,
     "metadata": {},
     "output_type": "execute_result"
    }
   ],
   "execution_count": 40
  },
  {
   "metadata": {},
   "cell_type": "markdown",
   "source": "# Products",
   "id": "1d89e0be375d2da9"
  },
  {
   "metadata": {
    "ExecuteTime": {
     "end_time": "2024-09-01T07:39:57.538381Z",
     "start_time": "2024-09-01T07:39:57.519939Z"
    }
   },
   "cell_type": "code",
   "source": [
    "A = np.array([[1, 2], \n",
    "              [3, 4]])\n",
    "\n",
    "B = np.array([[5, 6], \n",
    "              [7, 8]])\n",
    "\n",
    "# Hadamard product using the * operator\n",
    "C = A * B\n",
    "C"
   ],
   "id": "d47b6f8f439612ab",
   "outputs": [
    {
     "data": {
      "text/plain": [
       "array([[ 5, 12],\n",
       "       [21, 32]])"
      ]
     },
     "execution_count": 41,
     "metadata": {},
     "output_type": "execute_result"
    }
   ],
   "execution_count": 41
  },
  {
   "metadata": {
    "ExecuteTime": {
     "end_time": "2024-09-01T07:39:57.917491Z",
     "start_time": "2024-09-01T07:39:57.903989Z"
    }
   },
   "cell_type": "code",
   "source": [
    "C = np.dot(A, B)\n",
    "C"
   ],
   "id": "a66eb54d9974ec90",
   "outputs": [
    {
     "data": {
      "text/plain": [
       "array([[19, 22],\n",
       "       [43, 50]])"
      ]
     },
     "execution_count": 42,
     "metadata": {},
     "output_type": "execute_result"
    }
   ],
   "execution_count": 42
  },
  {
   "metadata": {
    "ExecuteTime": {
     "end_time": "2024-09-01T07:39:58.089318Z",
     "start_time": "2024-09-01T07:39:58.074864Z"
    }
   },
   "cell_type": "code",
   "source": [
    "C = np.matmul(A, B)\n",
    "C"
   ],
   "id": "2f384a3345d920bb",
   "outputs": [
    {
     "data": {
      "text/plain": [
       "array([[19, 22],\n",
       "       [43, 50]])"
      ]
     },
     "execution_count": 43,
     "metadata": {},
     "output_type": "execute_result"
    }
   ],
   "execution_count": 43
  },
  {
   "metadata": {
    "ExecuteTime": {
     "end_time": "2024-09-01T07:39:58.383367Z",
     "start_time": "2024-09-01T07:39:58.368679Z"
    }
   },
   "cell_type": "code",
   "source": "A @ B",
   "id": "b47e5b72601279d3",
   "outputs": [
    {
     "data": {
      "text/plain": [
       "array([[19, 22],\n",
       "       [43, 50]])"
      ]
     },
     "execution_count": 44,
     "metadata": {},
     "output_type": "execute_result"
    }
   ],
   "execution_count": 44
  },
  {
   "metadata": {},
   "cell_type": "markdown",
   "source": "# Missing Values",
   "id": "d4252105ac4fa85e"
  },
  {
   "metadata": {
    "ExecuteTime": {
     "end_time": "2024-09-01T07:41:11.087725Z",
     "start_time": "2024-09-01T07:41:11.072876Z"
    }
   },
   "cell_type": "code",
   "source": [
    "a = np.array([np.nan, 5, 4, -3])\n",
    "a.mean()"
   ],
   "id": "ce4075e03b72629",
   "outputs": [
    {
     "data": {
      "text/plain": [
       "np.float64(nan)"
      ]
     },
     "execution_count": 45,
     "metadata": {},
     "output_type": "execute_result"
    }
   ],
   "execution_count": 45
  },
  {
   "metadata": {
    "ExecuteTime": {
     "end_time": "2024-09-01T07:41:40.521943Z",
     "start_time": "2024-09-01T07:41:40.507829Z"
    }
   },
   "cell_type": "code",
   "source": [
    "a[0] = a[1:].mean()\n",
    "a.mean()"
   ],
   "id": "6a0eb184d634ee9f",
   "outputs": [
    {
     "data": {
      "text/plain": [
       "np.float64(2.0)"
      ]
     },
     "execution_count": 46,
     "metadata": {},
     "output_type": "execute_result"
    }
   ],
   "execution_count": 46
  },
  {
   "metadata": {},
   "cell_type": "code",
   "outputs": [],
   "execution_count": null,
   "source": "",
   "id": "b53a9c4544acf092"
  }
 ],
 "metadata": {
  "kernelspec": {
   "display_name": "Python 3",
   "language": "python",
   "name": "python3"
  },
  "language_info": {
   "codemirror_mode": {
    "name": "ipython",
    "version": 2
   },
   "file_extension": ".py",
   "mimetype": "text/x-python",
   "name": "python",
   "nbconvert_exporter": "python",
   "pygments_lexer": "ipython2",
   "version": "2.7.6"
  }
 },
 "nbformat": 4,
 "nbformat_minor": 5
}

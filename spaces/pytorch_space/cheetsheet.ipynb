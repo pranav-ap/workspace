{
 "cells": [
  {
   "metadata": {
    "ExecuteTime": {
     "end_time": "2024-09-06T13:19:22.441930Z",
     "start_time": "2024-09-06T13:19:19.654838Z"
    }
   },
   "cell_type": "code",
   "source": [
    "import torch\n",
    "from torchvision import datasets, transforms\n",
    "from torch.utils.data import DataLoader"
   ],
   "id": "9ada875f67ebf2f3",
   "outputs": [],
   "execution_count": 1
  },
  {
   "metadata": {},
   "cell_type": "markdown",
   "source": "# Images Mean & Std By Channel",
   "id": "ac8aa5166b36e286"
  },
  {
   "metadata": {},
   "cell_type": "code",
   "outputs": [],
   "execution_count": null,
   "source": [
    "def calculate_mean_std_explain():\n",
    "    # Simulate a batch of 4 random images, with 3 channels (RGB), and size 64x64 pixels\n",
    "    batch_size = 4\n",
    "    channels = 3\n",
    "    height, width = 64, 64\n",
    "    \n",
    "    # Create a random tensor of shape (4, 3, 64, 64)\n",
    "    images = torch.randn(batch_size, channels, height, width)\n",
    "    \n",
    "    # Step 1: Check the shape of the images\n",
    "    print(f\"Image Batch Shape: {images.shape}\")\n",
    "    \n",
    "    # Step 2: Calculate the mean and std for each channel\n",
    "    # Reshape to (batch_size, channels, H*W) so each image's pixels are flattened\n",
    "    images_flat = images.view(batch_size, channels, -1)\n",
    "    \n",
    "    # Step 3: Calculate mean and std for each channel\n",
    "    mean = images_flat.mean(dim=2).mean(dim=0)\n",
    "    std = images_flat.std(dim=2).mean(dim=0)\n",
    "    \n",
    "    print(f\"Mean: {mean}\")\n",
    "    print(f\"Standard Deviation: {std}\")"
   ],
   "id": "19ec115e0caf757b"
  },
  {
   "cell_type": "code",
   "execution_count": null,
   "id": "initial_id",
   "metadata": {
    "collapsed": true
   },
   "outputs": [],
   "source": [
    "def calculate_mean_std(dataset_path, batch_size=32):\n",
    "    \"\"\"\n",
    "    Calculate the mean and standard deviation for each channel (RGB) of the dataset.\n",
    "\n",
    "    Args:\n",
    "        dataset_path (str): Path to the dataset directory.\n",
    "        batch_size (int): Batch size for DataLoader. Default is 32.\n",
    "\n",
    "    Returns:\n",
    "        (mean, std): Tuple containing mean and standard deviation for each channel (R, G, B).\n",
    "    \"\"\"\n",
    "    # Define a transformation to convert images to tensor\n",
    "    transform = transforms.Compose([transforms.ToTensor()])\n",
    "\n",
    "    # Load the dataset\n",
    "    dataset = datasets.ImageFolder(dataset_path, transform=transform)\n",
    "    dataloader = DataLoader(dataset, batch_size=batch_size, shuffle=False)\n",
    "\n",
    "    # Initialize variables to accumulate pixel sums and squared sums\n",
    "    num_images = 0\n",
    "    mean = torch.zeros(3)  # tensor([0., 0., 0.])\n",
    "    std = torch.zeros(3)  # tensor([0., 0., 0.])\n",
    "\n",
    "    # Iterate over the dataset\n",
    "    for images, _ in dataloader:\n",
    "        batch_size, channels, height, width = images.shape\n",
    "        num_images += batch_size\n",
    "\n",
    "        # Reshape to (batch_size, 3, H*W) for easier mean/std calculation\n",
    "        images = images.view(batch_size, channels, -1)\n",
    "\n",
    "        # Calculate sum for mean and std numerators for each channel\n",
    "        mean += images.mean(2).sum(0)\n",
    "        std += images.std(2).sum(0)\n",
    "\n",
    "    # Calculate final mean and std\n",
    "    mean /= num_images\n",
    "    std /= num_images\n",
    "\n",
    "    print(f\"Mean: {mean}\")\n",
    "    print(f\"Standard Deviation: {std}\")\n",
    "\n",
    "    return mean, std"
   ]
  }
 ],
 "metadata": {
  "kernelspec": {
   "display_name": "Python 3",
   "language": "python",
   "name": "python3"
  },
  "language_info": {
   "codemirror_mode": {
    "name": "ipython",
    "version": 2
   },
   "file_extension": ".py",
   "mimetype": "text/x-python",
   "name": "python",
   "nbconvert_exporter": "python",
   "pygments_lexer": "ipython2",
   "version": "2.7.6"
  }
 },
 "nbformat": 4,
 "nbformat_minor": 5
}

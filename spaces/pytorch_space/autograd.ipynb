{
 "cells": [
  {
   "cell_type": "code",
   "id": "initial_id",
   "metadata": {
    "collapsed": true,
    "ExecuteTime": {
     "end_time": "2024-09-05T06:16:21.637233Z",
     "start_time": "2024-09-05T06:16:08.797394Z"
    }
   },
   "source": "import torch",
   "outputs": [],
   "execution_count": 1
  },
  {
   "metadata": {},
   "cell_type": "markdown",
   "source": "# Graph",
   "id": "e472ed507946968e"
  },
  {
   "metadata": {
    "ExecuteTime": {
     "end_time": "2024-09-05T06:16:21.671615Z",
     "start_time": "2024-09-05T06:16:21.644824Z"
    }
   },
   "cell_type": "code",
   "source": [
    "a = torch.tensor([2.], requires_grad=True)\n",
    "b = torch.tensor([1.], requires_grad=True)"
   ],
   "id": "7568edbb06375367",
   "outputs": [],
   "execution_count": 2
  },
  {
   "metadata": {
    "ExecuteTime": {
     "end_time": "2024-09-05T06:16:32.117459Z",
     "start_time": "2024-09-05T06:16:32.099594Z"
    }
   },
   "cell_type": "code",
   "source": [
    "c = a + b\n",
    "d = b + 1\n",
    "e = c * d"
   ],
   "id": "d41943e539305ad6",
   "outputs": [],
   "execution_count": 3
  },
  {
   "metadata": {
    "ExecuteTime": {
     "end_time": "2024-09-05T06:16:47.448949Z",
     "start_time": "2024-09-05T06:16:47.435989Z"
    }
   },
   "cell_type": "code",
   "source": [
    "print(type(a))\n",
    "print(type(b))\n",
    "print(type(c))\n",
    "print(type(d))\n",
    "print(type(e))"
   ],
   "id": "541fd2f1b3b16541",
   "outputs": [
    {
     "name": "stdout",
     "output_type": "stream",
     "text": [
      "<class 'torch.Tensor'>\n",
      "<class 'torch.Tensor'>\n",
      "<class 'torch.Tensor'>\n",
      "<class 'torch.Tensor'>\n",
      "<class 'torch.Tensor'>\n"
     ]
    }
   ],
   "execution_count": 4
  },
  {
   "metadata": {
    "ExecuteTime": {
     "end_time": "2024-09-05T06:17:20.852532Z",
     "start_time": "2024-09-05T06:17:20.843531Z"
    }
   },
   "cell_type": "code",
   "source": [
    "# grads populated for non-leaf nodes\n",
    "c.retain_grad()\n",
    "d.retain_grad()\n",
    "e.retain_grad()"
   ],
   "id": "e81385d8251b6bcc",
   "outputs": [],
   "execution_count": 5
  },
  {
   "metadata": {
    "ExecuteTime": {
     "end_time": "2024-09-05T06:18:10.481857Z",
     "start_time": "2024-09-05T06:18:10.470220Z"
    }
   },
   "cell_type": "code",
   "source": "print(e)",
   "id": "3957dc71dc2ac976",
   "outputs": [
    {
     "name": "stdout",
     "output_type": "stream",
     "text": [
      "tensor([6.], grad_fn=<MulBackward0>)\n"
     ]
    }
   ],
   "execution_count": 6
  },
  {
   "metadata": {
    "ExecuteTime": {
     "end_time": "2024-09-05T06:18:25.223452Z",
     "start_time": "2024-09-05T06:18:25.087695Z"
    }
   },
   "cell_type": "code",
   "source": "e.backward()",
   "id": "dc9709ef917e562b",
   "outputs": [],
   "execution_count": 7
  },
  {
   "metadata": {
    "ExecuteTime": {
     "end_time": "2024-09-05T06:20:01.036953Z",
     "start_time": "2024-09-05T06:20:01.026152Z"
    }
   },
   "cell_type": "code",
   "source": "print(a.grad)",
   "id": "c090c84a23d2d7db",
   "outputs": [
    {
     "name": "stdout",
     "output_type": "stream",
     "text": [
      "tensor([2.])\n"
     ]
    }
   ],
   "execution_count": 8
  },
  {
   "metadata": {
    "ExecuteTime": {
     "end_time": "2024-09-05T06:22:15.111415Z",
     "start_time": "2024-09-05T06:22:15.096893Z"
    }
   },
   "cell_type": "code",
   "source": "print(a.grad, b.grad, c.grad, d.grad, e.grad)",
   "id": "472a3413d4152b34",
   "outputs": [
    {
     "name": "stdout",
     "output_type": "stream",
     "text": [
      "tensor([2.]) tensor([5.]) tensor([2.]) tensor([3.]) tensor([1.])\n"
     ]
    }
   ],
   "execution_count": 9
  },
  {
   "metadata": {},
   "cell_type": "markdown",
   "source": "# require_grad vs retain_grad",
   "id": "2c9fe2e9c76e1081"
  },
  {
   "metadata": {
    "ExecuteTime": {
     "end_time": "2024-09-05T08:41:09.977615Z",
     "start_time": "2024-09-05T08:41:05.869728Z"
    }
   },
   "cell_type": "code",
   "source": [
    "import torch\n",
    "import torch.nn as nn\n",
    "import torch.optim as optim\n",
    "\n",
    "# Define a simple neural network\n",
    "class SimpleNet(nn.Module):\n",
    "    def __init__(self):\n",
    "        super(SimpleNet, self).__init__()\n",
    "        self.fc1 = nn.Linear(2, 3)  # Input layer (2 features) -> Hidden layer (3 neurons)\n",
    "        self.fc2 = nn.Linear(3, 1)  # Hidden layer (3 neurons) -> Output layer (1 neuron)\n",
    "\n",
    "    def forward(self, x):\n",
    "        x = self.fc1(x)  # First layer (non-leaf tensor)\n",
    "        x = torch.relu(x)  # Apply ReLU activation (non-leaf tensor)\n",
    "        x = self.fc2(x)  # Second layer (non-leaf tensor)\n",
    "        return x\n",
    "\n",
    "# Create the network\n",
    "net = SimpleNet()\n",
    "\n",
    "# Define a loss function and an optimizer\n",
    "criterion = nn.MSELoss()\n",
    "optimizer = optim.SGD(net.parameters(), lr=0.01)\n",
    "\n",
    "# Create input and target tensors\n",
    "inputs = torch.tensor([[1.0, 2.0]], requires_grad=True)  # Input is a leaf tensor\n",
    "target = torch.tensor([[0.5]])  # Target output (no need for gradient tracking)\n",
    "\n",
    "# Perform a forward pass\n",
    "output = net(inputs)  # Forward pass through the network (output is a non-leaf tensor)\n",
    "loss = criterion(output, target)  # Compute loss (non-leaf tensor)\n",
    "\n",
    "# Perform backward pass\n",
    "loss.backward()\n",
    "\n",
    "# Let's inspect the leaf and non-leaf tensors\n",
    "print(\"Is inputs a leaf tensor?\", inputs.is_leaf)  # Should print True\n",
    "print(\"Is output a leaf tensor?\", output.is_leaf)  # Should print False\n",
    "print(\"Is fc1's weight a leaf tensor?\", net.fc1.weight.is_leaf)  # Should print True (weights are leaf tensors)\n",
    "print(\"Gradient for inputs:\", inputs.grad)  # Gradients should be calculated for leaf tensors"
   ],
   "id": "3bf81613fcbab42b",
   "outputs": [
    {
     "name": "stdout",
     "output_type": "stream",
     "text": [
      "Is inputs a leaf tensor? True\n",
      "Is output a leaf tensor? False\n",
      "Is fc1's weight a leaf tensor? True\n",
      "Gradient for inputs: tensor([[1.2854, 1.5133]])\n"
     ]
    }
   ],
   "execution_count": 11
  },
  {
   "metadata": {},
   "cell_type": "code",
   "outputs": [],
   "execution_count": null,
   "source": "",
   "id": "ee0476628f581164"
  }
 ],
 "metadata": {
  "kernelspec": {
   "display_name": "Python 3",
   "language": "python",
   "name": "python3"
  },
  "language_info": {
   "codemirror_mode": {
    "name": "ipython",
    "version": 2
   },
   "file_extension": ".py",
   "mimetype": "text/x-python",
   "name": "python",
   "nbconvert_exporter": "python",
   "pygments_lexer": "ipython2",
   "version": "2.7.6"
  }
 },
 "nbformat": 4,
 "nbformat_minor": 5
}

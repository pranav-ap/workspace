{
 "cells": [
  {
   "cell_type": "code",
   "id": "b9781a9e-8c30-462c-b4a1-b31692b5ecfd",
   "metadata": {
    "ExecuteTime": {
     "end_time": "2024-09-03T21:50:19.909673Z",
     "start_time": "2024-09-03T21:50:19.898343Z"
    }
   },
   "source": [
    "import torch\n",
    "torch.__version__"
   ],
   "outputs": [
    {
     "data": {
      "text/plain": [
       "'2.4.1+cu121'"
      ]
     },
     "execution_count": 22,
     "metadata": {},
     "output_type": "execute_result"
    }
   ],
   "execution_count": 22
  },
  {
   "cell_type": "markdown",
   "id": "b683219e-7808-4f29-8899-e572c527789f",
   "metadata": {},
   "source": "# Tensor Shape are about Options"
  },
  {
   "metadata": {
    "ExecuteTime": {
     "end_time": "2024-09-03T20:35:39.886370Z",
     "start_time": "2024-09-03T20:35:39.871960Z"
    }
   },
   "cell_type": "code",
   "source": "torch.tensor(1).shape",
   "id": "2ef7a956cfd51af3",
   "outputs": [
    {
     "data": {
      "text/plain": [
       "torch.Size([])"
      ]
     },
     "execution_count": 8,
     "metadata": {},
     "output_type": "execute_result"
    }
   ],
   "execution_count": 8
  },
  {
   "metadata": {
    "ExecuteTime": {
     "end_time": "2024-09-03T20:35:40.799329Z",
     "start_time": "2024-09-03T20:35:40.786779Z"
    }
   },
   "cell_type": "code",
   "source": "torch.tensor([1]).shape, torch.tensor([1, 2, 3]).shape",
   "id": "5d07045ed810680c",
   "outputs": [
    {
     "data": {
      "text/plain": [
       "(torch.Size([1]), torch.Size([3]))"
      ]
     },
     "execution_count": 9,
     "metadata": {},
     "output_type": "execute_result"
    }
   ],
   "execution_count": 9
  },
  {
   "metadata": {
    "ExecuteTime": {
     "end_time": "2024-09-03T20:35:41.818924Z",
     "start_time": "2024-09-03T20:35:41.801956Z"
    }
   },
   "cell_type": "code",
   "source": "torch.tensor([[1, 2, 3]]).shape, torch.tensor([[1, 2, 3], [1, 2, 3]]).shape",
   "id": "290749602775efa3",
   "outputs": [
    {
     "data": {
      "text/plain": [
       "(torch.Size([1, 3]), torch.Size([2, 3]))"
      ]
     },
     "execution_count": 10,
     "metadata": {},
     "output_type": "execute_result"
    }
   ],
   "execution_count": 10
  },
  {
   "metadata": {
    "ExecuteTime": {
     "end_time": "2024-09-03T20:37:51.609859Z",
     "start_time": "2024-09-03T20:37:51.597254Z"
    }
   },
   "cell_type": "code",
   "source": "torch.tensor([[[1, 2, 3]]]).shape, torch.tensor([[[1, 2, 3], [1, 2, 3]]]).shape",
   "id": "c01f1d78a556aa87",
   "outputs": [
    {
     "data": {
      "text/plain": [
       "(torch.Size([1, 1, 3]), torch.Size([1, 2, 3]))"
      ]
     },
     "execution_count": 11,
     "metadata": {},
     "output_type": "execute_result"
    }
   ],
   "execution_count": 11
  },
  {
   "cell_type": "markdown",
   "id": "16c76e0d-b6ec-49cc-83f1-b4a0b9d36b08",
   "metadata": {},
   "source": [
    "# Tensor Operations"
   ]
  },
  {
   "cell_type": "code",
   "id": "a78dd120-43c2-4c0d-9f25-c2e8836c8264",
   "metadata": {
    "ExecuteTime": {
     "end_time": "2024-09-03T20:59:21.049431Z",
     "start_time": "2024-09-03T20:59:21.019767Z"
    }
   },
   "source": [
    "# Create a tensor of values and add a number to it\n",
    "tensor = torch.tensor([1, 2, 3])\n",
    "tensor + 10"
   ],
   "outputs": [
    {
     "data": {
      "text/plain": [
       "tensor([11, 12, 13])"
      ]
     },
     "execution_count": 12,
     "metadata": {},
     "output_type": "execute_result"
    }
   ],
   "execution_count": 12
  },
  {
   "metadata": {
    "ExecuteTime": {
     "end_time": "2024-09-03T20:59:30.289503Z",
     "start_time": "2024-09-03T20:59:30.278956Z"
    }
   },
   "cell_type": "code",
   "source": "tensor.device",
   "id": "f082e517a0009c0f",
   "outputs": [
    {
     "data": {
      "text/plain": [
       "device(type='cpu')"
      ]
     },
     "execution_count": 13,
     "metadata": {},
     "output_type": "execute_result"
    }
   ],
   "execution_count": 13
  },
  {
   "cell_type": "code",
   "execution_count": 36,
   "id": "ab8deaca-15c3-414d-900f-139fff038ecc",
   "metadata": {},
   "outputs": [
    {
     "data": {
      "text/plain": [
       "tensor([10, 20, 30])"
      ]
     },
     "execution_count": 36,
     "metadata": {},
     "output_type": "execute_result"
    }
   ],
   "source": [
    "# Scalar multiplication by 10\n",
    "tensor * 10"
   ]
  },
  {
   "cell_type": "code",
   "execution_count": 34,
   "id": "686d9bb0-deaa-44cf-a064-d89962efd332",
   "metadata": {},
   "outputs": [
    {
     "data": {
      "text/plain": [
       "tensor([1, 4, 9])"
      ]
     },
     "execution_count": 34,
     "metadata": {},
     "output_type": "execute_result"
    }
   ],
   "source": [
    "# Element-wise multiplication\n",
    "tensor * tensor"
   ]
  },
  {
   "cell_type": "markdown",
   "id": "ce2ca8f0-f476-464f-9778-3537be1ecc28",
   "metadata": {},
   "source": [
    "The main two rules for matrix multiplication to remember are:\n",
    "\n",
    "1. The inner dimensions must match\n",
    "    - `(3, 2) @ (3, 2)` won't work\n",
    "    - `(2, 3) @ (3, 2)` will work\n",
    "1. The resulting matrix has the shape of the outer dimensions\n",
    "    - `(2, 3) @ (3, 2) -> (2, 2)`\n",
    "\n",
    "Note: \"@\" in Python is the symbol for matrix multiplication."
   ]
  },
  {
   "cell_type": "code",
   "execution_count": 35,
   "id": "2861c60b-09d9-420f-9a41-65f658d00dbb",
   "metadata": {},
   "outputs": [
    {
     "data": {
      "text/plain": [
       "tensor(14)"
      ]
     },
     "execution_count": 35,
     "metadata": {},
     "output_type": "execute_result"
    }
   ],
   "source": [
    "# Matrix multiplication\n",
    "torch.matmul(tensor, tensor)"
   ]
  },
  {
   "cell_type": "code",
   "execution_count": 38,
   "id": "82d6a3cf-a3e7-4b6b-88e5-7c28113ac777",
   "metadata": {},
   "outputs": [
    {
     "data": {
      "text/plain": [
       "tensor(14)"
      ]
     },
     "execution_count": 38,
     "metadata": {},
     "output_type": "execute_result"
    }
   ],
   "source": [
    "# Can also use the \"@\" symbol for matrix multiplication, though not recommended\n",
    "tensor @ tensor # The in-built torch.matmul() method is faster."
   ]
  },
  {
   "cell_type": "markdown",
   "id": "dcc46a63-fd8d-4278-8a1e-8e2322813ff9",
   "metadata": {},
   "source": [
    "A matrix multiplication like this is also referred to as the dot product of two matrices."
   ]
  },
  {
   "metadata": {},
   "cell_type": "markdown",
   "source": "# Float & Mean",
   "id": "1e77bff2a7b989d5"
  },
  {
   "metadata": {
    "ExecuteTime": {
     "end_time": "2024-09-03T21:13:08.734650Z",
     "start_time": "2024-09-03T21:13:08.700659Z"
    }
   },
   "cell_type": "code",
   "source": [
    "# Create a tensor\n",
    "x = torch.arange(0, 100, 10)\n",
    "x"
   ],
   "id": "dac26943dcdc5351",
   "outputs": [
    {
     "data": {
      "text/plain": [
       "tensor([ 0, 10, 20, 30, 40, 50, 60, 70, 80, 90])"
      ]
     },
     "execution_count": 14,
     "metadata": {},
     "output_type": "execute_result"
    }
   ],
   "execution_count": 14
  },
  {
   "metadata": {
    "ExecuteTime": {
     "end_time": "2024-09-03T21:13:31.170821Z",
     "start_time": "2024-09-03T21:13:31.097570Z"
    }
   },
   "cell_type": "code",
   "source": "x.type(torch.float32).mean()",
   "id": "de61eff7fc64dcd1",
   "outputs": [
    {
     "data": {
      "text/plain": [
       "tensor(45.)"
      ]
     },
     "execution_count": 15,
     "metadata": {},
     "output_type": "execute_result"
    }
   ],
   "execution_count": 15
  },
  {
   "metadata": {
    "ExecuteTime": {
     "end_time": "2024-09-03T21:13:41.117228Z",
     "start_time": "2024-09-03T21:13:40.758745Z"
    }
   },
   "cell_type": "code",
   "source": "# x.mean() # will not work!!",
   "id": "f161dd1d85de1d30",
   "outputs": [
    {
     "ename": "RuntimeError",
     "evalue": "mean(): could not infer output dtype. Input dtype must be either a floating point or complex dtype. Got: Long",
     "output_type": "error",
     "traceback": [
      "\u001B[1;31m---------------------------------------------------------------------------\u001B[0m",
      "\u001B[1;31mRuntimeError\u001B[0m                              Traceback (most recent call last)",
      "Cell \u001B[1;32mIn[16], line 1\u001B[0m\n\u001B[1;32m----> 1\u001B[0m \u001B[43mx\u001B[49m\u001B[38;5;241;43m.\u001B[39;49m\u001B[43mmean\u001B[49m\u001B[43m(\u001B[49m\u001B[43m)\u001B[49m\n",
      "\u001B[1;31mRuntimeError\u001B[0m: mean(): could not infer output dtype. Input dtype must be either a floating point or complex dtype. Got: Long"
     ]
    }
   ],
   "execution_count": 16
  },
  {
   "cell_type": "markdown",
   "id": "407064dd-f45f-4b10-9b7d-378968168ad5",
   "metadata": {},
   "source": "# Change tensor datatype"
  },
  {
   "cell_type": "code",
   "execution_count": 51,
   "id": "ede6bddb-aa83-4a5e-86e0-9659d1870f58",
   "metadata": {},
   "outputs": [
    {
     "data": {
      "text/plain": [
       "torch.float32"
      ]
     },
     "execution_count": 51,
     "metadata": {},
     "output_type": "execute_result"
    }
   ],
   "source": [
    "# Create a tensor and check its datatype\n",
    "tensor = torch.arange(10., 100., 10.)\n",
    "tensor.dtype"
   ]
  },
  {
   "cell_type": "code",
   "execution_count": 52,
   "id": "8804cf2a-4912-4aff-b382-94711a44313d",
   "metadata": {},
   "outputs": [
    {
     "data": {
      "text/plain": [
       "tensor([10., 20., 30., 40., 50., 60., 70., 80., 90.], dtype=torch.float16)"
      ]
     },
     "execution_count": 52,
     "metadata": {},
     "output_type": "execute_result"
    }
   ],
   "source": [
    "# Create a float16 tensor\n",
    "tensor_float16 = tensor.type(torch.float16)\n",
    "tensor_float16"
   ]
  },
  {
   "cell_type": "markdown",
   "id": "8b606f2f-3340-48c5-97a0-3cebde1e1a39",
   "metadata": {},
   "source": "# Reshaping & stacking "
  },
  {
   "cell_type": "code",
   "execution_count": 53,
   "id": "bd284857-f7df-4d8a-b277-12f6967a4cc3",
   "metadata": {},
   "outputs": [
    {
     "data": {
      "text/plain": [
       "(tensor([1., 2., 3., 4., 5., 6., 7.]), torch.Size([7]))"
      ]
     },
     "execution_count": 53,
     "metadata": {},
     "output_type": "execute_result"
    }
   ],
   "source": [
    "# Create a tensor\n",
    "x = torch.arange(1., 8.)\n",
    "x, x.shape"
   ]
  },
  {
   "cell_type": "code",
   "execution_count": 54,
   "id": "b8c1e5ec-32e2-418e-bd42-6d6aeea91bd6",
   "metadata": {},
   "outputs": [
    {
     "data": {
      "text/plain": [
       "(tensor([[1., 2., 3., 4., 5., 6., 7.]]), torch.Size([1, 7]))"
      ]
     },
     "execution_count": 54,
     "metadata": {},
     "output_type": "execute_result"
    }
   ],
   "source": [
    "# Add an extra dimension\n",
    "x_reshaped = x.reshape(1, 7)\n",
    "x_reshaped, x_reshaped.shape"
   ]
  },
  {
   "cell_type": "code",
   "execution_count": 55,
   "id": "782adf7d-17a1-4fe3-9897-2352286faeb3",
   "metadata": {},
   "outputs": [
    {
     "data": {
      "text/plain": [
       "(tensor([[1., 2., 3., 4., 5., 6., 7.]]), torch.Size([1, 7]))"
      ]
     },
     "execution_count": 55,
     "metadata": {},
     "output_type": "execute_result"
    }
   ],
   "source": [
    "# Change view (keeps same data as original but changes view)\n",
    "# See more: https://stackoverflow.com/a/54507446/7900723\n",
    "z = x.view(1, 7)\n",
    "z, z.shape"
   ]
  },
  {
   "cell_type": "code",
   "execution_count": 56,
   "id": "4cfd9bcc-ac34-42be-b20a-d5def0685a47",
   "metadata": {},
   "outputs": [
    {
     "data": {
      "text/plain": [
       "(tensor([[5., 2., 3., 4., 5., 6., 7.]]), tensor([5., 2., 3., 4., 5., 6., 7.]))"
      ]
     },
     "execution_count": 56,
     "metadata": {},
     "output_type": "execute_result"
    }
   ],
   "source": [
    "# Changing z changes x\n",
    "z[:, 0] = 5\n",
    "z, x"
   ]
  },
  {
   "cell_type": "markdown",
   "id": "29f5e045-7184-4995-8a76-4c82dfaef9c7",
   "metadata": {},
   "source": "# Squeezing & unsqueezing"
  },
  {
   "cell_type": "code",
   "execution_count": 57,
   "id": "1a7902be-3152-4766-9a89-8b302d37754b",
   "metadata": {},
   "outputs": [
    {
     "data": {
      "text/plain": [
       "tensor([[5., 2., 3., 4., 5., 6., 7.],\n",
       "        [5., 2., 3., 4., 5., 6., 7.],\n",
       "        [5., 2., 3., 4., 5., 6., 7.],\n",
       "        [5., 2., 3., 4., 5., 6., 7.]])"
      ]
     },
     "execution_count": 57,
     "metadata": {},
     "output_type": "execute_result"
    }
   ],
   "source": [
    "# Stack tensors on top of each other\n",
    "x_stacked = torch.stack([x, x, x, x], dim=0) \n",
    "x_stacked"
   ]
  },
  {
   "cell_type": "code",
   "execution_count": 58,
   "id": "f13b536b-95cb-4237-a6f5-1863dc379f58",
   "metadata": {},
   "outputs": [
    {
     "data": {
      "text/plain": [
       "tensor([[5., 5., 5., 5.],\n",
       "        [2., 2., 2., 2.],\n",
       "        [3., 3., 3., 3.],\n",
       "        [4., 4., 4., 4.],\n",
       "        [5., 5., 5., 5.],\n",
       "        [6., 6., 6., 6.],\n",
       "        [7., 7., 7., 7.]])"
      ]
     },
     "execution_count": 58,
     "metadata": {},
     "output_type": "execute_result"
    }
   ],
   "source": [
    "x_stacked = torch.stack([x, x, x, x], dim=1) \n",
    "x_stacked"
   ]
  },
  {
   "cell_type": "code",
   "execution_count": 60,
   "id": "5de4ef3e-234d-4a95-a2d3-c7c7f4ce1da4",
   "metadata": {},
   "outputs": [
    {
     "name": "stdout",
     "output_type": "stream",
     "text": [
      "Previous tensor: tensor([[5., 2., 3., 4., 5., 6., 7.]])\n",
      "Previous shape: torch.Size([1, 7])\n",
      "\n",
      "New tensor: tensor([5., 2., 3., 4., 5., 6., 7.])\n",
      "New shape: torch.Size([7])\n"
     ]
    }
   ],
   "source": [
    "print(f\"Previous tensor: {x_reshaped}\")\n",
    "print(f\"Previous shape: {x_reshaped.shape}\")\n",
    "\n",
    "# Remove extra dimension from x_reshaped\n",
    "x_squeezed = x_reshaped.squeeze()\n",
    "\n",
    "print(f\"\\nNew tensor: {x_squeezed}\")\n",
    "print(f\"New shape: {x_squeezed.shape}\")"
   ]
  },
  {
   "cell_type": "code",
   "execution_count": 61,
   "id": "7867f3f0-1eef-4a96-b733-b179c14aef49",
   "metadata": {},
   "outputs": [
    {
     "name": "stdout",
     "output_type": "stream",
     "text": [
      "Previous tensor: tensor([5., 2., 3., 4., 5., 6., 7.])\n",
      "Previous shape: torch.Size([7])\n",
      "\n",
      "New tensor: tensor([[5., 2., 3., 4., 5., 6., 7.]])\n",
      "New shape: torch.Size([1, 7])\n"
     ]
    }
   ],
   "source": [
    "print(f\"Previous tensor: {x_squeezed}\")\n",
    "print(f\"Previous shape: {x_squeezed.shape}\")\n",
    "\n",
    "## Add an extra dimension with unsqueeze\n",
    "x_unsqueezed = x_squeezed.unsqueeze(dim=0)\n",
    "print(f\"\\nNew tensor: {x_unsqueezed}\")\n",
    "print(f\"New shape: {x_unsqueezed.shape}\")"
   ]
  },
  {
   "cell_type": "markdown",
   "id": "0eb4f1bb-85db-4b99-815b-78630d58069f",
   "metadata": {},
   "source": "# Permute dims"
  },
  {
   "cell_type": "code",
   "execution_count": 62,
   "id": "dd0ebc13-553d-40da-bbe1-1e168df529cd",
   "metadata": {},
   "outputs": [
    {
     "name": "stdout",
     "output_type": "stream",
     "text": [
      "Previous shape: torch.Size([224, 224, 3])\n",
      "New shape: torch.Size([3, 224, 224])\n"
     ]
    }
   ],
   "source": [
    "# Create tensor with specific shape\n",
    "x_original = torch.rand(size=(224, 224, 3))\n",
    "\n",
    "# Permute the original tensor to rearrange the axis order\n",
    "x_permuted = x_original.permute(2, 0, 1) # shifts axis 0->1, 1->2, 2->0\n",
    "\n",
    "print(f\"Previous shape: {x_original.shape}\")\n",
    "print(f\"New shape: {x_permuted.shape}\")"
   ]
  },
  {
   "cell_type": "markdown",
   "id": "916fc128-c8fc-4d86-8cfe-c04d4c2ff233",
   "metadata": {},
   "source": [
    "# Indexing "
   ]
  },
  {
   "cell_type": "code",
   "execution_count": 63,
   "id": "9c1cfefc-4217-4706-b4a8-757dc61035f6",
   "metadata": {},
   "outputs": [
    {
     "data": {
      "text/plain": [
       "(tensor([[[1, 2, 3],\n",
       "          [4, 5, 6],\n",
       "          [7, 8, 9]]]),\n",
       " torch.Size([1, 3, 3]))"
      ]
     },
     "execution_count": 63,
     "metadata": {},
     "output_type": "execute_result"
    }
   ],
   "source": [
    "x = torch.arange(1, 10).reshape(1, 3, 3)\n",
    "x, x.shape"
   ]
  },
  {
   "cell_type": "markdown",
   "id": "770c76a8-d669-4144-8dc8-d8403b9312bd",
   "metadata": {},
   "source": [
    "Indexing values goes outer dimension -> inner dimension (check out the square brackets)."
   ]
  },
  {
   "cell_type": "code",
   "execution_count": 64,
   "id": "0e400d38-e22f-414e-b092-2b403f82fd2e",
   "metadata": {},
   "outputs": [
    {
     "name": "stdout",
     "output_type": "stream",
     "text": [
      "First square bracket:\n",
      "tensor([[1, 2, 3],\n",
      "        [4, 5, 6],\n",
      "        [7, 8, 9]])\n",
      "Second square bracket: tensor([1, 2, 3])\n",
      "Third square bracket: 1\n"
     ]
    }
   ],
   "source": [
    "# Let's index bracket by bracket\n",
    "print(f\"First square bracket:\\n{x[0]}\") \n",
    "print(f\"Second square bracket: {x[0][0]}\") \n",
    "print(f\"Third square bracket: {x[0][0][0]}\")"
   ]
  },
  {
   "cell_type": "markdown",
   "id": "5ebf7ea4-e848-4704-a06c-a85c0dbd420f",
   "metadata": {},
   "source": [
    "You can also use : to specify \"all values in this dimension\" and then use a comma (`,`) to add another dimension."
   ]
  },
  {
   "cell_type": "code",
   "execution_count": 65,
   "id": "ec43abad-a1ab-4ee3-a4d5-2cc6d19eaff7",
   "metadata": {},
   "outputs": [
    {
     "data": {
      "text/plain": [
       "tensor([[1, 2, 3]])"
      ]
     },
     "execution_count": 65,
     "metadata": {},
     "output_type": "execute_result"
    }
   ],
   "source": [
    "# Get all values of 0th dimension and the 0 index of 1st dimension\n",
    "x[:, 0]"
   ]
  },
  {
   "cell_type": "code",
   "execution_count": 66,
   "id": "11d3b68a-084c-4bc0-b1ad-c9c7e82b8225",
   "metadata": {},
   "outputs": [
    {
     "data": {
      "text/plain": [
       "tensor([[2, 5, 8]])"
      ]
     },
     "execution_count": 66,
     "metadata": {},
     "output_type": "execute_result"
    }
   ],
   "source": [
    "# Get all values of 0th & 1st dimensions but only index 1 of 2nd dimension\n",
    "x[:, :, 1]"
   ]
  },
  {
   "cell_type": "code",
   "execution_count": 67,
   "id": "935355fe-7b2c-43b2-8b7a-ed68e573cba8",
   "metadata": {},
   "outputs": [
    {
     "data": {
      "text/plain": [
       "tensor([5])"
      ]
     },
     "execution_count": 67,
     "metadata": {},
     "output_type": "execute_result"
    }
   ],
   "source": [
    "# Get all values of the 0 dimension but only the 1 index value of the 1st and 2nd dimension\n",
    "x[:, 1, 1]"
   ]
  },
  {
   "cell_type": "code",
   "execution_count": 68,
   "id": "235427d6-ab72-4dbb-8ddd-3b3e99ad0b11",
   "metadata": {},
   "outputs": [
    {
     "data": {
      "text/plain": [
       "tensor([1, 2, 3])"
      ]
     },
     "execution_count": 68,
     "metadata": {},
     "output_type": "execute_result"
    }
   ],
   "source": [
    "# Get index 0 of 0th and 1st dimension and all values of 2nd dimension \n",
    "x[0, 0, :] # same as x[0][0]"
   ]
  },
  {
   "cell_type": "markdown",
   "id": "f87cfcfe-bb32-4f3f-b2ae-be32f8a5a0fa",
   "metadata": {},
   "source": [
    "# Running Tensors on GPU"
   ]
  },
  {
   "cell_type": "code",
   "id": "b1900012-b5cf-4bb1-913d-a11dc4dccba6",
   "metadata": {
    "ExecuteTime": {
     "end_time": "2024-09-03T21:50:05.771499Z",
     "start_time": "2024-09-03T21:50:05.426233Z"
    }
   },
   "source": [
    "!nvidia-smi"
   ],
   "outputs": [
    {
     "name": "stdout",
     "output_type": "stream",
     "text": [
      "Tue Sep  3 23:50:05 2024       \n",
      "+-----------------------------------------------------------------------------------------+\n",
      "| NVIDIA-SMI 551.78                 Driver Version: 551.78         CUDA Version: 12.4     |\n",
      "|-----------------------------------------+------------------------+----------------------+\n",
      "| GPU  Name                     TCC/WDDM  | Bus-Id          Disp.A | Volatile Uncorr. ECC |\n",
      "| Fan  Temp   Perf          Pwr:Usage/Cap |           Memory-Usage | GPU-Util  Compute M. |\n",
      "|                                         |                        |               MIG M. |\n",
      "|=========================================+========================+======================|\n",
      "|   0  NVIDIA GeForce RTX 3060 ...  WDDM  |   00000000:01:00.0  On |                  N/A |\n",
      "| N/A   39C    P8             11W /  130W |     341MiB /   6144MiB |      4%      Default |\n",
      "|                                         |                        |                  N/A |\n",
      "+-----------------------------------------+------------------------+----------------------+\n",
      "                                                                                         \n",
      "+-----------------------------------------------------------------------------------------+\n",
      "| Processes:                                                                              |\n",
      "|  GPU   GI   CI        PID   Type   Process name                              GPU Memory |\n",
      "|        ID   ID                                                               Usage      |\n",
      "|=========================================================================================|\n",
      "|    0   N/A  N/A     22488      C   ...rograms\\Python\\Python312\\python.exe      N/A      |\n",
      "+-----------------------------------------------------------------------------------------+\n"
     ]
    }
   ],
   "execution_count": 21
  },
  {
   "cell_type": "markdown",
   "id": "aab0a27e-b1d7-4de6-a4fa-91dd8a7a258d",
   "metadata": {},
   "source": [
    "## Basic"
   ]
  },
  {
   "cell_type": "code",
   "id": "337788dd-73a6-4fea-9eb3-a9e5d20e6f91",
   "metadata": {
    "ExecuteTime": {
     "end_time": "2024-09-03T21:49:17.660305Z",
     "start_time": "2024-09-03T21:49:17.467152Z"
    }
   },
   "source": [
    "# Check for GPU\n",
    "torch.cuda.is_available()"
   ],
   "outputs": [
    {
     "data": {
      "text/plain": [
       "True"
      ]
     },
     "execution_count": 17,
     "metadata": {},
     "output_type": "execute_result"
    }
   ],
   "execution_count": 17
  },
  {
   "cell_type": "code",
   "id": "8ba23c65-eeb9-4daf-93ea-38dd09793e30",
   "metadata": {
    "ExecuteTime": {
     "end_time": "2024-09-03T21:49:22.703892Z",
     "start_time": "2024-09-03T21:49:22.687632Z"
    }
   },
   "source": [
    "# Set device type\n",
    "device = \"cuda\" if torch.cuda.is_available() else \"cpu\"\n",
    "device"
   ],
   "outputs": [
    {
     "data": {
      "text/plain": [
       "'cuda'"
      ]
     },
     "execution_count": 18,
     "metadata": {},
     "output_type": "execute_result"
    }
   ],
   "execution_count": 18
  },
  {
   "cell_type": "code",
   "id": "f46ca592-c81a-4aac-9ab7-aecad365e028",
   "metadata": {
    "ExecuteTime": {
     "end_time": "2024-09-03T21:49:26.911715Z",
     "start_time": "2024-09-03T21:49:26.893112Z"
    }
   },
   "source": [
    "# Count number of devices\n",
    "torch.cuda.device_count()"
   ],
   "outputs": [
    {
     "data": {
      "text/plain": [
       "1"
      ]
     },
     "execution_count": 19,
     "metadata": {},
     "output_type": "execute_result"
    }
   ],
   "execution_count": 19
  },
  {
   "cell_type": "markdown",
   "id": "426712df-6d36-4a09-bc51-53b166b638b4",
   "metadata": {},
   "source": [
    "## Putting tensors (and models) on the GPU"
   ]
  },
  {
   "cell_type": "code",
   "id": "5ac89fc4-3481-4919-ad9f-0d5740d48e51",
   "metadata": {
    "ExecuteTime": {
     "end_time": "2024-09-03T21:49:45.538992Z",
     "start_time": "2024-09-03T21:49:45.061320Z"
    }
   },
   "source": [
    "# Create tensor (default on CPU)\n",
    "tensor = torch.tensor([1, 2, 3])\n",
    "\n",
    "# Tensor not on GPU\n",
    "print(tensor, tensor.device)\n",
    "\n",
    "# Move tensor to GPU (if available)\n",
    "tensor_on_gpu = tensor.to(device)\n",
    "tensor_on_gpu"
   ],
   "outputs": [
    {
     "name": "stdout",
     "output_type": "stream",
     "text": [
      "tensor([1, 2, 3]) cpu\n"
     ]
    },
    {
     "data": {
      "text/plain": [
       "tensor([1, 2, 3], device='cuda:0')"
      ]
     },
     "execution_count": 20,
     "metadata": {},
     "output_type": "execute_result"
    }
   ],
   "execution_count": 20
  },
  {
   "cell_type": "markdown",
   "id": "32648d32-ee16-4233-8977-54f9f521d4e4",
   "metadata": {},
   "source": [
    "Notice the second tensor has device='cuda:0', this means it's stored on the 0th GPU available (GPUs are 0 indexed, if two GPUs were available, they'd be 'cuda:0' and 'cuda:1' respectively, up to 'cuda:n')."
   ]
  },
  {
   "cell_type": "code",
   "execution_count": 88,
   "id": "b2cb3fc7-d364-49f2-a34e-26019abf9a29",
   "metadata": {},
   "outputs": [],
   "source": [
    "# what happens if you modify one\n",
    "tensor += 10 "
   ]
  },
  {
   "cell_type": "code",
   "execution_count": 89,
   "id": "90dd6aa5-ff48-486c-8045-f745e0176407",
   "metadata": {},
   "outputs": [
    {
     "data": {
      "text/plain": [
       "tensor([21, 22, 23])"
      ]
     },
     "execution_count": 89,
     "metadata": {},
     "output_type": "execute_result"
    }
   ],
   "source": [
    "tensor"
   ]
  },
  {
   "cell_type": "code",
   "execution_count": 90,
   "id": "5ebb8c51-face-4042-ae0e-f55fa027e759",
   "metadata": {},
   "outputs": [
    {
     "data": {
      "text/plain": [
       "tensor([1, 2, 3], device='cuda:0')"
      ]
     },
     "execution_count": 90,
     "metadata": {},
     "output_type": "execute_result"
    }
   ],
   "source": [
    "tensor_on_gpu"
   ]
  },
  {
   "cell_type": "markdown",
   "id": "fc38fce5-d8ef-4234-a637-70c809e278bb",
   "metadata": {},
   "source": [
    "## Moving tensors back to the CPU"
   ]
  },
  {
   "cell_type": "markdown",
   "id": "7edb0f34-fdec-443d-9330-1965f29bac05",
   "metadata": {},
   "source": [
    "What if we wanted to move the tensor back to CPU? For example, you'll want to do this if you want to interact with your tensors with NumPy (NumPy does not leverage the GPU)."
   ]
  },
  {
   "cell_type": "code",
   "execution_count": 83,
   "id": "ff7611d8-3a28-4bb7-9962-9dc77365ec55",
   "metadata": {},
   "outputs": [],
   "source": [
    "# If tensor is on GPU, can't transform it to NumPy (this will error)\n",
    "#tensor_on_gpu.numpy()"
   ]
  },
  {
   "cell_type": "code",
   "execution_count": 84,
   "id": "35aa6c03-2c9b-4539-9f16-2b5d44c7e34d",
   "metadata": {},
   "outputs": [
    {
     "data": {
      "text/plain": [
       "array([1, 2, 3], dtype=int64)"
      ]
     },
     "execution_count": 84,
     "metadata": {},
     "output_type": "execute_result"
    }
   ],
   "source": [
    "# Instead, copy the tensor back to cpu\n",
    "tensor_back_on_cpu = tensor_on_gpu.cpu().numpy()\n",
    "tensor_back_on_cpu"
   ]
  },
  {
   "cell_type": "markdown",
   "id": "42a48213-385b-478c-967a-92491299d8b3",
   "metadata": {},
   "source": [
    "The above returns a copy of the GPU tensor in CPU memory so the original tensor is still on GPU."
   ]
  },
  {
   "cell_type": "code",
   "execution_count": 91,
   "id": "0f3ad810-e7a6-44c5-83cb-d23dd1aec7fe",
   "metadata": {},
   "outputs": [
    {
     "data": {
      "text/plain": [
       "tensor([1, 2, 3], device='cuda:0')"
      ]
     },
     "execution_count": 91,
     "metadata": {},
     "output_type": "execute_result"
    }
   ],
   "source": [
    "tensor_on_gpu"
   ]
  },
  {
   "cell_type": "code",
   "execution_count": null,
   "id": "a5d89979-527d-448f-84f0-ed741577a2e7",
   "metadata": {},
   "outputs": [],
   "source": []
  }
 ],
 "metadata": {
  "kernelspec": {
   "display_name": "Python 3 (ipykernel)",
   "language": "python",
   "name": "python3"
  },
  "language_info": {
   "codemirror_mode": {
    "name": "ipython",
    "version": 3
   },
   "file_extension": ".py",
   "mimetype": "text/x-python",
   "name": "python",
   "nbconvert_exporter": "python",
   "pygments_lexer": "ipython3",
   "version": "3.9.16"
  },
  "toc-autonumbering": true
 },
 "nbformat": 4,
 "nbformat_minor": 5
}

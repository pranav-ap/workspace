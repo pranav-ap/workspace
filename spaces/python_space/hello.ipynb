{
 "cells": [
  {
   "metadata": {},
   "cell_type": "markdown",
   "source": "# Division",
   "id": "75031c4ad281ae24"
  },
  {
   "cell_type": "code",
   "id": "initial_id",
   "metadata": {
    "collapsed": true,
    "ExecuteTime": {
     "end_time": "2024-08-31T09:53:25.996158Z",
     "start_time": "2024-08-31T09:53:25.977256Z"
    }
   },
   "source": "84 / 2, 84.0 / 2, 84 // 2 # floor division",
   "outputs": [
    {
     "data": {
      "text/plain": [
       "(42.0, 42.0, 42)"
      ]
     },
     "execution_count": 1,
     "metadata": {},
     "output_type": "execute_result"
    }
   ],
   "execution_count": 1
  },
  {
   "metadata": {},
   "cell_type": "markdown",
   "source": "# Doctest",
   "id": "bd0f48e9d5adc50c"
  },
  {
   "metadata": {
    "ExecuteTime": {
     "end_time": "2024-08-31T09:54:52.922598Z",
     "start_time": "2024-08-31T09:54:52.913170Z"
    }
   },
   "cell_type": "code",
   "source": [
    "def uses_any(word, letters):\n",
    "    \"\"\"Checks if a word uses any of a list of letters.\n",
    "    >>> uses_any('banana', 'aeiou')\n",
    "    True\n",
    "    >>> uses_any('apple', 'xyz')\n",
    "    False\n",
    "    \"\"\"\n",
    "    for letter in word.lower():\n",
    "        if letter in letters.lower():\n",
    "            return True\n",
    "    \n",
    "    return False"
   ],
   "id": "77506fdaf8ff47db",
   "outputs": [],
   "execution_count": 2
  },
  {
   "metadata": {
    "ExecuteTime": {
     "end_time": "2024-08-31T09:59:24.400412Z",
     "start_time": "2024-08-31T09:59:23.924861Z"
    }
   },
   "cell_type": "code",
   "source": [
    "from doctest import run_docstring_examples\n",
    "\n",
    "def run_doctests(func):\n",
    "    run_docstring_examples(func, globals(), name=func.__name__)"
   ],
   "id": "2c50ab3138e6dca",
   "outputs": [],
   "execution_count": 3
  },
  {
   "metadata": {
    "ExecuteTime": {
     "end_time": "2024-08-31T09:59:25.479858Z",
     "start_time": "2024-08-31T09:59:25.464445Z"
    }
   },
   "cell_type": "code",
   "source": "run_doctests(uses_any)",
   "id": "5f21993990575b88",
   "outputs": [],
   "execution_count": 4
  },
  {
   "metadata": {},
   "cell_type": "markdown",
   "source": [
    "If all tests pass, run_doctests displays no output—in that case, no news is good news.\n",
    "To see what happens when a test fails, here’s an incorrect version of uses_any"
   ],
   "id": "2aff05ee22c8388a"
  },
  {
   "metadata": {
    "ExecuteTime": {
     "end_time": "2024-08-31T09:59:40.380921Z",
     "start_time": "2024-08-31T09:59:40.370159Z"
    }
   },
   "cell_type": "code",
   "source": [
    "def uses_any_incorrect(word, letters):\n",
    "    \"\"\"Checks if a word uses any of a list of letters.\n",
    "    >>> uses_any_incorrect('banana', 'aeiou')\n",
    "    True\n",
    "    >>> uses_any_incorrect('apple', 'xyz')\n",
    "    False\n",
    "    \"\"\"\n",
    "    for letter in word.lower():\n",
    "        if letter in letters.lower():\n",
    "            return True\n",
    "        else:\n",
    "            return False # INCORRECT!"
   ],
   "id": "a706593fd42b2912",
   "outputs": [],
   "execution_count": 5
  },
  {
   "metadata": {
    "ExecuteTime": {
     "end_time": "2024-08-31T09:59:41.276939Z",
     "start_time": "2024-08-31T09:59:41.258760Z"
    }
   },
   "cell_type": "code",
   "source": "run_doctests(uses_any_incorrect)",
   "id": "6ec89e562d8339d5",
   "outputs": [
    {
     "name": "stdout",
     "output_type": "stream",
     "text": [
      "**********************************************************************\n",
      "File \"__main__\", line 3, in uses_any_incorrect\n",
      "Failed example:\n",
      "    uses_any_incorrect('banana', 'aeiou')\n",
      "Expected:\n",
      "    True\n",
      "Got:\n",
      "    False\n"
     ]
    }
   ],
   "execution_count": 6
  },
  {
   "metadata": {},
   "cell_type": "markdown",
   "source": "# Regular Expressions",
   "id": "5d494b5bc9c08d23"
  },
  {
   "metadata": {
    "ExecuteTime": {
     "end_time": "2024-08-21T11:06:21.761935Z",
     "start_time": "2024-08-21T11:06:21.759215Z"
    }
   },
   "cell_type": "code",
   "source": [
    "text = \"I am Dracula; and I bid you welcome, Mr. Harker, to my house.\"\n",
    "pattern = 'Dracula'"
   ],
   "id": "3f6269be14a8dd1e",
   "outputs": [],
   "execution_count": 1
  },
  {
   "metadata": {
    "ExecuteTime": {
     "end_time": "2024-08-21T11:06:28.834500Z",
     "start_time": "2024-08-21T11:06:28.828371Z"
    }
   },
   "cell_type": "code",
   "source": [
    "import re\n",
    "result = re.search(pattern, text)\n",
    "result"
   ],
   "id": "84d560b83049aeba",
   "outputs": [
    {
     "data": {
      "text/plain": [
       "<re.Match object; span=(5, 12), match='Dracula'>"
      ]
     },
     "execution_count": 2,
     "metadata": {},
     "output_type": "execute_result"
    }
   ],
   "execution_count": 2
  },
  {
   "metadata": {
    "ExecuteTime": {
     "end_time": "2024-08-21T11:07:08.512693Z",
     "start_time": "2024-08-21T11:07:08.508044Z"
    }
   },
   "cell_type": "code",
   "source": "result.string",
   "id": "85237f5eb626cb03",
   "outputs": [
    {
     "data": {
      "text/plain": [
       "'I am Dracula; and I bid you welcome, Mr. Harker, to my house.'"
      ]
     },
     "execution_count": 3,
     "metadata": {},
     "output_type": "execute_result"
    }
   ],
   "execution_count": 3
  },
  {
   "metadata": {
    "ExecuteTime": {
     "end_time": "2024-08-21T11:40:22.872573Z",
     "start_time": "2024-08-21T11:40:22.868022Z"
    }
   },
   "cell_type": "code",
   "source": "re.sub(pattern, 'Ford', text)",
   "id": "5dde62061f4979e7",
   "outputs": [
    {
     "data": {
      "text/plain": [
       "'I am Ford; and I bid you welcome, Mr. Harker, to my house.'"
      ]
     },
     "execution_count": 4,
     "metadata": {},
     "output_type": "execute_result"
    }
   ],
   "execution_count": 4
  },
  {
   "metadata": {},
   "cell_type": "markdown",
   "source": "# Sort",
   "id": "2c6d0bd48510ee04"
  },
  {
   "metadata": {
    "ExecuteTime": {
     "end_time": "2024-08-31T10:22:53.461403Z",
     "start_time": "2024-08-31T10:22:53.450588Z"
    }
   },
   "cell_type": "code",
   "source": [
    "def second_element(t):\n",
    "    return t[1]"
   ],
   "id": "1b5709cc07d378fa",
   "outputs": [],
   "execution_count": 10
  },
  {
   "metadata": {
    "ExecuteTime": {
     "end_time": "2024-08-31T10:22:54.257176Z",
     "start_time": "2024-08-31T10:22:54.242785Z"
    }
   },
   "cell_type": "code",
   "source": [
    "items = [('b', 1), ('a', 3), ('n', 2)]\n",
    "sorted(items, key=second_element)"
   ],
   "id": "31f8121ac9425888",
   "outputs": [
    {
     "data": {
      "text/plain": [
       "[('b', 1), ('n', 2), ('a', 3)]"
      ]
     },
     "execution_count": 11,
     "metadata": {},
     "output_type": "execute_result"
    }
   ],
   "execution_count": 11
  },
  {
   "metadata": {
    "ExecuteTime": {
     "end_time": "2024-08-31T10:22:56.235571Z",
     "start_time": "2024-08-31T10:22:56.220804Z"
    }
   },
   "cell_type": "code",
   "source": [
    "words = ['choc', \n",
    "         'superior',\n",
    "         'frightened',\n",
    "         'manner',\n",
    "         'pot']\n",
    "\n",
    "sorted(words, key=len, reverse=True)[:3]"
   ],
   "id": "672eb3fe61d2f598",
   "outputs": [
    {
     "data": {
      "text/plain": [
       "['frightened', 'superior', 'manner']"
      ]
     },
     "execution_count": 12,
     "metadata": {},
     "output_type": "execute_result"
    }
   ],
   "execution_count": 12
  },
  {
   "metadata": {},
   "cell_type": "markdown",
   "source": "# Tuple Comparison",
   "id": "2bb85f97a57fa7ca"
  },
  {
   "metadata": {},
   "cell_type": "markdown",
   "source": [
    "If they are equal, it goes on to the next pair of elements, and so on, until it\n",
    "finds a pair that differ"
   ],
   "id": "2de72936f218cbcf"
  },
  {
   "metadata": {
    "ExecuteTime": {
     "end_time": "2024-08-31T10:23:26.811934Z",
     "start_time": "2024-08-31T10:23:26.800976Z"
    }
   },
   "cell_type": "code",
   "source": "(0, 1, 2) < (0, 3, 4)",
   "id": "15f1deb8d6de1936",
   "outputs": [
    {
     "data": {
      "text/plain": [
       "True"
      ]
     },
     "execution_count": 13,
     "metadata": {},
     "output_type": "execute_result"
    }
   ],
   "execution_count": 13
  },
  {
   "metadata": {},
   "cell_type": "markdown",
   "source": "# Unicodedata",
   "id": "d5f45f064233955d"
  },
  {
   "metadata": {
    "ExecuteTime": {
     "end_time": "2024-08-21T12:29:32.110235Z",
     "start_time": "2024-08-21T12:29:32.105718Z"
    }
   },
   "cell_type": "code",
   "source": [
    "import unicodedata\n",
    "\n",
    "unicodedata.category('A') # the 'L' means it is a letter and the 'u' means it is uppercase"
   ],
   "id": "40742179371c7d92",
   "outputs": [
    {
     "data": {
      "text/plain": [
       "'Lu'"
      ]
     },
     "execution_count": 13,
     "metadata": {},
     "output_type": "execute_result"
    }
   ],
   "execution_count": 13
  },
  {
   "metadata": {},
   "cell_type": "markdown",
   "source": "# Comparison using == and IS",
   "id": "e08dbdd19850c3b"
  },
  {
   "metadata": {
    "ExecuteTime": {
     "end_time": "2024-08-31T11:38:22.299981Z",
     "start_time": "2024-08-31T11:38:22.286366Z"
    }
   },
   "cell_type": "code",
   "source": "1 == 1",
   "id": "453784e4b3e58deb",
   "outputs": [
    {
     "data": {
      "text/plain": [
       "True"
      ]
     },
     "execution_count": 2,
     "metadata": {},
     "output_type": "execute_result"
    }
   ],
   "execution_count": 2
  },
  {
   "metadata": {
    "ExecuteTime": {
     "end_time": "2024-08-31T11:41:51.719505Z",
     "start_time": "2024-08-31T11:41:51.708192Z"
    }
   },
   "cell_type": "code",
   "source": [
    "class Person:\n",
    "    def __init__(self, name):\n",
    "        self.name = name \n",
    "    \n",
    "    def __eq__(self, other): # without this == is same as is operator\n",
    "        return self.name == other.name"
   ],
   "id": "400ee1a7c1950dd6",
   "outputs": [],
   "execution_count": 18
  },
  {
   "metadata": {
    "ExecuteTime": {
     "end_time": "2024-08-31T11:41:52.819483Z",
     "start_time": "2024-08-31T11:41:52.811073Z"
    }
   },
   "cell_type": "code",
   "source": [
    "p1 = Person('jon')\n",
    "p2 = Person('sam')"
   ],
   "id": "2e05dda21f3ad822",
   "outputs": [],
   "execution_count": 19
  },
  {
   "metadata": {
    "ExecuteTime": {
     "end_time": "2024-08-31T11:42:08.559265Z",
     "start_time": "2024-08-31T11:42:08.547407Z"
    }
   },
   "cell_type": "code",
   "source": "p1 == p2",
   "id": "eb5497564f7ff11a",
   "outputs": [
    {
     "data": {
      "text/plain": [
       "False"
      ]
     },
     "execution_count": 21,
     "metadata": {},
     "output_type": "execute_result"
    }
   ],
   "execution_count": 21
  },
  {
   "metadata": {
    "ExecuteTime": {
     "end_time": "2024-08-31T11:42:09.577681Z",
     "start_time": "2024-08-31T11:42:09.566473Z"
    }
   },
   "cell_type": "code",
   "source": "p1 is p2",
   "id": "ff2ba70376c802dc",
   "outputs": [
    {
     "data": {
      "text/plain": [
       "False"
      ]
     },
     "execution_count": 22,
     "metadata": {},
     "output_type": "execute_result"
    }
   ],
   "execution_count": 22
  },
  {
   "metadata": {
    "ExecuteTime": {
     "end_time": "2024-08-31T11:42:11.032044Z",
     "start_time": "2024-08-31T11:42:11.022489Z"
    }
   },
   "cell_type": "code",
   "source": "p1 is Person",
   "id": "829a2090867a3129",
   "outputs": [
    {
     "data": {
      "text/plain": [
       "False"
      ]
     },
     "execution_count": 23,
     "metadata": {},
     "output_type": "execute_result"
    }
   ],
   "execution_count": 23
  },
  {
   "metadata": {
    "ExecuteTime": {
     "end_time": "2024-08-31T11:42:12.870100Z",
     "start_time": "2024-08-31T11:42:12.859895Z"
    }
   },
   "cell_type": "code",
   "source": [
    "p3 = p1\n",
    "p1 is p3"
   ],
   "id": "457c8a300648d1bf",
   "outputs": [
    {
     "data": {
      "text/plain": [
       "True"
      ]
     },
     "execution_count": 24,
     "metadata": {},
     "output_type": "execute_result"
    }
   ],
   "execution_count": 24
  },
  {
   "metadata": {
    "ExecuteTime": {
     "end_time": "2024-08-31T11:42:16.822176Z",
     "start_time": "2024-08-31T11:42:16.814516Z"
    }
   },
   "cell_type": "code",
   "source": "p4 = Person('jon')",
   "id": "c5828ba20405eb6f",
   "outputs": [],
   "execution_count": 25
  },
  {
   "metadata": {
    "ExecuteTime": {
     "end_time": "2024-08-31T11:42:18.382009Z",
     "start_time": "2024-08-31T11:42:18.369546Z"
    }
   },
   "cell_type": "code",
   "source": "p1 == p4",
   "id": "39d3e1f7e449ee86",
   "outputs": [
    {
     "data": {
      "text/plain": [
       "True"
      ]
     },
     "execution_count": 26,
     "metadata": {},
     "output_type": "execute_result"
    }
   ],
   "execution_count": 26
  },
  {
   "metadata": {
    "ExecuteTime": {
     "end_time": "2024-08-31T11:42:21.490421Z",
     "start_time": "2024-08-31T11:42:21.478375Z"
    }
   },
   "cell_type": "code",
   "source": "p1 is p4",
   "id": "152d82422ac69d80",
   "outputs": [
    {
     "data": {
      "text/plain": [
       "False"
      ]
     },
     "execution_count": 27,
     "metadata": {},
     "output_type": "execute_result"
    }
   ],
   "execution_count": 27
  },
  {
   "metadata": {},
   "cell_type": "code",
   "outputs": [],
   "execution_count": null,
   "source": "",
   "id": "ec16f37507e52ea2"
  }
 ],
 "metadata": {
  "kernelspec": {
   "display_name": "Python 3",
   "language": "python",
   "name": "python3"
  },
  "language_info": {
   "codemirror_mode": {
    "name": "ipython",
    "version": 2
   },
   "file_extension": ".py",
   "mimetype": "text/x-python",
   "name": "python",
   "nbconvert_exporter": "python",
   "pygments_lexer": "ipython2",
   "version": "2.7.6"
  }
 },
 "nbformat": 4,
 "nbformat_minor": 5
}

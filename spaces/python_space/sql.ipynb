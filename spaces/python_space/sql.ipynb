{
 "cells": [
  {
   "cell_type": "code",
   "id": "initial_id",
   "metadata": {
    "collapsed": true,
    "ExecuteTime": {
     "end_time": "2025-06-05T14:14:31.123887Z",
     "start_time": "2025-06-05T14:14:30.860978Z"
    }
   },
   "source": [
    "import sqlalchemy as db\n",
    "\n",
    "engine = db.create_engine(\"sqlite:///european_database.sqlite\")\n",
    "conn = engine.connect()"
   ],
   "outputs": [],
   "execution_count": 1
  },
  {
   "metadata": {
    "ExecuteTime": {
     "end_time": "2025-06-05T14:20:53.818199Z",
     "start_time": "2025-06-05T14:20:53.808812Z"
    }
   },
   "cell_type": "code",
   "source": [
    "metadata = db.MetaData()\n",
    "divisions = db.Table('divisions', metadata, autoload_with=engine)"
   ],
   "id": "34406e6e5fde0676",
   "outputs": [],
   "execution_count": 9
  },
  {
   "metadata": {
    "ExecuteTime": {
     "end_time": "2025-06-05T14:20:55.357268Z",
     "start_time": "2025-06-05T14:20:55.349993Z"
    }
   },
   "cell_type": "code",
   "source": "metadata",
   "id": "2136799ed0df651f",
   "outputs": [
    {
     "data": {
      "text/plain": [
       "MetaData()"
      ]
     },
     "execution_count": 10,
     "metadata": {},
     "output_type": "execute_result"
    }
   ],
   "execution_count": 10
  },
  {
   "metadata": {
    "ExecuteTime": {
     "end_time": "2025-06-05T14:20:55.993065Z",
     "start_time": "2025-06-05T14:20:55.984826Z"
    }
   },
   "cell_type": "code",
   "source": "metadata.tables['divisions']",
   "id": "ff322b1e9186d75c",
   "outputs": [
    {
     "data": {
      "text/plain": [
       "Table('divisions', MetaData(), Column('division', TEXT(), table=<divisions>), Column('name', TEXT(), table=<divisions>), Column('country', TEXT(), table=<divisions>), schema=None)"
      ]
     },
     "execution_count": 11,
     "metadata": {},
     "output_type": "execute_result"
    }
   ],
   "execution_count": 11
  },
  {
   "metadata": {
    "ExecuteTime": {
     "end_time": "2025-06-05T14:20:57.699919Z",
     "start_time": "2025-06-05T14:20:57.692935Z"
    }
   },
   "cell_type": "code",
   "source": [
    "query = divisions.select() #SELECT * FROM divisions\n",
    "print(query)"
   ],
   "id": "501a1cc332336b82",
   "outputs": [
    {
     "name": "stdout",
     "output_type": "stream",
     "text": [
      "SELECT divisions.division, divisions.name, divisions.country \n",
      "FROM divisions\n"
     ]
    }
   ],
   "execution_count": 12
  },
  {
   "metadata": {
    "ExecuteTime": {
     "end_time": "2025-06-05T14:26:19.266537Z",
     "start_time": "2025-06-05T14:26:19.256977Z"
    }
   },
   "cell_type": "code",
   "source": [
    "exe = conn.execute(query) #executing the query\n",
    "result = exe.fetchmany(5) #extracting top 5 results\n",
    "print(result)"
   ],
   "id": "da2c904346b39113",
   "outputs": [
    {
     "name": "stdout",
     "output_type": "stream",
     "text": [
      "[('B1', 'Division 1A', 'Belgium'), ('D1', 'Bundesliga', 'Deutschland'), ('D2', '2. Bundesliga', 'Deutschland'), ('E0', 'Premier League', 'England'), ('E1', 'EFL Championship', 'England')]\n"
     ]
    }
   ],
   "execution_count": 13
  },
  {
   "metadata": {
    "ExecuteTime": {
     "end_time": "2025-06-05T14:39:59.882474Z",
     "start_time": "2025-06-05T14:39:59.874045Z"
    }
   },
   "cell_type": "code",
   "source": "exe.close()",
   "id": "32c50827366ada9a",
   "outputs": [],
   "execution_count": 16
  },
  {
   "metadata": {},
   "cell_type": "code",
   "outputs": [],
   "execution_count": null,
   "source": "",
   "id": "ecfea1f65af0ec8c"
  }
 ],
 "metadata": {
  "kernelspec": {
   "display_name": "Python 3",
   "language": "python",
   "name": "python3"
  },
  "language_info": {
   "codemirror_mode": {
    "name": "ipython",
    "version": 2
   },
   "file_extension": ".py",
   "mimetype": "text/x-python",
   "name": "python",
   "nbconvert_exporter": "python",
   "pygments_lexer": "ipython2",
   "version": "2.7.6"
  }
 },
 "nbformat": 4,
 "nbformat_minor": 5
}

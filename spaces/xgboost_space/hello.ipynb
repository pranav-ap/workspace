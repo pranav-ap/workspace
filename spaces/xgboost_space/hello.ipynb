{
 "cells": [
  {
   "metadata": {
    "ExecuteTime": {
     "end_time": "2024-11-23T06:51:10.722674Z",
     "start_time": "2024-11-23T06:51:10.716778Z"
    }
   },
   "cell_type": "code",
   "source": [
    "import seaborn as sns\n",
    "import pandas as pd\n",
    "import numpy as np\n",
    "import matplotlib.pyplot as plt\n",
    "import warnings\n",
    "\n",
    "warnings.filterwarnings(\"ignore\")"
   ],
   "id": "9dc60283b3982fd6",
   "outputs": [],
   "execution_count": 2
  },
  {
   "metadata": {
    "ExecuteTime": {
     "end_time": "2024-11-23T06:51:10.864633Z",
     "start_time": "2024-11-23T06:51:10.745936Z"
    }
   },
   "cell_type": "code",
   "source": [
    "diamonds = sns.load_dataset(\"diamonds\")\n",
    "diamonds.head()"
   ],
   "id": "71a0e5a088e99e7",
   "outputs": [
    {
     "data": {
      "text/plain": [
       "   carat      cut color clarity  depth  table  price     x     y     z\n",
       "0   0.23    Ideal     E     SI2   61.5   55.0    326  3.95  3.98  2.43\n",
       "1   0.21  Premium     E     SI1   59.8   61.0    326  3.89  3.84  2.31\n",
       "2   0.23     Good     E     VS1   56.9   65.0    327  4.05  4.07  2.31\n",
       "3   0.29  Premium     I     VS2   62.4   58.0    334  4.20  4.23  2.63\n",
       "4   0.31     Good     J     SI2   63.3   58.0    335  4.34  4.35  2.75"
      ],
      "text/html": [
       "<div>\n",
       "<style scoped>\n",
       "    .dataframe tbody tr th:only-of-type {\n",
       "        vertical-align: middle;\n",
       "    }\n",
       "\n",
       "    .dataframe tbody tr th {\n",
       "        vertical-align: top;\n",
       "    }\n",
       "\n",
       "    .dataframe thead th {\n",
       "        text-align: right;\n",
       "    }\n",
       "</style>\n",
       "<table border=\"1\" class=\"dataframe\">\n",
       "  <thead>\n",
       "    <tr style=\"text-align: right;\">\n",
       "      <th></th>\n",
       "      <th>carat</th>\n",
       "      <th>cut</th>\n",
       "      <th>color</th>\n",
       "      <th>clarity</th>\n",
       "      <th>depth</th>\n",
       "      <th>table</th>\n",
       "      <th>price</th>\n",
       "      <th>x</th>\n",
       "      <th>y</th>\n",
       "      <th>z</th>\n",
       "    </tr>\n",
       "  </thead>\n",
       "  <tbody>\n",
       "    <tr>\n",
       "      <th>0</th>\n",
       "      <td>0.23</td>\n",
       "      <td>Ideal</td>\n",
       "      <td>E</td>\n",
       "      <td>SI2</td>\n",
       "      <td>61.5</td>\n",
       "      <td>55.0</td>\n",
       "      <td>326</td>\n",
       "      <td>3.95</td>\n",
       "      <td>3.98</td>\n",
       "      <td>2.43</td>\n",
       "    </tr>\n",
       "    <tr>\n",
       "      <th>1</th>\n",
       "      <td>0.21</td>\n",
       "      <td>Premium</td>\n",
       "      <td>E</td>\n",
       "      <td>SI1</td>\n",
       "      <td>59.8</td>\n",
       "      <td>61.0</td>\n",
       "      <td>326</td>\n",
       "      <td>3.89</td>\n",
       "      <td>3.84</td>\n",
       "      <td>2.31</td>\n",
       "    </tr>\n",
       "    <tr>\n",
       "      <th>2</th>\n",
       "      <td>0.23</td>\n",
       "      <td>Good</td>\n",
       "      <td>E</td>\n",
       "      <td>VS1</td>\n",
       "      <td>56.9</td>\n",
       "      <td>65.0</td>\n",
       "      <td>327</td>\n",
       "      <td>4.05</td>\n",
       "      <td>4.07</td>\n",
       "      <td>2.31</td>\n",
       "    </tr>\n",
       "    <tr>\n",
       "      <th>3</th>\n",
       "      <td>0.29</td>\n",
       "      <td>Premium</td>\n",
       "      <td>I</td>\n",
       "      <td>VS2</td>\n",
       "      <td>62.4</td>\n",
       "      <td>58.0</td>\n",
       "      <td>334</td>\n",
       "      <td>4.20</td>\n",
       "      <td>4.23</td>\n",
       "      <td>2.63</td>\n",
       "    </tr>\n",
       "    <tr>\n",
       "      <th>4</th>\n",
       "      <td>0.31</td>\n",
       "      <td>Good</td>\n",
       "      <td>J</td>\n",
       "      <td>SI2</td>\n",
       "      <td>63.3</td>\n",
       "      <td>58.0</td>\n",
       "      <td>335</td>\n",
       "      <td>4.34</td>\n",
       "      <td>4.35</td>\n",
       "      <td>2.75</td>\n",
       "    </tr>\n",
       "  </tbody>\n",
       "</table>\n",
       "</div>"
      ]
     },
     "execution_count": 3,
     "metadata": {},
     "output_type": "execute_result"
    }
   ],
   "execution_count": 3
  },
  {
   "metadata": {
    "ExecuteTime": {
     "end_time": "2024-11-23T06:51:10.874665Z",
     "start_time": "2024-11-23T06:51:10.867646Z"
    }
   },
   "cell_type": "code",
   "source": "diamonds.shape",
   "id": "21c6eaf21eb95354",
   "outputs": [
    {
     "data": {
      "text/plain": [
       "(53940, 10)"
      ]
     },
     "execution_count": 4,
     "metadata": {},
     "output_type": "execute_result"
    }
   ],
   "execution_count": 4
  },
  {
   "metadata": {
    "ExecuteTime": {
     "end_time": "2024-11-23T06:51:11.272383Z",
     "start_time": "2024-11-23T06:51:10.877599Z"
    }
   },
   "cell_type": "code",
   "source": [
    "from sklearn.model_selection import train_test_split\n",
    "\n",
    "X, y = diamonds.drop('price', axis=1), diamonds[['price']]"
   ],
   "id": "8e0a580a14dc0e9d",
   "outputs": [],
   "execution_count": 5
  },
  {
   "metadata": {
    "ExecuteTime": {
     "end_time": "2024-11-23T06:51:11.289428Z",
     "start_time": "2024-11-23T06:51:11.274393Z"
    }
   },
   "cell_type": "code",
   "source": "X_train, X_test, y_train, y_test = train_test_split(X, y)",
   "id": "6a37647dad43416",
   "outputs": [],
   "execution_count": 6
  },
  {
   "metadata": {
    "ExecuteTime": {
     "end_time": "2024-11-23T06:51:11.750855Z",
     "start_time": "2024-11-23T06:51:11.292437Z"
    }
   },
   "cell_type": "code",
   "source": [
    "import xgboost as xgb\n",
    "\n",
    "dtrain_reg = xgb.DMatrix(X_train, y_train, enable_categorical=True)\n",
    "dtest_reg = xgb.DMatrix(X_test, y_test, enable_categorical=True)"
   ],
   "id": "5eef0c605fc7c978",
   "outputs": [],
   "execution_count": 7
  },
  {
   "metadata": {},
   "cell_type": "markdown",
   "source": "# Cross Validation",
   "id": "751f987f674a0e8b"
  },
  {
   "metadata": {
    "ExecuteTime": {
     "end_time": "2024-11-23T06:51:11.759375Z",
     "start_time": "2024-11-23T06:51:11.754869Z"
    }
   },
   "cell_type": "code",
   "source": "evals = [(dtrain_reg, \"train\"), (dtest_reg, \"validation\")]",
   "id": "78ca53426e29447d",
   "outputs": [],
   "execution_count": 8
  },
  {
   "metadata": {
    "ExecuteTime": {
     "end_time": "2024-11-23T06:51:14.806174Z",
     "start_time": "2024-11-23T06:51:11.761382Z"
    }
   },
   "cell_type": "code",
   "source": [
    "params = {\"objective\": \"reg:squarederror\", \"tree_method\": \"gpu_hist\"}\n",
    "n = 1000\n",
    "\n",
    "results = xgb.cv(\n",
    "   params, dtrain_reg,\n",
    "   num_boost_round=n,\n",
    "   nfold=5,\n",
    "   early_stopping_rounds=20\n",
    ")\n",
    "\n",
    "print(f'best_num_boost_round : {len(results)}')"
   ],
   "id": "9b1c6350864668af",
   "outputs": [
    {
     "name": "stdout",
     "output_type": "stream",
     "text": [
      "best_num_boost_round : 53\n"
     ]
    }
   ],
   "execution_count": 9
  },
  {
   "metadata": {
    "ExecuteTime": {
     "end_time": "2024-11-23T06:51:14.820432Z",
     "start_time": "2024-11-23T06:51:14.808188Z"
    }
   },
   "cell_type": "code",
   "source": "results.head()",
   "id": "f21ba3995bd6600c",
   "outputs": [
    {
     "data": {
      "text/plain": [
       "   train-rmse-mean  train-rmse-std  test-rmse-mean  test-rmse-std\n",
       "0      2859.095179        3.738838     2859.711025      19.249719\n",
       "1      2081.608111        2.169328     2085.556203      16.715340\n",
       "2      1542.789804        1.448160     1551.686252      14.815797\n",
       "3      1177.386062        1.924371     1191.497390      13.893185\n",
       "4       936.177799        1.213138      958.509243      11.464197"
      ],
      "text/html": [
       "<div>\n",
       "<style scoped>\n",
       "    .dataframe tbody tr th:only-of-type {\n",
       "        vertical-align: middle;\n",
       "    }\n",
       "\n",
       "    .dataframe tbody tr th {\n",
       "        vertical-align: top;\n",
       "    }\n",
       "\n",
       "    .dataframe thead th {\n",
       "        text-align: right;\n",
       "    }\n",
       "</style>\n",
       "<table border=\"1\" class=\"dataframe\">\n",
       "  <thead>\n",
       "    <tr style=\"text-align: right;\">\n",
       "      <th></th>\n",
       "      <th>train-rmse-mean</th>\n",
       "      <th>train-rmse-std</th>\n",
       "      <th>test-rmse-mean</th>\n",
       "      <th>test-rmse-std</th>\n",
       "    </tr>\n",
       "  </thead>\n",
       "  <tbody>\n",
       "    <tr>\n",
       "      <th>0</th>\n",
       "      <td>2859.095179</td>\n",
       "      <td>3.738838</td>\n",
       "      <td>2859.711025</td>\n",
       "      <td>19.249719</td>\n",
       "    </tr>\n",
       "    <tr>\n",
       "      <th>1</th>\n",
       "      <td>2081.608111</td>\n",
       "      <td>2.169328</td>\n",
       "      <td>2085.556203</td>\n",
       "      <td>16.715340</td>\n",
       "    </tr>\n",
       "    <tr>\n",
       "      <th>2</th>\n",
       "      <td>1542.789804</td>\n",
       "      <td>1.448160</td>\n",
       "      <td>1551.686252</td>\n",
       "      <td>14.815797</td>\n",
       "    </tr>\n",
       "    <tr>\n",
       "      <th>3</th>\n",
       "      <td>1177.386062</td>\n",
       "      <td>1.924371</td>\n",
       "      <td>1191.497390</td>\n",
       "      <td>13.893185</td>\n",
       "    </tr>\n",
       "    <tr>\n",
       "      <th>4</th>\n",
       "      <td>936.177799</td>\n",
       "      <td>1.213138</td>\n",
       "      <td>958.509243</td>\n",
       "      <td>11.464197</td>\n",
       "    </tr>\n",
       "  </tbody>\n",
       "</table>\n",
       "</div>"
      ]
     },
     "execution_count": 10,
     "metadata": {},
     "output_type": "execute_result"
    }
   ],
   "execution_count": 10
  },
  {
   "metadata": {
    "ExecuteTime": {
     "end_time": "2024-11-23T06:51:14.830858Z",
     "start_time": "2024-11-23T06:51:14.822286Z"
    }
   },
   "cell_type": "code",
   "source": [
    "best_rmse = results['test-rmse-mean'].min()\n",
    "best_rmse"
   ],
   "id": "fd9eab551384defa",
   "outputs": [
    {
     "data": {
      "text/plain": [
       "548.6714505957655"
      ]
     },
     "execution_count": 11,
     "metadata": {},
     "output_type": "execute_result"
    }
   ],
   "execution_count": 11
  },
  {
   "metadata": {},
   "cell_type": "markdown",
   "source": "# Training",
   "id": "dece0a45385bcac3"
  },
  {
   "metadata": {
    "ExecuteTime": {
     "end_time": "2024-11-23T06:51:15.325622Z",
     "start_time": "2024-11-23T06:51:14.832883Z"
    }
   },
   "cell_type": "code",
   "source": [
    "best_num_boost_round = len(results)\n",
    "\n",
    "# Train the model on the full dataset using the optimal number of boosting rounds\n",
    "final_model = xgb.train(\n",
    "   params,\n",
    "   dtrain_reg,\n",
    "   num_boost_round=best_num_boost_round,\n",
    "   evals=evals,\n",
    "   verbose_eval=10,\n",
    "   early_stopping_rounds=50,\n",
    ")"
   ],
   "id": "10e637eeffa09f2f",
   "outputs": [
    {
     "name": "stdout",
     "output_type": "stream",
     "text": [
      "[0]\ttrain-rmse:2859.16191\tvalidation-rmse:2863.26854\n",
      "[10]\ttrain-rmse:541.71155\tvalidation-rmse:595.17258\n",
      "[20]\ttrain-rmse:483.63884\tvalidation-rmse:564.80710\n",
      "[30]\ttrain-rmse:457.50330\tvalidation-rmse:561.33566\n",
      "[40]\ttrain-rmse:441.58532\tvalidation-rmse:560.49224\n",
      "[50]\ttrain-rmse:428.43810\tvalidation-rmse:558.54031\n",
      "[52]\ttrain-rmse:427.23083\tvalidation-rmse:559.00866\n"
     ]
    }
   ],
   "execution_count": 12
  },
  {
   "metadata": {},
   "cell_type": "markdown",
   "source": "# Testing",
   "id": "ceb0944ff11977f6"
  },
  {
   "metadata": {
    "ExecuteTime": {
     "end_time": "2024-11-23T06:51:15.334685Z",
     "start_time": "2024-11-23T06:51:15.330141Z"
    }
   },
   "cell_type": "code",
   "source": [
    "from sklearn.metrics import mean_squared_error\n",
    "\n",
    "preds = final_model.predict(dtest_reg)"
   ],
   "id": "980c350a85fc28bb",
   "outputs": [],
   "execution_count": 12
  },
  {
   "metadata": {},
   "cell_type": "code",
   "outputs": [],
   "execution_count": null,
   "source": [
    "rmse = mean_squared_error(y_test, preds, squared=False)\n",
    "print(f\"RMSE of the base model: {rmse:.3f}\")"
   ],
   "id": "c40ebb05c4ab525e"
  }
 ],
 "metadata": {
  "kernelspec": {
   "display_name": "Python 3",
   "language": "python",
   "name": "python3"
  },
  "language_info": {
   "codemirror_mode": {
    "name": "ipython",
    "version": 2
   },
   "file_extension": ".py",
   "mimetype": "text/x-python",
   "name": "python",
   "nbconvert_exporter": "python",
   "pygments_lexer": "ipython2",
   "version": "2.7.6"
  }
 },
 "nbformat": 4,
 "nbformat_minor": 5
}

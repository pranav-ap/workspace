{
 "cells": [
  {
   "metadata": {
    "ExecuteTime": {
     "end_time": "2024-09-05T11:32:51.276183Z",
     "start_time": "2024-09-05T11:32:51.088830Z"
    }
   },
   "cell_type": "code",
   "source": [
    "%load_ext autoreload\n",
    "%autoreload 2"
   ],
   "id": "4bd1f06a17ff10cb",
   "outputs": [
    {
     "name": "stdout",
     "output_type": "stream",
     "text": [
      "The autoreload extension is already loaded. To reload it, use:\n",
      "  %reload_ext autoreload\n"
     ]
    }
   ],
   "execution_count": 27
  },
  {
   "metadata": {
    "ExecuteTime": {
     "end_time": "2024-09-05T11:32:52.255464Z",
     "start_time": "2024-09-05T11:32:52.084638Z"
    }
   },
   "cell_type": "code",
   "source": [
    "import numpy as np\n",
    "import pandas as pd\n",
    "pd.set_option('display.max_columns', None)\n",
    "\n",
    "# visualization\n",
    "import matplotlib as mpl\n",
    "import matplotlib.pyplot as plt\n",
    "from pypalettes import get_hex\n",
    "plt.style.use('seaborn-v0_8-whitegrid')\n",
    "%matplotlib inline\n",
    "import seaborn as sns\n",
    "sns.set_theme(style=\"darkgrid\")\n",
    "\n",
    "import warnings\n",
    "warnings.filterwarnings('ignore')"
   ],
   "id": "7d902074167745cf",
   "outputs": [],
   "execution_count": 28
  },
  {
   "metadata": {},
   "cell_type": "markdown",
   "source": "# Load Training Dataset",
   "id": "4dedaf94ef23c9ac"
  },
  {
   "metadata": {
    "ExecuteTime": {
     "end_time": "2024-09-05T11:32:52.480762Z",
     "start_time": "2024-09-05T11:32:52.262658Z"
    }
   },
   "cell_type": "code",
   "source": [
    "train_data = pd.read_csv('../data/titanic/train.csv')\n",
    "train_data.head(2)"
   ],
   "id": "84b6abc9d8b4e19e",
   "outputs": [
    {
     "data": {
      "text/plain": [
       "   PassengerId  Survived  Pclass  \\\n",
       "0            1         0       3   \n",
       "1            2         1       1   \n",
       "\n",
       "                                                Name     Sex   Age  SibSp  \\\n",
       "0                            Braund, Mr. Owen Harris    male  22.0      1   \n",
       "1  Cumings, Mrs. John Bradley (Florence Briggs Th...  female  38.0      1   \n",
       "\n",
       "   Parch     Ticket     Fare Cabin Embarked  \n",
       "0      0  A/5 21171   7.2500   NaN        S  \n",
       "1      0   PC 17599  71.2833   C85        C  "
      ],
      "text/html": [
       "<div>\n",
       "<style scoped>\n",
       "    .dataframe tbody tr th:only-of-type {\n",
       "        vertical-align: middle;\n",
       "    }\n",
       "\n",
       "    .dataframe tbody tr th {\n",
       "        vertical-align: top;\n",
       "    }\n",
       "\n",
       "    .dataframe thead th {\n",
       "        text-align: right;\n",
       "    }\n",
       "</style>\n",
       "<table border=\"1\" class=\"dataframe\">\n",
       "  <thead>\n",
       "    <tr style=\"text-align: right;\">\n",
       "      <th></th>\n",
       "      <th>PassengerId</th>\n",
       "      <th>Survived</th>\n",
       "      <th>Pclass</th>\n",
       "      <th>Name</th>\n",
       "      <th>Sex</th>\n",
       "      <th>Age</th>\n",
       "      <th>SibSp</th>\n",
       "      <th>Parch</th>\n",
       "      <th>Ticket</th>\n",
       "      <th>Fare</th>\n",
       "      <th>Cabin</th>\n",
       "      <th>Embarked</th>\n",
       "    </tr>\n",
       "  </thead>\n",
       "  <tbody>\n",
       "    <tr>\n",
       "      <th>0</th>\n",
       "      <td>1</td>\n",
       "      <td>0</td>\n",
       "      <td>3</td>\n",
       "      <td>Braund, Mr. Owen Harris</td>\n",
       "      <td>male</td>\n",
       "      <td>22.0</td>\n",
       "      <td>1</td>\n",
       "      <td>0</td>\n",
       "      <td>A/5 21171</td>\n",
       "      <td>7.2500</td>\n",
       "      <td>NaN</td>\n",
       "      <td>S</td>\n",
       "    </tr>\n",
       "    <tr>\n",
       "      <th>1</th>\n",
       "      <td>2</td>\n",
       "      <td>1</td>\n",
       "      <td>1</td>\n",
       "      <td>Cumings, Mrs. John Bradley (Florence Briggs Th...</td>\n",
       "      <td>female</td>\n",
       "      <td>38.0</td>\n",
       "      <td>1</td>\n",
       "      <td>0</td>\n",
       "      <td>PC 17599</td>\n",
       "      <td>71.2833</td>\n",
       "      <td>C85</td>\n",
       "      <td>C</td>\n",
       "    </tr>\n",
       "  </tbody>\n",
       "</table>\n",
       "</div>"
      ]
     },
     "execution_count": 29,
     "metadata": {},
     "output_type": "execute_result"
    }
   ],
   "execution_count": 29
  },
  {
   "metadata": {
    "ExecuteTime": {
     "end_time": "2024-09-05T11:32:52.664915Z",
     "start_time": "2024-09-05T11:32:52.485782Z"
    }
   },
   "cell_type": "code",
   "source": "train_data.shape",
   "id": "9db12b5930188b6b",
   "outputs": [
    {
     "data": {
      "text/plain": [
       "(891, 12)"
      ]
     },
     "execution_count": 30,
     "metadata": {},
     "output_type": "execute_result"
    }
   ],
   "execution_count": 30
  },
  {
   "metadata": {},
   "cell_type": "markdown",
   "source": "# Describe",
   "id": "32e8484045f4b036"
  },
  {
   "metadata": {
    "ExecuteTime": {
     "end_time": "2024-09-05T11:32:52.888184Z",
     "start_time": "2024-09-05T11:32:52.668468Z"
    }
   },
   "cell_type": "code",
   "source": [
    "train_describe_numeric = train_data.describe()\n",
    "train_describe_numeric"
   ],
   "id": "c2d07b0d3e2c5602",
   "outputs": [
    {
     "data": {
      "text/plain": [
       "       PassengerId    Survived      Pclass         Age       SibSp  \\\n",
       "count   891.000000  891.000000  891.000000  714.000000  891.000000   \n",
       "mean    446.000000    0.383838    2.308642   29.699118    0.523008   \n",
       "std     257.353842    0.486592    0.836071   14.526497    1.102743   \n",
       "min       1.000000    0.000000    1.000000    0.420000    0.000000   \n",
       "25%     223.500000    0.000000    2.000000   20.125000    0.000000   \n",
       "50%     446.000000    0.000000    3.000000   28.000000    0.000000   \n",
       "75%     668.500000    1.000000    3.000000   38.000000    1.000000   \n",
       "max     891.000000    1.000000    3.000000   80.000000    8.000000   \n",
       "\n",
       "            Parch        Fare  \n",
       "count  891.000000  891.000000  \n",
       "mean     0.381594   32.204208  \n",
       "std      0.806057   49.693429  \n",
       "min      0.000000    0.000000  \n",
       "25%      0.000000    7.910400  \n",
       "50%      0.000000   14.454200  \n",
       "75%      0.000000   31.000000  \n",
       "max      6.000000  512.329200  "
      ],
      "text/html": [
       "<div>\n",
       "<style scoped>\n",
       "    .dataframe tbody tr th:only-of-type {\n",
       "        vertical-align: middle;\n",
       "    }\n",
       "\n",
       "    .dataframe tbody tr th {\n",
       "        vertical-align: top;\n",
       "    }\n",
       "\n",
       "    .dataframe thead th {\n",
       "        text-align: right;\n",
       "    }\n",
       "</style>\n",
       "<table border=\"1\" class=\"dataframe\">\n",
       "  <thead>\n",
       "    <tr style=\"text-align: right;\">\n",
       "      <th></th>\n",
       "      <th>PassengerId</th>\n",
       "      <th>Survived</th>\n",
       "      <th>Pclass</th>\n",
       "      <th>Age</th>\n",
       "      <th>SibSp</th>\n",
       "      <th>Parch</th>\n",
       "      <th>Fare</th>\n",
       "    </tr>\n",
       "  </thead>\n",
       "  <tbody>\n",
       "    <tr>\n",
       "      <th>count</th>\n",
       "      <td>891.000000</td>\n",
       "      <td>891.000000</td>\n",
       "      <td>891.000000</td>\n",
       "      <td>714.000000</td>\n",
       "      <td>891.000000</td>\n",
       "      <td>891.000000</td>\n",
       "      <td>891.000000</td>\n",
       "    </tr>\n",
       "    <tr>\n",
       "      <th>mean</th>\n",
       "      <td>446.000000</td>\n",
       "      <td>0.383838</td>\n",
       "      <td>2.308642</td>\n",
       "      <td>29.699118</td>\n",
       "      <td>0.523008</td>\n",
       "      <td>0.381594</td>\n",
       "      <td>32.204208</td>\n",
       "    </tr>\n",
       "    <tr>\n",
       "      <th>std</th>\n",
       "      <td>257.353842</td>\n",
       "      <td>0.486592</td>\n",
       "      <td>0.836071</td>\n",
       "      <td>14.526497</td>\n",
       "      <td>1.102743</td>\n",
       "      <td>0.806057</td>\n",
       "      <td>49.693429</td>\n",
       "    </tr>\n",
       "    <tr>\n",
       "      <th>min</th>\n",
       "      <td>1.000000</td>\n",
       "      <td>0.000000</td>\n",
       "      <td>1.000000</td>\n",
       "      <td>0.420000</td>\n",
       "      <td>0.000000</td>\n",
       "      <td>0.000000</td>\n",
       "      <td>0.000000</td>\n",
       "    </tr>\n",
       "    <tr>\n",
       "      <th>25%</th>\n",
       "      <td>223.500000</td>\n",
       "      <td>0.000000</td>\n",
       "      <td>2.000000</td>\n",
       "      <td>20.125000</td>\n",
       "      <td>0.000000</td>\n",
       "      <td>0.000000</td>\n",
       "      <td>7.910400</td>\n",
       "    </tr>\n",
       "    <tr>\n",
       "      <th>50%</th>\n",
       "      <td>446.000000</td>\n",
       "      <td>0.000000</td>\n",
       "      <td>3.000000</td>\n",
       "      <td>28.000000</td>\n",
       "      <td>0.000000</td>\n",
       "      <td>0.000000</td>\n",
       "      <td>14.454200</td>\n",
       "    </tr>\n",
       "    <tr>\n",
       "      <th>75%</th>\n",
       "      <td>668.500000</td>\n",
       "      <td>1.000000</td>\n",
       "      <td>3.000000</td>\n",
       "      <td>38.000000</td>\n",
       "      <td>1.000000</td>\n",
       "      <td>0.000000</td>\n",
       "      <td>31.000000</td>\n",
       "    </tr>\n",
       "    <tr>\n",
       "      <th>max</th>\n",
       "      <td>891.000000</td>\n",
       "      <td>1.000000</td>\n",
       "      <td>3.000000</td>\n",
       "      <td>80.000000</td>\n",
       "      <td>8.000000</td>\n",
       "      <td>6.000000</td>\n",
       "      <td>512.329200</td>\n",
       "    </tr>\n",
       "  </tbody>\n",
       "</table>\n",
       "</div>"
      ]
     },
     "execution_count": 31,
     "metadata": {},
     "output_type": "execute_result"
    }
   ],
   "execution_count": 31
  },
  {
   "metadata": {
    "ExecuteTime": {
     "end_time": "2024-09-05T11:32:53.064926Z",
     "start_time": "2024-09-05T11:32:52.894218Z"
    }
   },
   "cell_type": "code",
   "source": "print('Survival rate is ', train_describe_numeric.loc['mean', 'Survived'])",
   "id": "e9199cdec7f38983",
   "outputs": [
    {
     "name": "stdout",
     "output_type": "stream",
     "text": [
      "Survival rate is  0.3838383838383838\n"
     ]
    }
   ],
   "execution_count": 32
  },
  {
   "metadata": {
    "ExecuteTime": {
     "end_time": "2024-09-05T11:32:53.247363Z",
     "start_time": "2024-09-05T11:32:53.068579Z"
    }
   },
   "cell_type": "code",
   "source": "train_data['Survived'].astype('category', copy=False).value_counts()",
   "id": "125ee3ed3e60a5f8",
   "outputs": [
    {
     "data": {
      "text/plain": [
       "Survived\n",
       "0    549\n",
       "1    342\n",
       "Name: count, dtype: int64"
      ]
     },
     "execution_count": 33,
     "metadata": {},
     "output_type": "execute_result"
    }
   ],
   "execution_count": 33
  },
  {
   "metadata": {
    "ExecuteTime": {
     "end_time": "2024-09-05T11:32:53.842202Z",
     "start_time": "2024-09-05T11:32:53.252349Z"
    }
   },
   "cell_type": "code",
   "source": "sns.countplot(data=train_data, x='Survived', palette = 'Blues_r')",
   "id": "1c609c27c85eed32",
   "outputs": [
    {
     "data": {
      "text/plain": [
       "<Axes: xlabel='Survived', ylabel='count'>"
      ]
     },
     "execution_count": 34,
     "metadata": {},
     "output_type": "execute_result"
    },
    {
     "data": {
      "text/plain": [
       "<Figure size 640x480 with 1 Axes>"
      ],
      "image/png": "[encoded data removed]"
     },
     "metadata": {},
     "output_type": "display_data"
    }
   ],
   "execution_count": 34
  },
  {
   "metadata": {
    "ExecuteTime": {
     "end_time": "2024-09-05T11:32:54.024524Z",
     "start_time": "2024-09-05T11:32:53.847225Z"
    }
   },
   "cell_type": "code",
   "source": "train_data.info()",
   "id": "1bd9a9d238a37294",
   "outputs": [
    {
     "name": "stdout",
     "output_type": "stream",
     "text": [
      "<class 'pandas.core.frame.DataFrame'>\n",
      "RangeIndex: 891 entries, 0 to 890\n",
      "Data columns (total 12 columns):\n",
      " #   Column       Non-Null Count  Dtype  \n",
      "---  ------       --------------  -----  \n",
      " 0   PassengerId  891 non-null    int64  \n",
      " 1   Survived     891 non-null    int64  \n",
      " 2   Pclass       891 non-null    int64  \n",
      " 3   Name         891 non-null    object \n",
      " 4   Sex          891 non-null    object \n",
      " 5   Age          714 non-null    float64\n",
      " 6   SibSp        891 non-null    int64  \n",
      " 7   Parch        891 non-null    int64  \n",
      " 8   Ticket       891 non-null    object \n",
      " 9   Fare         891 non-null    float64\n",
      " 10  Cabin        204 non-null    object \n",
      " 11  Embarked     889 non-null    object \n",
      "dtypes: float64(2), int64(5), object(5)\n",
      "memory usage: 83.7+ KB\n"
     ]
    }
   ],
   "execution_count": 35
  },
  {
   "metadata": {},
   "cell_type": "markdown",
   "source": "# Drop Unnecessary Columns",
   "id": "3f0f2575a7c2623e"
  },
  {
   "metadata": {
    "ExecuteTime": {
     "end_time": "2024-09-05T11:32:54.203460Z",
     "start_time": "2024-09-05T11:32:54.030094Z"
    }
   },
   "cell_type": "code",
   "source": [
    "columns_to_drop = ['PassengerId', 'Name', 'Ticket', 'Fare', 'Cabin', 'Embarked']\n",
    "\n",
    "train_data = train_data.drop(columns_to_drop, axis=1)\n",
    "train_data.info()"
   ],
   "id": "7a46be1f23b1ba06",
   "outputs": [
    {
     "name": "stdout",
     "output_type": "stream",
     "text": [
      "<class 'pandas.core.frame.DataFrame'>\n",
      "RangeIndex: 891 entries, 0 to 890\n",
      "Data columns (total 6 columns):\n",
      " #   Column    Non-Null Count  Dtype  \n",
      "---  ------    --------------  -----  \n",
      " 0   Survived  891 non-null    int64  \n",
      " 1   Pclass    891 non-null    int64  \n",
      " 2   Sex       891 non-null    object \n",
      " 3   Age       714 non-null    float64\n",
      " 4   SibSp     891 non-null    int64  \n",
      " 5   Parch     891 non-null    int64  \n",
      "dtypes: float64(1), int64(4), object(1)\n",
      "memory usage: 41.9+ KB\n"
     ]
    }
   ],
   "execution_count": 36
  },
  {
   "metadata": {},
   "cell_type": "markdown",
   "source": "# Column Datatype Change",
   "id": "9ff89513a34ad9e9"
  },
  {
   "metadata": {
    "ExecuteTime": {
     "end_time": "2024-09-05T11:32:54.376160Z",
     "start_time": "2024-09-05T11:32:54.211006Z"
    }
   },
   "cell_type": "code",
   "source": [
    "# train_data['Survived'] = train_data['Survived'].astype('category', copy=False)\n",
    "train_data['Pclass'] = train_data['Pclass'].astype('category', copy=False)\n",
    "train_data['Sex'] = train_data['Sex'].astype('category', copy=False)"
   ],
   "id": "ed9fe13bc629b2d6",
   "outputs": [],
   "execution_count": 37
  },
  {
   "metadata": {},
   "cell_type": "markdown",
   "source": "# More Describe",
   "id": "fbc2cd7a6fe03d26"
  },
  {
   "metadata": {
    "ExecuteTime": {
     "end_time": "2024-09-05T11:32:54.534698Z",
     "start_time": "2024-09-05T11:32:54.380691Z"
    }
   },
   "cell_type": "code",
   "source": [
    "# train_describe_object = train_data.describe(include=['O'])\n",
    "# train_describe_object"
   ],
   "id": "66056ca22db2a33f",
   "outputs": [],
   "execution_count": 38
  },
  {
   "metadata": {
    "ExecuteTime": {
     "end_time": "2024-09-05T11:32:54.714636Z",
     "start_time": "2024-09-05T11:32:54.539199Z"
    }
   },
   "cell_type": "code",
   "source": [
    "train_describe_categorical = train_data.describe(include=['category'])\n",
    "train_describe_categorical"
   ],
   "id": "7465a97acb4f65c7",
   "outputs": [
    {
     "data": {
      "text/plain": [
       "        Pclass   Sex\n",
       "count      891   891\n",
       "unique       3     2\n",
       "top          3  male\n",
       "freq       491   577"
      ],
      "text/html": [
       "<div>\n",
       "<style scoped>\n",
       "    .dataframe tbody tr th:only-of-type {\n",
       "        vertical-align: middle;\n",
       "    }\n",
       "\n",
       "    .dataframe tbody tr th {\n",
       "        vertical-align: top;\n",
       "    }\n",
       "\n",
       "    .dataframe thead th {\n",
       "        text-align: right;\n",
       "    }\n",
       "</style>\n",
       "<table border=\"1\" class=\"dataframe\">\n",
       "  <thead>\n",
       "    <tr style=\"text-align: right;\">\n",
       "      <th></th>\n",
       "      <th>Pclass</th>\n",
       "      <th>Sex</th>\n",
       "    </tr>\n",
       "  </thead>\n",
       "  <tbody>\n",
       "    <tr>\n",
       "      <th>count</th>\n",
       "      <td>891</td>\n",
       "      <td>891</td>\n",
       "    </tr>\n",
       "    <tr>\n",
       "      <th>unique</th>\n",
       "      <td>3</td>\n",
       "      <td>2</td>\n",
       "    </tr>\n",
       "    <tr>\n",
       "      <th>top</th>\n",
       "      <td>3</td>\n",
       "      <td>male</td>\n",
       "    </tr>\n",
       "    <tr>\n",
       "      <th>freq</th>\n",
       "      <td>491</td>\n",
       "      <td>577</td>\n",
       "    </tr>\n",
       "  </tbody>\n",
       "</table>\n",
       "</div>"
      ]
     },
     "execution_count": 39,
     "metadata": {},
     "output_type": "execute_result"
    }
   ],
   "execution_count": 39
  },
  {
   "metadata": {
    "ExecuteTime": {
     "end_time": "2024-09-05T11:32:54.887731Z",
     "start_time": "2024-09-05T11:32:54.719189Z"
    }
   },
   "cell_type": "code",
   "source": [
    "print('Majority Gender : ', train_describe_categorical.loc['top', 'Sex'])\n",
    "print('Their Count : ', train_describe_categorical.loc['freq', 'Sex'])"
   ],
   "id": "6cc75d81034718e9",
   "outputs": [
    {
     "name": "stdout",
     "output_type": "stream",
     "text": [
      "Majority Gender :  male\n",
      "Their Count :  577\n"
     ]
    }
   ],
   "execution_count": 40
  },
  {
   "metadata": {},
   "cell_type": "markdown",
   "source": "# Missing Values",
   "id": "d3cc5cb04b33fcc8"
  },
  {
   "metadata": {
    "ExecuteTime": {
     "end_time": "2024-09-05T11:32:56.077496Z",
     "start_time": "2024-09-05T11:32:54.894753Z"
    }
   },
   "cell_type": "code",
   "source": [
    "import missingno as msno\n",
    "msno.matrix(train_data)"
   ],
   "id": "37d8a23b48ce2026",
   "outputs": [
    {
     "data": {
      "text/plain": [
       "<Axes: >"
      ]
     },
     "execution_count": 41,
     "metadata": {},
     "output_type": "execute_result"
    },
    {
     "data": {
      "text/plain": [
       "<Figure size 2500x1000 with 2 Axes>"
      ],
      "image/png": "[encoded data removed]"
     },
     "metadata": {},
     "output_type": "display_data"
    }
   ],
   "execution_count": 41
  },
  {
   "metadata": {
    "ExecuteTime": {
     "end_time": "2024-09-05T11:32:56.254539Z",
     "start_time": "2024-09-05T11:32:56.081516Z"
    }
   },
   "cell_type": "code",
   "source": [
    "from common import null_table\n",
    "\n",
    "null_table_train = null_table(train_data)\n",
    "\n",
    "null_table_train.sort_values(\n",
    "    by='Percentage', \n",
    "    ascending=False\n",
    ")"
   ],
   "id": "ab391396a689d71a",
   "outputs": [
    {
     "data": {
      "text/plain": [
       "    Columns  Null Count  Percentage\n",
       "0       Age         177    19.86532\n",
       "1  Survived           0     0.00000\n",
       "2    Pclass           0     0.00000\n",
       "3       Sex           0     0.00000\n",
       "4     SibSp           0     0.00000\n",
       "5     Parch           0     0.00000"
      ],
      "text/html": [
       "<div>\n",
       "<style scoped>\n",
       "    .dataframe tbody tr th:only-of-type {\n",
       "        vertical-align: middle;\n",
       "    }\n",
       "\n",
       "    .dataframe tbody tr th {\n",
       "        vertical-align: top;\n",
       "    }\n",
       "\n",
       "    .dataframe thead th {\n",
       "        text-align: right;\n",
       "    }\n",
       "</style>\n",
       "<table border=\"1\" class=\"dataframe\">\n",
       "  <thead>\n",
       "    <tr style=\"text-align: right;\">\n",
       "      <th></th>\n",
       "      <th>Columns</th>\n",
       "      <th>Null Count</th>\n",
       "      <th>Percentage</th>\n",
       "    </tr>\n",
       "  </thead>\n",
       "  <tbody>\n",
       "    <tr>\n",
       "      <th>0</th>\n",
       "      <td>Age</td>\n",
       "      <td>177</td>\n",
       "      <td>19.86532</td>\n",
       "    </tr>\n",
       "    <tr>\n",
       "      <th>1</th>\n",
       "      <td>Survived</td>\n",
       "      <td>0</td>\n",
       "      <td>0.00000</td>\n",
       "    </tr>\n",
       "    <tr>\n",
       "      <th>2</th>\n",
       "      <td>Pclass</td>\n",
       "      <td>0</td>\n",
       "      <td>0.00000</td>\n",
       "    </tr>\n",
       "    <tr>\n",
       "      <th>3</th>\n",
       "      <td>Sex</td>\n",
       "      <td>0</td>\n",
       "      <td>0.00000</td>\n",
       "    </tr>\n",
       "    <tr>\n",
       "      <th>4</th>\n",
       "      <td>SibSp</td>\n",
       "      <td>0</td>\n",
       "      <td>0.00000</td>\n",
       "    </tr>\n",
       "    <tr>\n",
       "      <th>5</th>\n",
       "      <td>Parch</td>\n",
       "      <td>0</td>\n",
       "      <td>0.00000</td>\n",
       "    </tr>\n",
       "  </tbody>\n",
       "</table>\n",
       "</div>"
      ]
     },
     "execution_count": 42,
     "metadata": {},
     "output_type": "execute_result"
    }
   ],
   "execution_count": 42
  },
  {
   "metadata": {
    "ExecuteTime": {
     "end_time": "2024-09-05T11:32:56.420244Z",
     "start_time": "2024-09-05T11:32:56.258094Z"
    }
   },
   "cell_type": "code",
   "source": [
    "mean_age = train_data['Age'].mean()\n",
    "train_data['Age'] = train_data['Age'].fillna(mean_age)"
   ],
   "id": "fca9487a1a0c9ee",
   "outputs": [],
   "execution_count": 43
  },
  {
   "metadata": {},
   "cell_type": "markdown",
   "source": "# Create New Features",
   "id": "773481dfe8aa144b"
  },
  {
   "metadata": {},
   "cell_type": "markdown",
   "source": "## Family Type",
   "id": "e2fc5d6bfe3ed493"
  },
  {
   "metadata": {
    "ExecuteTime": {
     "end_time": "2024-09-05T11:32:56.608395Z",
     "start_time": "2024-09-05T11:32:56.425263Z"
    }
   },
   "cell_type": "code",
   "source": "train_data[\"Family_Size\"] = train_data['SibSp'] + train_data['Parch'] + 1",
   "id": "3694a18557cb3592",
   "outputs": [],
   "execution_count": 44
  },
  {
   "metadata": {
    "ExecuteTime": {
     "end_time": "2024-09-05T11:32:56.773808Z",
     "start_time": "2024-09-05T11:32:56.614417Z"
    }
   },
   "cell_type": "code",
   "source": [
    "no_of_bins = 5\n",
    "\n",
    "train_data['Family_Type'] = pd.cut(\n",
    "    train_data['Family_Size'], \n",
    "    no_of_bins, \n",
    "    labels=np.arange(no_of_bins)\n",
    ")"
   ],
   "id": "7b942fd19a27332c",
   "outputs": [],
   "execution_count": 45
  },
  {
   "metadata": {
    "ExecuteTime": {
     "end_time": "2024-09-05T11:32:57.437475Z",
     "start_time": "2024-09-05T11:32:56.777003Z"
    }
   },
   "cell_type": "code",
   "source": [
    "sns.countplot(\n",
    "    x=\"Family_Type\", \n",
    "    hue=\"Survived\", \n",
    "    data=train_data\n",
    ")"
   ],
   "id": "725c4ce4ec8559d6",
   "outputs": [
    {
     "data": {
      "text/plain": [
       "<Axes: xlabel='Family_Type', ylabel='count'>"
      ]
     },
     "execution_count": 46,
     "metadata": {},
     "output_type": "execute_result"
    },
    {
     "data": {
      "text/plain": [
       "<Figure size 640x480 with 1 Axes>"
      ],
      "image/png": "[encoded data removed]"
     },
     "metadata": {},
     "output_type": "display_data"
    }
   ],
   "execution_count": 46
  },
  {
   "metadata": {
    "ExecuteTime": {
     "end_time": "2024-09-05T11:32:57.600262Z",
     "start_time": "2024-09-05T11:32:57.441490Z"
    }
   },
   "cell_type": "code",
   "source": [
    "train_data = train_data.drop(\n",
    "    ['SibSp', 'Parch', 'Family_Size'], \n",
    "    axis=1\n",
    ")"
   ],
   "id": "53ed2ddb5ce3177e",
   "outputs": [],
   "execution_count": 47
  },
  {
   "metadata": {},
   "cell_type": "markdown",
   "source": "## Age Group",
   "id": "5f3c7b3689f42501"
  },
  {
   "metadata": {
    "ExecuteTime": {
     "end_time": "2024-09-05T11:32:57.775057Z",
     "start_time": "2024-09-05T11:32:57.604277Z"
    }
   },
   "cell_type": "code",
   "source": [
    "no_of_bins = 5\n",
    "\n",
    "train_data['Age_Group'] = pd.cut(\n",
    "    train_data['Age'], \n",
    "    no_of_bins, \n",
    "    labels=np.arange(no_of_bins)\n",
    ")"
   ],
   "id": "d62d0f68bf8c5a1e",
   "outputs": [],
   "execution_count": 48
  },
  {
   "metadata": {
    "ExecuteTime": {
     "end_time": "2024-09-05T11:32:57.937606Z",
     "start_time": "2024-09-05T11:32:57.778174Z"
    }
   },
   "cell_type": "code",
   "source": "train_data = train_data.drop('Age', axis=1)",
   "id": "edbf8d2c79c02dde",
   "outputs": [],
   "execution_count": 49
  },
  {
   "metadata": {},
   "cell_type": "markdown",
   "source": "# Class Imbalance",
   "id": "626c0425a93b47f9"
  },
  {
   "metadata": {
    "ExecuteTime": {
     "end_time": "2024-09-05T11:32:58.116136Z",
     "start_time": "2024-09-05T11:32:57.942623Z"
    }
   },
   "cell_type": "code",
   "source": [
    "from sklearn.utils import resample\n",
    "\n",
    "# separate majority and minority classes\n",
    "majority = train_data[train_data['Survived'] == 0]\n",
    "minority = train_data[train_data['Survived'] == 1]\n",
    "\n",
    "# oversample the minority class\n",
    "minority_oversampled = resample(minority,\n",
    "                                replace=True,\n",
    "                                n_samples=len(majority))\n",
    "\n",
    "# combine majority class with oversampled minority class\n",
    "train_data = pd.concat([majority, minority_oversampled])\n",
    "\n",
    "# check the distribution of undersampled and oversampled datasets\n",
    "train_data['Survived'].value_counts()"
   ],
   "id": "564b964e240d2b60",
   "outputs": [
    {
     "data": {
      "text/plain": [
       "Survived\n",
       "0    549\n",
       "1    549\n",
       "Name: count, dtype: int64"
      ]
     },
     "execution_count": 50,
     "metadata": {},
     "output_type": "execute_result"
    }
   ],
   "execution_count": 50
  },
  {
   "metadata": {},
   "cell_type": "markdown",
   "source": "# Describe Again",
   "id": "97ace6dce5fc38bf"
  },
  {
   "metadata": {
    "ExecuteTime": {
     "end_time": "2024-09-05T11:32:58.309070Z",
     "start_time": "2024-09-05T11:32:58.125199Z"
    }
   },
   "cell_type": "code",
   "source": "train_data.info()",
   "id": "36091e234f0220a0",
   "outputs": [
    {
     "name": "stdout",
     "output_type": "stream",
     "text": [
      "<class 'pandas.core.frame.DataFrame'>\n",
      "Index: 1098 entries, 0 to 88\n",
      "Data columns (total 5 columns):\n",
      " #   Column       Non-Null Count  Dtype   \n",
      "---  ------       --------------  -----   \n",
      " 0   Survived     1098 non-null   int64   \n",
      " 1   Pclass       1098 non-null   category\n",
      " 2   Sex          1098 non-null   category\n",
      " 3   Family_Type  1098 non-null   category\n",
      " 4   Age_Group    1098 non-null   category\n",
      "dtypes: category(4), int64(1)\n",
      "memory usage: 22.1 KB\n"
     ]
    }
   ],
   "execution_count": 51
  },
  {
   "metadata": {},
   "cell_type": "markdown",
   "source": "# Survival Rates",
   "id": "8e070b07890f3811"
  },
  {
   "metadata": {
    "ExecuteTime": {
     "end_time": "2024-09-05T11:33:00.530551Z",
     "start_time": "2024-09-05T11:32:58.313086Z"
    }
   },
   "cell_type": "code",
   "source": [
    "from common import plot_count_grid\n",
    "\n",
    "columns_info = [\n",
    "    ('Pclass', 'Survival Rate by Passenger Class', 'Passenger Class'),\n",
    "    ('Sex', 'Survival Rate by Gender', 'Gender'),\n",
    "    ('Age_Group', 'Survival Rate by Age Group', 'Age Group'),\n",
    "    ('Family_Type', 'Survival Rate by Family Type', 'Family Type')\n",
    "]\n",
    "\n",
    "plot_count_grid(\n",
    "    data=train_data, \n",
    "    columns_info=columns_info, \n",
    "    grid_size=(2, 2), \n",
    "    font_size=17,  # Larger font size for titles and labels\n",
    "    tick_label_size=15,  # Larger font size for tick labels\n",
    "    figsize=(16, 12), \n",
    "    hue_column='Survived',\n",
    "    wspace=0.3,  # Adjust the padding between columns\n",
    "    hspace=0.4,  # Adjust the padding between rows\n",
    "    left=0.1,    # Adjust the left padding around the figure\n",
    "    right=0.9,   # Adjust the right padding around the figure\n",
    "    top=0.9,     # Adjust the top padding around the figure\n",
    "    bottom=0.1   # Adjust the bottom padding around the figure\n",
    ")"
   ],
   "id": "d304cb2a11534bff",
   "outputs": [
    {
     "data": {
      "text/plain": [
       "<Figure size 1600x1200 with 4 Axes>"
      ],
      "image/png": "[encoded data removed]"
     },
     "metadata": {},
     "output_type": "display_data"
    }
   ],
   "execution_count": 52
  },
  {
   "metadata": {},
   "cell_type": "markdown",
   "source": "# Training",
   "id": "efd0238eaa00cca2"
  },
  {
   "metadata": {
    "ExecuteTime": {
     "end_time": "2024-09-05T12:25:01.983272Z",
     "start_time": "2024-09-05T12:24:47.128784Z"
    }
   },
   "cell_type": "code",
   "source": [
    "from titanic_train import main\n",
    "bm = main()"
   ],
   "id": "6cb52ea247bae3f8",
   "outputs": [
    {
     "name": "stdout",
     "output_type": "stream",
     "text": [
      "\u001B[32m14:24:47\u001B[0m | \u001B[32m\u001B[1mSUCCESS \u001B[0m | \u001B[32m\u001B[1mStart!\u001B[0m\n",
      "\u001B[32m14:24:47\u001B[0m | \u001B[34m\u001B[1mDEBUG   \u001B[0m | \u001B[34m\u001B[1mGetting Dataset!\u001B[0m\n",
      "\u001B[32m14:24:47\u001B[0m | \u001B[1mINFO    \u001B[0m | \u001B[1mGo Forth and Grid Search!\u001B[0m\n",
      "Fitting 5 folds for each of 3 candidates, totalling 15 fits\n",
      "\u001B[32m14:25:00\u001B[0m | \u001B[1mINFO    \u001B[0m | \u001B[1mBest score        : 79.33%\u001B[0m\n",
      "\u001B[32m14:25:00\u001B[0m | \u001B[1mINFO    \u001B[0m | \u001B[1mBest parameters   : \u001B[0m\n",
      "{'max_depth': 15,\n",
      " 'min_samples_leaf': 5,\n",
      " 'min_samples_split': 50,\n",
      " 'n_estimators': 300}\n",
      "\u001B[32m14:25:00\u001B[0m | \u001B[1mINFO    \u001B[0m | \u001B[1mRetraining best model on full training data\u001B[0m\n",
      "\u001B[32m14:25:01\u001B[0m | \u001B[1mINFO    \u001B[0m | \u001B[1mPredicting on Test Set\u001B[0m\n"
     ]
    },
    {
     "ename": "ValueError",
     "evalue": "The feature names should match those that were passed during fit.\nFeature names unseen at fit time:\n- Titles_Dona\nFeature names seen at fit time, yet now missing:\n- Titles_Col\n- Titles_Don\n- Titles_Jonkheer\n- Titles_Lady\n- Titles_Major\n- ...\n",
     "output_type": "error",
     "traceback": [
      "\u001B[1;31m---------------------------------------------------------------------------\u001B[0m",
      "\u001B[1;31mValueError\u001B[0m                                Traceback (most recent call last)",
      "Cell \u001B[1;32mIn[65], line 2\u001B[0m\n\u001B[0;32m      1\u001B[0m \u001B[38;5;28;01mfrom\u001B[39;00m \u001B[38;5;21;01mtitanic_train\u001B[39;00m \u001B[38;5;28;01mimport\u001B[39;00m main\n\u001B[1;32m----> 2\u001B[0m bm \u001B[38;5;241m=\u001B[39m \u001B[43mmain\u001B[49m\u001B[43m(\u001B[49m\u001B[43m)\u001B[49m\n",
      "File \u001B[1;32mD:\\workshop\\case_studies\\titanic_train.py:200\u001B[0m, in \u001B[0;36mmain\u001B[1;34m()\u001B[0m\n\u001B[0;32m    197\u001B[0m best_model \u001B[38;5;241m=\u001B[39m train(X_train, y_train, model, param_grid)\n\u001B[0;32m    199\u001B[0m logger\u001B[38;5;241m.\u001B[39minfo(\u001B[38;5;124m\"\u001B[39m\u001B[38;5;124mPredicting on Test Set\u001B[39m\u001B[38;5;124m\"\u001B[39m)\n\u001B[1;32m--> 200\u001B[0m X_test_transformed \u001B[38;5;241m=\u001B[39m \u001B[43mbest_model\u001B[49m\u001B[38;5;241;43m.\u001B[39;49m\u001B[43mscaler\u001B[49m\u001B[38;5;241;43m.\u001B[39;49m\u001B[43mtransform\u001B[49m\u001B[43m(\u001B[49m\u001B[43mX_test\u001B[49m\u001B[43m)\u001B[49m\n\u001B[0;32m    202\u001B[0m \u001B[38;5;28;01mfrom\u001B[39;00m \u001B[38;5;21;01mcommon\u001B[39;00m \u001B[38;5;28;01mimport\u001B[39;00m plot_validation_curve, plot_learning_curve\n\u001B[0;32m    203\u001B[0m plot_validation_curve(X_train, y_train, best_model, param_name\u001B[38;5;241m=\u001B[39m\u001B[38;5;124m'\u001B[39m\u001B[38;5;124mn_estimators\u001B[39m\u001B[38;5;124m'\u001B[39m, param_range\u001B[38;5;241m=\u001B[39m[\u001B[38;5;241m50\u001B[39m, \u001B[38;5;241m100\u001B[39m])\n",
      "File \u001B[1;32mD:\\workshop\\.venv\\Lib\\site-packages\\sklearn\\utils\\_set_output.py:313\u001B[0m, in \u001B[0;36m_wrap_method_output.<locals>.wrapped\u001B[1;34m(self, X, *args, **kwargs)\u001B[0m\n\u001B[0;32m    311\u001B[0m \u001B[38;5;129m@wraps\u001B[39m(f)\n\u001B[0;32m    312\u001B[0m \u001B[38;5;28;01mdef\u001B[39;00m \u001B[38;5;21mwrapped\u001B[39m(\u001B[38;5;28mself\u001B[39m, X, \u001B[38;5;241m*\u001B[39margs, \u001B[38;5;241m*\u001B[39m\u001B[38;5;241m*\u001B[39mkwargs):\n\u001B[1;32m--> 313\u001B[0m     data_to_wrap \u001B[38;5;241m=\u001B[39m \u001B[43mf\u001B[49m\u001B[43m(\u001B[49m\u001B[38;5;28;43mself\u001B[39;49m\u001B[43m,\u001B[49m\u001B[43m \u001B[49m\u001B[43mX\u001B[49m\u001B[43m,\u001B[49m\u001B[43m \u001B[49m\u001B[38;5;241;43m*\u001B[39;49m\u001B[43margs\u001B[49m\u001B[43m,\u001B[49m\u001B[43m \u001B[49m\u001B[38;5;241;43m*\u001B[39;49m\u001B[38;5;241;43m*\u001B[39;49m\u001B[43mkwargs\u001B[49m\u001B[43m)\u001B[49m\n\u001B[0;32m    314\u001B[0m     \u001B[38;5;28;01mif\u001B[39;00m \u001B[38;5;28misinstance\u001B[39m(data_to_wrap, \u001B[38;5;28mtuple\u001B[39m):\n\u001B[0;32m    315\u001B[0m         \u001B[38;5;66;03m# only wrap the first output for cross decomposition\u001B[39;00m\n\u001B[0;32m    316\u001B[0m         return_tuple \u001B[38;5;241m=\u001B[39m (\n\u001B[0;32m    317\u001B[0m             _wrap_data_with_container(method, data_to_wrap[\u001B[38;5;241m0\u001B[39m], X, \u001B[38;5;28mself\u001B[39m),\n\u001B[0;32m    318\u001B[0m             \u001B[38;5;241m*\u001B[39mdata_to_wrap[\u001B[38;5;241m1\u001B[39m:],\n\u001B[0;32m    319\u001B[0m         )\n",
      "File \u001B[1;32mD:\\workshop\\.venv\\Lib\\site-packages\\sklearn\\preprocessing\\_data.py:1045\u001B[0m, in \u001B[0;36mStandardScaler.transform\u001B[1;34m(self, X, copy)\u001B[0m\n\u001B[0;32m   1042\u001B[0m check_is_fitted(\u001B[38;5;28mself\u001B[39m)\n\u001B[0;32m   1044\u001B[0m copy \u001B[38;5;241m=\u001B[39m copy \u001B[38;5;28;01mif\u001B[39;00m copy \u001B[38;5;129;01mis\u001B[39;00m \u001B[38;5;129;01mnot\u001B[39;00m \u001B[38;5;28;01mNone\u001B[39;00m \u001B[38;5;28;01melse\u001B[39;00m \u001B[38;5;28mself\u001B[39m\u001B[38;5;241m.\u001B[39mcopy\n\u001B[1;32m-> 1045\u001B[0m X \u001B[38;5;241m=\u001B[39m \u001B[38;5;28;43mself\u001B[39;49m\u001B[38;5;241;43m.\u001B[39;49m\u001B[43m_validate_data\u001B[49m\u001B[43m(\u001B[49m\n\u001B[0;32m   1046\u001B[0m \u001B[43m    \u001B[49m\u001B[43mX\u001B[49m\u001B[43m,\u001B[49m\n\u001B[0;32m   1047\u001B[0m \u001B[43m    \u001B[49m\u001B[43mreset\u001B[49m\u001B[38;5;241;43m=\u001B[39;49m\u001B[38;5;28;43;01mFalse\u001B[39;49;00m\u001B[43m,\u001B[49m\n\u001B[0;32m   1048\u001B[0m \u001B[43m    \u001B[49m\u001B[43maccept_sparse\u001B[49m\u001B[38;5;241;43m=\u001B[39;49m\u001B[38;5;124;43m\"\u001B[39;49m\u001B[38;5;124;43mcsr\u001B[39;49m\u001B[38;5;124;43m\"\u001B[39;49m\u001B[43m,\u001B[49m\n\u001B[0;32m   1049\u001B[0m \u001B[43m    \u001B[49m\u001B[43mcopy\u001B[49m\u001B[38;5;241;43m=\u001B[39;49m\u001B[43mcopy\u001B[49m\u001B[43m,\u001B[49m\n\u001B[0;32m   1050\u001B[0m \u001B[43m    \u001B[49m\u001B[43mdtype\u001B[49m\u001B[38;5;241;43m=\u001B[39;49m\u001B[43mFLOAT_DTYPES\u001B[49m\u001B[43m,\u001B[49m\n\u001B[0;32m   1051\u001B[0m \u001B[43m    \u001B[49m\u001B[43mforce_writeable\u001B[49m\u001B[38;5;241;43m=\u001B[39;49m\u001B[38;5;28;43;01mTrue\u001B[39;49;00m\u001B[43m,\u001B[49m\n\u001B[0;32m   1052\u001B[0m \u001B[43m    \u001B[49m\u001B[43mforce_all_finite\u001B[49m\u001B[38;5;241;43m=\u001B[39;49m\u001B[38;5;124;43m\"\u001B[39;49m\u001B[38;5;124;43mallow-nan\u001B[39;49m\u001B[38;5;124;43m\"\u001B[39;49m\u001B[43m,\u001B[49m\n\u001B[0;32m   1053\u001B[0m \u001B[43m\u001B[49m\u001B[43m)\u001B[49m\n\u001B[0;32m   1055\u001B[0m \u001B[38;5;28;01mif\u001B[39;00m sparse\u001B[38;5;241m.\u001B[39missparse(X):\n\u001B[0;32m   1056\u001B[0m     \u001B[38;5;28;01mif\u001B[39;00m \u001B[38;5;28mself\u001B[39m\u001B[38;5;241m.\u001B[39mwith_mean:\n",
      "File \u001B[1;32mD:\\workshop\\.venv\\Lib\\site-packages\\sklearn\\base.py:608\u001B[0m, in \u001B[0;36mBaseEstimator._validate_data\u001B[1;34m(self, X, y, reset, validate_separately, cast_to_ndarray, **check_params)\u001B[0m\n\u001B[0;32m    537\u001B[0m \u001B[38;5;28;01mdef\u001B[39;00m \u001B[38;5;21m_validate_data\u001B[39m(\n\u001B[0;32m    538\u001B[0m     \u001B[38;5;28mself\u001B[39m,\n\u001B[0;32m    539\u001B[0m     X\u001B[38;5;241m=\u001B[39m\u001B[38;5;124m\"\u001B[39m\u001B[38;5;124mno_validation\u001B[39m\u001B[38;5;124m\"\u001B[39m,\n\u001B[1;32m   (...)\u001B[0m\n\u001B[0;32m    544\u001B[0m     \u001B[38;5;241m*\u001B[39m\u001B[38;5;241m*\u001B[39mcheck_params,\n\u001B[0;32m    545\u001B[0m ):\n\u001B[0;32m    546\u001B[0m \u001B[38;5;250m    \u001B[39m\u001B[38;5;124;03m\"\"\"Validate input data and set or check the `n_features_in_` attribute.\u001B[39;00m\n\u001B[0;32m    547\u001B[0m \n\u001B[0;32m    548\u001B[0m \u001B[38;5;124;03m    Parameters\u001B[39;00m\n\u001B[1;32m   (...)\u001B[0m\n\u001B[0;32m    606\u001B[0m \u001B[38;5;124;03m        validated.\u001B[39;00m\n\u001B[0;32m    607\u001B[0m \u001B[38;5;124;03m    \"\"\"\u001B[39;00m\n\u001B[1;32m--> 608\u001B[0m     \u001B[38;5;28;43mself\u001B[39;49m\u001B[38;5;241;43m.\u001B[39;49m\u001B[43m_check_feature_names\u001B[49m\u001B[43m(\u001B[49m\u001B[43mX\u001B[49m\u001B[43m,\u001B[49m\u001B[43m \u001B[49m\u001B[43mreset\u001B[49m\u001B[38;5;241;43m=\u001B[39;49m\u001B[43mreset\u001B[49m\u001B[43m)\u001B[49m\n\u001B[0;32m    610\u001B[0m     \u001B[38;5;28;01mif\u001B[39;00m y \u001B[38;5;129;01mis\u001B[39;00m \u001B[38;5;28;01mNone\u001B[39;00m \u001B[38;5;129;01mand\u001B[39;00m \u001B[38;5;28mself\u001B[39m\u001B[38;5;241m.\u001B[39m_get_tags()[\u001B[38;5;124m\"\u001B[39m\u001B[38;5;124mrequires_y\u001B[39m\u001B[38;5;124m\"\u001B[39m]:\n\u001B[0;32m    611\u001B[0m         \u001B[38;5;28;01mraise\u001B[39;00m \u001B[38;5;167;01mValueError\u001B[39;00m(\n\u001B[0;32m    612\u001B[0m             \u001B[38;5;124mf\u001B[39m\u001B[38;5;124m\"\u001B[39m\u001B[38;5;124mThis \u001B[39m\u001B[38;5;132;01m{\u001B[39;00m\u001B[38;5;28mself\u001B[39m\u001B[38;5;241m.\u001B[39m\u001B[38;5;18m__class__\u001B[39m\u001B[38;5;241m.\u001B[39m\u001B[38;5;18m__name__\u001B[39m\u001B[38;5;132;01m}\u001B[39;00m\u001B[38;5;124m estimator \u001B[39m\u001B[38;5;124m\"\u001B[39m\n\u001B[0;32m    613\u001B[0m             \u001B[38;5;124m\"\u001B[39m\u001B[38;5;124mrequires y to be passed, but the target y is None.\u001B[39m\u001B[38;5;124m\"\u001B[39m\n\u001B[0;32m    614\u001B[0m         )\n",
      "File \u001B[1;32mD:\\workshop\\.venv\\Lib\\site-packages\\sklearn\\base.py:535\u001B[0m, in \u001B[0;36mBaseEstimator._check_feature_names\u001B[1;34m(self, X, reset)\u001B[0m\n\u001B[0;32m    530\u001B[0m \u001B[38;5;28;01mif\u001B[39;00m \u001B[38;5;129;01mnot\u001B[39;00m missing_names \u001B[38;5;129;01mand\u001B[39;00m \u001B[38;5;129;01mnot\u001B[39;00m unexpected_names:\n\u001B[0;32m    531\u001B[0m     message \u001B[38;5;241m+\u001B[39m\u001B[38;5;241m=\u001B[39m (\n\u001B[0;32m    532\u001B[0m         \u001B[38;5;124m\"\u001B[39m\u001B[38;5;124mFeature names must be in the same order as they were in fit.\u001B[39m\u001B[38;5;130;01m\\n\u001B[39;00m\u001B[38;5;124m\"\u001B[39m\n\u001B[0;32m    533\u001B[0m     )\n\u001B[1;32m--> 535\u001B[0m \u001B[38;5;28;01mraise\u001B[39;00m \u001B[38;5;167;01mValueError\u001B[39;00m(message)\n",
      "\u001B[1;31mValueError\u001B[0m: The feature names should match those that were passed during fit.\nFeature names unseen at fit time:\n- Titles_Dona\nFeature names seen at fit time, yet now missing:\n- Titles_Col\n- Titles_Don\n- Titles_Jonkheer\n- Titles_Lady\n- Titles_Major\n- ...\n"
     ]
    }
   ],
   "execution_count": 65
  }
 ],
 "metadata": {
  "kernelspec": {
   "display_name": "Python 3",
   "language": "python",
   "name": "python3"
  },
  "language_info": {
   "codemirror_mode": {
    "name": "ipython",
    "version": 2
   },
   "file_extension": ".py",
   "mimetype": "text/x-python",
   "name": "python",
   "nbconvert_exporter": "python",
   "pygments_lexer": "ipython2",
   "version": "2.7.6"
  }
 },
 "nbformat": 4,
 "nbformat_minor": 5
}

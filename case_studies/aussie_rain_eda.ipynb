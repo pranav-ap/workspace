{
 "cells": [
  {
   "metadata": {
    "ExecuteTime": {
     "end_time": "2024-09-11T10:01:21.783213Z",
     "start_time": "2024-09-11T10:01:18.728556Z"
    }
   },
   "cell_type": "code",
   "source": [
    "%load_ext autoreload\n",
    "%autoreload 2"
   ],
   "id": "1e9bd414e3eabc37",
   "outputs": [
    {
     "name": "stdout",
     "output_type": "stream",
     "text": [
      "The autoreload extension is already loaded. To reload it, use:\n",
      "  %reload_ext autoreload\n"
     ]
    }
   ],
   "execution_count": 90
  },
  {
   "metadata": {
    "ExecuteTime": {
     "end_time": "2024-09-11T10:01:22.098893Z",
     "start_time": "2024-09-11T10:01:21.788233Z"
    }
   },
   "cell_type": "code",
   "source": [
    "import numpy as np\n",
    "import pandas as pd\n",
    "import torch\n",
    "import torch.nn as nn\n",
    "import torch.optim as optim\n",
    "import matplotlib.pyplot as plt\n",
    "from sklearn.preprocessing import StandardScaler, LabelEncoder\n",
    "from mpl_toolkits.mplot3d import Axes3D"
   ],
   "id": "1a4f1515572d83ac",
   "outputs": [],
   "execution_count": 91
  },
  {
   "metadata": {
    "ExecuteTime": {
     "end_time": "2024-09-11T10:01:23.089615Z",
     "start_time": "2024-09-11T10:01:22.103916Z"
    }
   },
   "cell_type": "code",
   "source": [
    "df = pd.read_csv(\"D:/workshop/data/aussie_rain/weatherAUS.csv\")\n",
    "df.head()"
   ],
   "id": "40aa5d4d92adec63",
   "outputs": [
    {
     "data": {
      "text/plain": [
       "         Date Location  MinTemp  MaxTemp  Rainfall  Evaporation  Sunshine  \\\n",
       "0  2008-12-01   Albury     13.4     22.9       0.6          NaN       NaN   \n",
       "1  2008-12-02   Albury      7.4     25.1       0.0          NaN       NaN   \n",
       "2  2008-12-03   Albury     12.9     25.7       0.0          NaN       NaN   \n",
       "3  2008-12-04   Albury      9.2     28.0       0.0          NaN       NaN   \n",
       "4  2008-12-05   Albury     17.5     32.3       1.0          NaN       NaN   \n",
       "\n",
       "  WindGustDir  WindGustSpeed WindDir9am  ... Humidity9am  Humidity3pm  \\\n",
       "0           W           44.0          W  ...        71.0         22.0   \n",
       "1         WNW           44.0        NNW  ...        44.0         25.0   \n",
       "2         WSW           46.0          W  ...        38.0         30.0   \n",
       "3          NE           24.0         SE  ...        45.0         16.0   \n",
       "4           W           41.0        ENE  ...        82.0         33.0   \n",
       "\n",
       "   Pressure9am  Pressure3pm  Cloud9am  Cloud3pm  Temp9am  Temp3pm  RainToday  \\\n",
       "0       1007.7       1007.1       8.0       NaN     16.9     21.8         No   \n",
       "1       1010.6       1007.8       NaN       NaN     17.2     24.3         No   \n",
       "2       1007.6       1008.7       NaN       2.0     21.0     23.2         No   \n",
       "3       1017.6       1012.8       NaN       NaN     18.1     26.5         No   \n",
       "4       1010.8       1006.0       7.0       8.0     17.8     29.7         No   \n",
       "\n",
       "   RainTomorrow  \n",
       "0            No  \n",
       "1            No  \n",
       "2            No  \n",
       "3            No  \n",
       "4            No  \n",
       "\n",
       "[5 rows x 23 columns]"
      ],
      "text/html": [
       "<div>\n",
       "<style scoped>\n",
       "    .dataframe tbody tr th:only-of-type {\n",
       "        vertical-align: middle;\n",
       "    }\n",
       "\n",
       "    .dataframe tbody tr th {\n",
       "        vertical-align: top;\n",
       "    }\n",
       "\n",
       "    .dataframe thead th {\n",
       "        text-align: right;\n",
       "    }\n",
       "</style>\n",
       "<table border=\"1\" class=\"dataframe\">\n",
       "  <thead>\n",
       "    <tr style=\"text-align: right;\">\n",
       "      <th></th>\n",
       "      <th>Date</th>\n",
       "      <th>Location</th>\n",
       "      <th>MinTemp</th>\n",
       "      <th>MaxTemp</th>\n",
       "      <th>Rainfall</th>\n",
       "      <th>Evaporation</th>\n",
       "      <th>Sunshine</th>\n",
       "      <th>WindGustDir</th>\n",
       "      <th>WindGustSpeed</th>\n",
       "      <th>WindDir9am</th>\n",
       "      <th>...</th>\n",
       "      <th>Humidity9am</th>\n",
       "      <th>Humidity3pm</th>\n",
       "      <th>Pressure9am</th>\n",
       "      <th>Pressure3pm</th>\n",
       "      <th>Cloud9am</th>\n",
       "      <th>Cloud3pm</th>\n",
       "      <th>Temp9am</th>\n",
       "      <th>Temp3pm</th>\n",
       "      <th>RainToday</th>\n",
       "      <th>RainTomorrow</th>\n",
       "    </tr>\n",
       "  </thead>\n",
       "  <tbody>\n",
       "    <tr>\n",
       "      <th>0</th>\n",
       "      <td>2008-12-01</td>\n",
       "      <td>Albury</td>\n",
       "      <td>13.4</td>\n",
       "      <td>22.9</td>\n",
       "      <td>0.6</td>\n",
       "      <td>NaN</td>\n",
       "      <td>NaN</td>\n",
       "      <td>W</td>\n",
       "      <td>44.0</td>\n",
       "      <td>W</td>\n",
       "      <td>...</td>\n",
       "      <td>71.0</td>\n",
       "      <td>22.0</td>\n",
       "      <td>1007.7</td>\n",
       "      <td>1007.1</td>\n",
       "      <td>8.0</td>\n",
       "      <td>NaN</td>\n",
       "      <td>16.9</td>\n",
       "      <td>21.8</td>\n",
       "      <td>No</td>\n",
       "      <td>No</td>\n",
       "    </tr>\n",
       "    <tr>\n",
       "      <th>1</th>\n",
       "      <td>2008-12-02</td>\n",
       "      <td>Albury</td>\n",
       "      <td>7.4</td>\n",
       "      <td>25.1</td>\n",
       "      <td>0.0</td>\n",
       "      <td>NaN</td>\n",
       "      <td>NaN</td>\n",
       "      <td>WNW</td>\n",
       "      <td>44.0</td>\n",
       "      <td>NNW</td>\n",
       "      <td>...</td>\n",
       "      <td>44.0</td>\n",
       "      <td>25.0</td>\n",
       "      <td>1010.6</td>\n",
       "      <td>1007.8</td>\n",
       "      <td>NaN</td>\n",
       "      <td>NaN</td>\n",
       "      <td>17.2</td>\n",
       "      <td>24.3</td>\n",
       "      <td>No</td>\n",
       "      <td>No</td>\n",
       "    </tr>\n",
       "    <tr>\n",
       "      <th>2</th>\n",
       "      <td>2008-12-03</td>\n",
       "      <td>Albury</td>\n",
       "      <td>12.9</td>\n",
       "      <td>25.7</td>\n",
       "      <td>0.0</td>\n",
       "      <td>NaN</td>\n",
       "      <td>NaN</td>\n",
       "      <td>WSW</td>\n",
       "      <td>46.0</td>\n",
       "      <td>W</td>\n",
       "      <td>...</td>\n",
       "      <td>38.0</td>\n",
       "      <td>30.0</td>\n",
       "      <td>1007.6</td>\n",
       "      <td>1008.7</td>\n",
       "      <td>NaN</td>\n",
       "      <td>2.0</td>\n",
       "      <td>21.0</td>\n",
       "      <td>23.2</td>\n",
       "      <td>No</td>\n",
       "      <td>No</td>\n",
       "    </tr>\n",
       "    <tr>\n",
       "      <th>3</th>\n",
       "      <td>2008-12-04</td>\n",
       "      <td>Albury</td>\n",
       "      <td>9.2</td>\n",
       "      <td>28.0</td>\n",
       "      <td>0.0</td>\n",
       "      <td>NaN</td>\n",
       "      <td>NaN</td>\n",
       "      <td>NE</td>\n",
       "      <td>24.0</td>\n",
       "      <td>SE</td>\n",
       "      <td>...</td>\n",
       "      <td>45.0</td>\n",
       "      <td>16.0</td>\n",
       "      <td>1017.6</td>\n",
       "      <td>1012.8</td>\n",
       "      <td>NaN</td>\n",
       "      <td>NaN</td>\n",
       "      <td>18.1</td>\n",
       "      <td>26.5</td>\n",
       "      <td>No</td>\n",
       "      <td>No</td>\n",
       "    </tr>\n",
       "    <tr>\n",
       "      <th>4</th>\n",
       "      <td>2008-12-05</td>\n",
       "      <td>Albury</td>\n",
       "      <td>17.5</td>\n",
       "      <td>32.3</td>\n",
       "      <td>1.0</td>\n",
       "      <td>NaN</td>\n",
       "      <td>NaN</td>\n",
       "      <td>W</td>\n",
       "      <td>41.0</td>\n",
       "      <td>ENE</td>\n",
       "      <td>...</td>\n",
       "      <td>82.0</td>\n",
       "      <td>33.0</td>\n",
       "      <td>1010.8</td>\n",
       "      <td>1006.0</td>\n",
       "      <td>7.0</td>\n",
       "      <td>8.0</td>\n",
       "      <td>17.8</td>\n",
       "      <td>29.7</td>\n",
       "      <td>No</td>\n",
       "      <td>No</td>\n",
       "    </tr>\n",
       "  </tbody>\n",
       "</table>\n",
       "<p>5 rows × 23 columns</p>\n",
       "</div>"
      ]
     },
     "execution_count": 92,
     "metadata": {},
     "output_type": "execute_result"
    }
   ],
   "execution_count": 92
  },
  {
   "metadata": {
    "ExecuteTime": {
     "end_time": "2024-09-11T10:01:23.412690Z",
     "start_time": "2024-09-11T10:01:23.096643Z"
    }
   },
   "cell_type": "code",
   "source": "df.columns",
   "id": "270bbd294a83679f",
   "outputs": [
    {
     "data": {
      "text/plain": [
       "Index(['Date', 'Location', 'MinTemp', 'MaxTemp', 'Rainfall', 'Evaporation',\n",
       "       'Sunshine', 'WindGustDir', 'WindGustSpeed', 'WindDir9am', 'WindDir3pm',\n",
       "       'WindSpeed9am', 'WindSpeed3pm', 'Humidity9am', 'Humidity3pm',\n",
       "       'Pressure9am', 'Pressure3pm', 'Cloud9am', 'Cloud3pm', 'Temp9am',\n",
       "       'Temp3pm', 'RainToday', 'RainTomorrow'],\n",
       "      dtype='object')"
      ]
     },
     "execution_count": 93,
     "metadata": {},
     "output_type": "execute_result"
    }
   ],
   "execution_count": 93
  },
  {
   "metadata": {},
   "cell_type": "markdown",
   "source": "# Cleaning",
   "id": "dc618a07ca8060e3"
  },
  {
   "cell_type": "code",
   "id": "initial_id",
   "metadata": {
    "collapsed": true,
    "ExecuteTime": {
     "end_time": "2024-09-11T10:01:23.881118Z",
     "start_time": "2024-09-11T10:01:23.417703Z"
    }
   },
   "source": [
    "df = df.drop([\n",
    "    'Date', 'Location', \n",
    "    'WindGustDir', 'WindDir9am', 'WindDir3pm'], axis=1)\n",
    "\n",
    "df = df.dropna(how = 'any')\n",
    "\n",
    "df.loc[df['RainToday'] == 'No', 'RainToday'] = 0\n",
    "df.loc[df['RainToday'] == 'Yes', 'RainToday'] = 1\n",
    "\n",
    "df.loc[df['RainTomorrow'] == 'No', 'RainTomorrow'] = 0\n",
    "df.loc[df['RainTomorrow'] == 'Yes', 'RainTomorrow'] = 1\n",
    "\n",
    "df['RainToday'] = df['RainToday'].astype(int)\n",
    "df['RainTomorrow'] = df['RainTomorrow'].astype(int)\n",
    "\n",
    "df.info()"
   ],
   "outputs": [
    {
     "name": "stdout",
     "output_type": "stream",
     "text": [
      "<class 'pandas.core.frame.DataFrame'>\n",
      "Index: 58090 entries, 6049 to 142302\n",
      "Data columns (total 18 columns):\n",
      " #   Column         Non-Null Count  Dtype  \n",
      "---  ------         --------------  -----  \n",
      " 0   MinTemp        58090 non-null  float64\n",
      " 1   MaxTemp        58090 non-null  float64\n",
      " 2   Rainfall       58090 non-null  float64\n",
      " 3   Evaporation    58090 non-null  float64\n",
      " 4   Sunshine       58090 non-null  float64\n",
      " 5   WindGustSpeed  58090 non-null  float64\n",
      " 6   WindSpeed9am   58090 non-null  float64\n",
      " 7   WindSpeed3pm   58090 non-null  float64\n",
      " 8   Humidity9am    58090 non-null  float64\n",
      " 9   Humidity3pm    58090 non-null  float64\n",
      " 10  Pressure9am    58090 non-null  float64\n",
      " 11  Pressure3pm    58090 non-null  float64\n",
      " 12  Cloud9am       58090 non-null  float64\n",
      " 13  Cloud3pm       58090 non-null  float64\n",
      " 14  Temp9am        58090 non-null  float64\n",
      " 15  Temp3pm        58090 non-null  float64\n",
      " 16  RainToday      58090 non-null  int64  \n",
      " 17  RainTomorrow   58090 non-null  int64  \n",
      "dtypes: float64(16), int64(2)\n",
      "memory usage: 8.4 MB\n"
     ]
    }
   ],
   "execution_count": 94
  },
  {
   "metadata": {
    "ExecuteTime": {
     "end_time": "2024-09-11T10:01:24.181462Z",
     "start_time": "2024-09-11T10:01:23.886139Z"
    }
   },
   "cell_type": "code",
   "source": [
    "X = df.drop('RainTomorrow', axis=1)\n",
    "X.shape"
   ],
   "id": "a93cbb8b16eb8652",
   "outputs": [
    {
     "data": {
      "text/plain": [
       "(58090, 17)"
      ]
     },
     "execution_count": 95,
     "metadata": {},
     "output_type": "execute_result"
    }
   ],
   "execution_count": 95
  },
  {
   "metadata": {},
   "cell_type": "markdown",
   "source": "# Splitting",
   "id": "cb0aea08d2ccd55"
  },
  {
   "metadata": {
    "ExecuteTime": {
     "end_time": "2024-09-11T10:01:24.495971Z",
     "start_time": "2024-09-11T10:01:24.185484Z"
    }
   },
   "cell_type": "code",
   "source": [
    "from sklearn.model_selection import train_test_split\n",
    "X_train, X_test = train_test_split(X, test_size=0.2)\n",
    "\n",
    "X_train.shape, X_test.shape"
   ],
   "id": "d061b99d1d24415a",
   "outputs": [
    {
     "data": {
      "text/plain": [
       "((46472, 17), (11618, 17))"
      ]
     },
     "execution_count": 96,
     "metadata": {},
     "output_type": "execute_result"
    }
   ],
   "execution_count": 96
  },
  {
   "metadata": {
    "ExecuteTime": {
     "end_time": "2024-09-11T10:04:29.949216Z",
     "start_time": "2024-09-11T10:04:27.705057Z"
    }
   },
   "cell_type": "code",
   "source": [
    "X_train.to_csv(r\"D:\\workshop\\data\\aussie_rain\\train.csv\", index=False)\n",
    "X_test.to_csv(r\"D:\\workshop\\data\\aussie_rain\\test.csv\", index=False)"
   ],
   "id": "bfa952d7a4f78242",
   "outputs": [],
   "execution_count": 103
  },
  {
   "metadata": {},
   "cell_type": "markdown",
   "source": "# Check Data Module",
   "id": "7d6d7a9710402a8d"
  },
  {
   "metadata": {
    "ExecuteTime": {
     "end_time": "2024-09-11T10:29:44.799296Z",
     "start_time": "2024-09-11T10:29:39.235004Z"
    }
   },
   "cell_type": "code",
   "source": [
    "from aussie_rain_train import AusRainDataModule\n",
    "dm = AusRainDataModule()"
   ],
   "id": "68feaf284698b108",
   "outputs": [],
   "execution_count": 127
  },
  {
   "metadata": {
    "ExecuteTime": {
     "end_time": "2024-09-11T10:29:45.316063Z",
     "start_time": "2024-09-11T10:29:44.804317Z"
    }
   },
   "cell_type": "code",
   "source": "dm.setup(stage='fit')",
   "id": "f3b565a98240ac16",
   "outputs": [
    {
     "name": "stdout",
     "output_type": "stream",
     "text": [
      "\u001B[32m12:29:45\u001B[0m | \u001B[34m\u001B[1mDEBUG   \u001B[0m | \u001B[34m\u001B[1mX shape - (46472, 17)\u001B[0m\n",
      "\u001B[32m12:29:45\u001B[0m | \u001B[34m\u001B[1mDEBUG   \u001B[0m | \u001B[34m\u001B[1mX_train      - torch.Size([37177, 17])   - torch.float32\u001B[0m\n",
      "\u001B[32m12:29:45\u001B[0m | \u001B[34m\u001B[1mDEBUG   \u001B[0m | \u001B[34m\u001B[1mX_val shape  - torch.Size([9295, 17])     - torch.float32\u001B[0m\n",
      "\u001B[32m12:29:45\u001B[0m | \u001B[1mINFO    \u001B[0m | \u001B[1mTotal Dataset       : 46472 samples\u001B[0m\n",
      "\u001B[32m12:29:45\u001B[0m | \u001B[1mINFO    \u001B[0m | \u001B[1mTrain Dataset       : 37177 samples\u001B[0m\n",
      "\u001B[32m12:29:45\u001B[0m | \u001B[1mINFO    \u001B[0m | \u001B[1mValidation Dataset  : 9295 samples\u001B[0m\n"
     ]
    }
   ],
   "execution_count": 128
  },
  {
   "metadata": {
    "ExecuteTime": {
     "end_time": "2024-09-11T10:29:45.632647Z",
     "start_time": "2024-09-11T10:29:45.320072Z"
    }
   },
   "cell_type": "code",
   "source": [
    "sample = dm.train_dataset[0]\n",
    "sample.shape, sample.dtype"
   ],
   "id": "e49baf69bd5d273f",
   "outputs": [
    {
     "data": {
      "text/plain": [
       "(torch.Size([17]), torch.float32)"
      ]
     },
     "execution_count": 129,
     "metadata": {},
     "output_type": "execute_result"
    }
   ],
   "execution_count": 129
  },
  {
   "metadata": {},
   "cell_type": "markdown",
   "source": "# Check Model",
   "id": "ddcd22dd24126a51"
  },
  {
   "metadata": {
    "ExecuteTime": {
     "end_time": "2024-09-11T10:30:05.813105Z",
     "start_time": "2024-09-11T10:30:05.514541Z"
    }
   },
   "cell_type": "code",
   "source": [
    "from aussie_rain_train import AusRainAutoencoder\n",
    "\n",
    "input_size = 17  # Number of input features\n",
    "encoding_dim = 3  # Desired number of output dimensions\n",
    "\n",
    "autoencoder_model = AusRainAutoencoder(input_size, encoding_dim)"
   ],
   "id": "2d5f49d1a869bf4b",
   "outputs": [],
   "execution_count": 130
  },
  {
   "metadata": {
    "ExecuteTime": {
     "end_time": "2024-09-11T10:30:06.854337Z",
     "start_time": "2024-09-11T10:30:06.533432Z"
    }
   },
   "cell_type": "code",
   "source": [
    "out = autoencoder_model(sample)\n",
    "out.shape"
   ],
   "id": "4fb3b57278f0b6db",
   "outputs": [
    {
     "name": "stdout",
     "output_type": "stream",
     "text": [
      "\u001B[32m12:30:06\u001B[0m | \u001B[34m\u001B[1mDEBUG   \u001B[0m | \u001B[34m\u001B[1mInput shape : torch.Size([17])\u001B[0m\n",
      "\u001B[32m12:30:06\u001B[0m | \u001B[34m\u001B[1mDEBUG   \u001B[0m | \u001B[34m\u001B[1mEncoder Output shape : torch.Size([3])\u001B[0m\n",
      "\u001B[32m12:30:06\u001B[0m | \u001B[34m\u001B[1mDEBUG   \u001B[0m | \u001B[34m\u001B[1mDecoder Output shape : torch.Size([17])\u001B[0m\n"
     ]
    },
    {
     "data": {
      "text/plain": [
       "torch.Size([17])"
      ]
     },
     "execution_count": 131,
     "metadata": {},
     "output_type": "execute_result"
    }
   ],
   "execution_count": 131
  },
  {
   "metadata": {},
   "cell_type": "markdown",
   "source": "# Use Encoder",
   "id": "475df0ffda69b83b"
  },
  {
   "metadata": {},
   "cell_type": "code",
   "outputs": [],
   "execution_count": null,
   "source": [
    "# Encoding the data using the trained autoencoder\n",
    "# encoded_data = model.encoder(X_tensor).detach().numpy()"
   ],
   "id": "504dd3fbd78abe10"
  }
 ],
 "metadata": {
  "kernelspec": {
   "display_name": "Python 3",
   "language": "python",
   "name": "python3"
  },
  "language_info": {
   "codemirror_mode": {
    "name": "ipython",
    "version": 2
   },
   "file_extension": ".py",
   "mimetype": "text/x-python",
   "name": "python",
   "nbconvert_exporter": "python",
   "pygments_lexer": "ipython2",
   "version": "2.7.6"
  }
 },
 "nbformat": 4,
 "nbformat_minor": 5
}
